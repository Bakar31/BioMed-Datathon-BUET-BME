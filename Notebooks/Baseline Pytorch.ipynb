{
 "cells": [
  {
   "cell_type": "code",
   "execution_count": 1,
   "id": "1b1b3587",
   "metadata": {
    "execution": {
     "iopub.execute_input": "2024-02-12T10:46:03.201508Z",
     "iopub.status.busy": "2024-02-12T10:46:03.201120Z",
     "iopub.status.idle": "2024-02-12T10:46:03.919159Z",
     "shell.execute_reply": "2024-02-12T10:46:03.918388Z"
    },
    "papermill": {
     "duration": 0.728851,
     "end_time": "2024-02-12T10:46:03.921468",
     "exception": false,
     "start_time": "2024-02-12T10:46:03.192617",
     "status": "completed"
    },
    "tags": []
   },
   "outputs": [],
   "source": [
    "import numpy as np\n",
    "import pandas as pd\n",
    "import matplotlib.pyplot as plt"
   ]
  },
  {
   "cell_type": "code",
   "execution_count": 2,
   "id": "da536116",
   "metadata": {
    "execution": {
     "iopub.execute_input": "2024-02-12T10:46:03.936271Z",
     "iopub.status.busy": "2024-02-12T10:46:03.935830Z",
     "iopub.status.idle": "2024-02-12T10:46:03.939849Z",
     "shell.execute_reply": "2024-02-12T10:46:03.939028Z"
    },
    "papermill": {
     "duration": 0.013449,
     "end_time": "2024-02-12T10:46:03.941745",
     "exception": false,
     "start_time": "2024-02-12T10:46:03.928296",
     "status": "completed"
    },
    "tags": []
   },
   "outputs": [],
   "source": [
    "BASE_URL = '/kaggle/input/biomed-datathon-bmefest2/train/'"
   ]
  },
  {
   "cell_type": "code",
   "execution_count": 3,
   "id": "1767201d",
   "metadata": {
    "execution": {
     "iopub.execute_input": "2024-02-12T10:46:03.955704Z",
     "iopub.status.busy": "2024-02-12T10:46:03.955431Z",
     "iopub.status.idle": "2024-02-12T10:46:03.975864Z",
     "shell.execute_reply": "2024-02-12T10:46:03.975095Z"
    },
    "papermill": {
     "duration": 0.029647,
     "end_time": "2024-02-12T10:46:03.977791",
     "exception": false,
     "start_time": "2024-02-12T10:46:03.948144",
     "status": "completed"
    },
    "tags": []
   },
   "outputs": [],
   "source": [
    "train = pd.read_csv('/kaggle/input/biomed-datathon-bmefest2/train.csv')"
   ]
  },
  {
   "cell_type": "code",
   "execution_count": 4,
   "id": "87480783",
   "metadata": {
    "execution": {
     "iopub.execute_input": "2024-02-12T10:46:03.992012Z",
     "iopub.status.busy": "2024-02-12T10:46:03.991733Z",
     "iopub.status.idle": "2024-02-12T10:46:04.011012Z",
     "shell.execute_reply": "2024-02-12T10:46:04.010149Z"
    },
    "papermill": {
     "duration": 0.02851,
     "end_time": "2024-02-12T10:46:04.012946",
     "exception": false,
     "start_time": "2024-02-12T10:46:03.984436",
     "status": "completed"
    },
    "tags": []
   },
   "outputs": [
    {
     "data": {
      "text/html": [
       "<div>\n",
       "<style scoped>\n",
       "    .dataframe tbody tr th:only-of-type {\n",
       "        vertical-align: middle;\n",
       "    }\n",
       "\n",
       "    .dataframe tbody tr th {\n",
       "        vertical-align: top;\n",
       "    }\n",
       "\n",
       "    .dataframe thead th {\n",
       "        text-align: right;\n",
       "    }\n",
       "</style>\n",
       "<table border=\"1\" class=\"dataframe\">\n",
       "  <thead>\n",
       "    <tr style=\"text-align: right;\">\n",
       "      <th></th>\n",
       "      <th>patient_id</th>\n",
       "      <th>AS</th>\n",
       "      <th>AR</th>\n",
       "      <th>MR</th>\n",
       "      <th>MS</th>\n",
       "      <th>N</th>\n",
       "      <th>recording_1</th>\n",
       "      <th>recording_2</th>\n",
       "      <th>recording_3</th>\n",
       "      <th>recording_4</th>\n",
       "      <th>recording_5</th>\n",
       "      <th>recording_6</th>\n",
       "      <th>recording_7</th>\n",
       "      <th>recording_8</th>\n",
       "    </tr>\n",
       "  </thead>\n",
       "  <tbody>\n",
       "    <tr>\n",
       "      <th>0</th>\n",
       "      <td>patient_052</td>\n",
       "      <td>0</td>\n",
       "      <td>1</td>\n",
       "      <td>0</td>\n",
       "      <td>0</td>\n",
       "      <td>0</td>\n",
       "      <td>052_sup_Mit</td>\n",
       "      <td>052_sup_Tri</td>\n",
       "      <td>052_sup_Pul</td>\n",
       "      <td>052_sup_Aor</td>\n",
       "      <td>052_sit_Mit</td>\n",
       "      <td>052_sit_Tri</td>\n",
       "      <td>052_sit_Pul</td>\n",
       "      <td>052_sit_Aor</td>\n",
       "    </tr>\n",
       "    <tr>\n",
       "      <th>1</th>\n",
       "      <td>patient_058</td>\n",
       "      <td>0</td>\n",
       "      <td>1</td>\n",
       "      <td>0</td>\n",
       "      <td>0</td>\n",
       "      <td>0</td>\n",
       "      <td>058_sup_Mit</td>\n",
       "      <td>058_sup_Tri</td>\n",
       "      <td>058_sup_Pul</td>\n",
       "      <td>058_sup_Aor</td>\n",
       "      <td>058_sit_Mit</td>\n",
       "      <td>058_sit_Tri</td>\n",
       "      <td>058_sit_Pul</td>\n",
       "      <td>058_sit_Aor</td>\n",
       "    </tr>\n",
       "    <tr>\n",
       "      <th>2</th>\n",
       "      <td>patient_068</td>\n",
       "      <td>0</td>\n",
       "      <td>1</td>\n",
       "      <td>0</td>\n",
       "      <td>0</td>\n",
       "      <td>0</td>\n",
       "      <td>068_sup_Mit</td>\n",
       "      <td>068_sup_Tri</td>\n",
       "      <td>068_sup_Pul</td>\n",
       "      <td>068_sup_Aor</td>\n",
       "      <td>068_sit_Mit</td>\n",
       "      <td>068_sit_Tri</td>\n",
       "      <td>068_sit_Pul</td>\n",
       "      <td>068_sit_Aor</td>\n",
       "    </tr>\n",
       "    <tr>\n",
       "      <th>3</th>\n",
       "      <td>patient_074</td>\n",
       "      <td>0</td>\n",
       "      <td>1</td>\n",
       "      <td>0</td>\n",
       "      <td>0</td>\n",
       "      <td>0</td>\n",
       "      <td>074_sup_Mit</td>\n",
       "      <td>074_sup_Tri</td>\n",
       "      <td>074_sup_Pul</td>\n",
       "      <td>074_sup_Aor</td>\n",
       "      <td>074_sit_Mit</td>\n",
       "      <td>074_sit_Tri</td>\n",
       "      <td>074_sit_Pul</td>\n",
       "      <td>074_sit_Aor</td>\n",
       "    </tr>\n",
       "    <tr>\n",
       "      <th>4</th>\n",
       "      <td>patient_054</td>\n",
       "      <td>1</td>\n",
       "      <td>0</td>\n",
       "      <td>0</td>\n",
       "      <td>0</td>\n",
       "      <td>0</td>\n",
       "      <td>054_sup_Mit</td>\n",
       "      <td>054_sup_Tri</td>\n",
       "      <td>054_sup_Pul</td>\n",
       "      <td>054_sup_Aor</td>\n",
       "      <td>054_sit_Mit</td>\n",
       "      <td>054_sit_Tri</td>\n",
       "      <td>054_sit_Pul</td>\n",
       "      <td>054_sit_Aor</td>\n",
       "    </tr>\n",
       "  </tbody>\n",
       "</table>\n",
       "</div>"
      ],
      "text/plain": [
       "    patient_id  AS  AR  MR  MS  N  recording_1  recording_2  recording_3  \\\n",
       "0  patient_052   0   1   0   0  0  052_sup_Mit  052_sup_Tri  052_sup_Pul   \n",
       "1  patient_058   0   1   0   0  0  058_sup_Mit  058_sup_Tri  058_sup_Pul   \n",
       "2  patient_068   0   1   0   0  0  068_sup_Mit  068_sup_Tri  068_sup_Pul   \n",
       "3  patient_074   0   1   0   0  0  074_sup_Mit  074_sup_Tri  074_sup_Pul   \n",
       "4  patient_054   1   0   0   0  0  054_sup_Mit  054_sup_Tri  054_sup_Pul   \n",
       "\n",
       "   recording_4  recording_5  recording_6  recording_7  recording_8  \n",
       "0  052_sup_Aor  052_sit_Mit  052_sit_Tri  052_sit_Pul  052_sit_Aor  \n",
       "1  058_sup_Aor  058_sit_Mit  058_sit_Tri  058_sit_Pul  058_sit_Aor  \n",
       "2  068_sup_Aor  068_sit_Mit  068_sit_Tri  068_sit_Pul  068_sit_Aor  \n",
       "3  074_sup_Aor  074_sit_Mit  074_sit_Tri  074_sit_Pul  074_sit_Aor  \n",
       "4  054_sup_Aor  054_sit_Mit  054_sit_Tri  054_sit_Pul  054_sit_Aor  "
      ]
     },
     "execution_count": 4,
     "metadata": {},
     "output_type": "execute_result"
    }
   ],
   "source": [
    "train.head()"
   ]
  },
  {
   "cell_type": "code",
   "execution_count": 5,
   "id": "9248810f",
   "metadata": {
    "execution": {
     "iopub.execute_input": "2024-02-12T10:46:04.028006Z",
     "iopub.status.busy": "2024-02-12T10:46:04.027750Z",
     "iopub.status.idle": "2024-02-12T10:46:04.039552Z",
     "shell.execute_reply": "2024-02-12T10:46:04.038833Z"
    },
    "papermill": {
     "duration": 0.021628,
     "end_time": "2024-02-12T10:46:04.041438",
     "exception": false,
     "start_time": "2024-02-12T10:46:04.019810",
     "status": "completed"
    },
    "tags": []
   },
   "outputs": [],
   "source": [
    "train[\"recording_1\"] = train[\"recording_1\"].apply(lambda x: BASE_URL + x + \".wav\")\n",
    "train[\"recording_2\"] = train[\"recording_2\"].apply(lambda x: BASE_URL + x + \".wav\")\n",
    "train[\"recording_3\"] = train[\"recording_3\"].apply(lambda x: BASE_URL + x + \".wav\")\n",
    "train[\"recording_4\"] = train[\"recording_4\"].apply(lambda x: BASE_URL + x + \".wav\")\n",
    "train[\"recording_5\"] = train[\"recording_5\"].apply(lambda x: BASE_URL + x + \".wav\")\n",
    "train[\"recording_6\"] = train[\"recording_6\"].apply(lambda x: BASE_URL + x + \".wav\")\n",
    "train[\"recording_7\"] = train[\"recording_7\"].apply(lambda x: BASE_URL + x + \".wav\")\n",
    "train[\"recording_8\"] = train[\"recording_8\"].apply(lambda x: BASE_URL + x + \".wav\")"
   ]
  },
  {
   "cell_type": "code",
   "execution_count": 6,
   "id": "f7a2ef49",
   "metadata": {
    "execution": {
     "iopub.execute_input": "2024-02-12T10:46:04.055753Z",
     "iopub.status.busy": "2024-02-12T10:46:04.055481Z",
     "iopub.status.idle": "2024-02-12T10:46:04.070746Z",
     "shell.execute_reply": "2024-02-12T10:46:04.069819Z"
    },
    "papermill": {
     "duration": 0.024861,
     "end_time": "2024-02-12T10:46:04.072933",
     "exception": false,
     "start_time": "2024-02-12T10:46:04.048072",
     "status": "completed"
    },
    "tags": []
   },
   "outputs": [
    {
     "data": {
      "text/html": [
       "<div>\n",
       "<style scoped>\n",
       "    .dataframe tbody tr th:only-of-type {\n",
       "        vertical-align: middle;\n",
       "    }\n",
       "\n",
       "    .dataframe tbody tr th {\n",
       "        vertical-align: top;\n",
       "    }\n",
       "\n",
       "    .dataframe thead th {\n",
       "        text-align: right;\n",
       "    }\n",
       "</style>\n",
       "<table border=\"1\" class=\"dataframe\">\n",
       "  <thead>\n",
       "    <tr style=\"text-align: right;\">\n",
       "      <th></th>\n",
       "      <th>patient_id</th>\n",
       "      <th>AS</th>\n",
       "      <th>AR</th>\n",
       "      <th>MR</th>\n",
       "      <th>MS</th>\n",
       "      <th>N</th>\n",
       "      <th>recording_1</th>\n",
       "      <th>recording_2</th>\n",
       "      <th>recording_3</th>\n",
       "      <th>recording_4</th>\n",
       "      <th>recording_5</th>\n",
       "      <th>recording_6</th>\n",
       "      <th>recording_7</th>\n",
       "      <th>recording_8</th>\n",
       "    </tr>\n",
       "  </thead>\n",
       "  <tbody>\n",
       "    <tr>\n",
       "      <th>0</th>\n",
       "      <td>patient_052</td>\n",
       "      <td>0</td>\n",
       "      <td>1</td>\n",
       "      <td>0</td>\n",
       "      <td>0</td>\n",
       "      <td>0</td>\n",
       "      <td>/kaggle/input/biomed-datathon-bmefest2/train/0...</td>\n",
       "      <td>/kaggle/input/biomed-datathon-bmefest2/train/0...</td>\n",
       "      <td>/kaggle/input/biomed-datathon-bmefest2/train/0...</td>\n",
       "      <td>/kaggle/input/biomed-datathon-bmefest2/train/0...</td>\n",
       "      <td>/kaggle/input/biomed-datathon-bmefest2/train/0...</td>\n",
       "      <td>/kaggle/input/biomed-datathon-bmefest2/train/0...</td>\n",
       "      <td>/kaggle/input/biomed-datathon-bmefest2/train/0...</td>\n",
       "      <td>/kaggle/input/biomed-datathon-bmefest2/train/0...</td>\n",
       "    </tr>\n",
       "    <tr>\n",
       "      <th>1</th>\n",
       "      <td>patient_058</td>\n",
       "      <td>0</td>\n",
       "      <td>1</td>\n",
       "      <td>0</td>\n",
       "      <td>0</td>\n",
       "      <td>0</td>\n",
       "      <td>/kaggle/input/biomed-datathon-bmefest2/train/0...</td>\n",
       "      <td>/kaggle/input/biomed-datathon-bmefest2/train/0...</td>\n",
       "      <td>/kaggle/input/biomed-datathon-bmefest2/train/0...</td>\n",
       "      <td>/kaggle/input/biomed-datathon-bmefest2/train/0...</td>\n",
       "      <td>/kaggle/input/biomed-datathon-bmefest2/train/0...</td>\n",
       "      <td>/kaggle/input/biomed-datathon-bmefest2/train/0...</td>\n",
       "      <td>/kaggle/input/biomed-datathon-bmefest2/train/0...</td>\n",
       "      <td>/kaggle/input/biomed-datathon-bmefest2/train/0...</td>\n",
       "    </tr>\n",
       "    <tr>\n",
       "      <th>2</th>\n",
       "      <td>patient_068</td>\n",
       "      <td>0</td>\n",
       "      <td>1</td>\n",
       "      <td>0</td>\n",
       "      <td>0</td>\n",
       "      <td>0</td>\n",
       "      <td>/kaggle/input/biomed-datathon-bmefest2/train/0...</td>\n",
       "      <td>/kaggle/input/biomed-datathon-bmefest2/train/0...</td>\n",
       "      <td>/kaggle/input/biomed-datathon-bmefest2/train/0...</td>\n",
       "      <td>/kaggle/input/biomed-datathon-bmefest2/train/0...</td>\n",
       "      <td>/kaggle/input/biomed-datathon-bmefest2/train/0...</td>\n",
       "      <td>/kaggle/input/biomed-datathon-bmefest2/train/0...</td>\n",
       "      <td>/kaggle/input/biomed-datathon-bmefest2/train/0...</td>\n",
       "      <td>/kaggle/input/biomed-datathon-bmefest2/train/0...</td>\n",
       "    </tr>\n",
       "    <tr>\n",
       "      <th>3</th>\n",
       "      <td>patient_074</td>\n",
       "      <td>0</td>\n",
       "      <td>1</td>\n",
       "      <td>0</td>\n",
       "      <td>0</td>\n",
       "      <td>0</td>\n",
       "      <td>/kaggle/input/biomed-datathon-bmefest2/train/0...</td>\n",
       "      <td>/kaggle/input/biomed-datathon-bmefest2/train/0...</td>\n",
       "      <td>/kaggle/input/biomed-datathon-bmefest2/train/0...</td>\n",
       "      <td>/kaggle/input/biomed-datathon-bmefest2/train/0...</td>\n",
       "      <td>/kaggle/input/biomed-datathon-bmefest2/train/0...</td>\n",
       "      <td>/kaggle/input/biomed-datathon-bmefest2/train/0...</td>\n",
       "      <td>/kaggle/input/biomed-datathon-bmefest2/train/0...</td>\n",
       "      <td>/kaggle/input/biomed-datathon-bmefest2/train/0...</td>\n",
       "    </tr>\n",
       "    <tr>\n",
       "      <th>4</th>\n",
       "      <td>patient_054</td>\n",
       "      <td>1</td>\n",
       "      <td>0</td>\n",
       "      <td>0</td>\n",
       "      <td>0</td>\n",
       "      <td>0</td>\n",
       "      <td>/kaggle/input/biomed-datathon-bmefest2/train/0...</td>\n",
       "      <td>/kaggle/input/biomed-datathon-bmefest2/train/0...</td>\n",
       "      <td>/kaggle/input/biomed-datathon-bmefest2/train/0...</td>\n",
       "      <td>/kaggle/input/biomed-datathon-bmefest2/train/0...</td>\n",
       "      <td>/kaggle/input/biomed-datathon-bmefest2/train/0...</td>\n",
       "      <td>/kaggle/input/biomed-datathon-bmefest2/train/0...</td>\n",
       "      <td>/kaggle/input/biomed-datathon-bmefest2/train/0...</td>\n",
       "      <td>/kaggle/input/biomed-datathon-bmefest2/train/0...</td>\n",
       "    </tr>\n",
       "  </tbody>\n",
       "</table>\n",
       "</div>"
      ],
      "text/plain": [
       "    patient_id  AS  AR  MR  MS  N  \\\n",
       "0  patient_052   0   1   0   0  0   \n",
       "1  patient_058   0   1   0   0  0   \n",
       "2  patient_068   0   1   0   0  0   \n",
       "3  patient_074   0   1   0   0  0   \n",
       "4  patient_054   1   0   0   0  0   \n",
       "\n",
       "                                         recording_1  \\\n",
       "0  /kaggle/input/biomed-datathon-bmefest2/train/0...   \n",
       "1  /kaggle/input/biomed-datathon-bmefest2/train/0...   \n",
       "2  /kaggle/input/biomed-datathon-bmefest2/train/0...   \n",
       "3  /kaggle/input/biomed-datathon-bmefest2/train/0...   \n",
       "4  /kaggle/input/biomed-datathon-bmefest2/train/0...   \n",
       "\n",
       "                                         recording_2  \\\n",
       "0  /kaggle/input/biomed-datathon-bmefest2/train/0...   \n",
       "1  /kaggle/input/biomed-datathon-bmefest2/train/0...   \n",
       "2  /kaggle/input/biomed-datathon-bmefest2/train/0...   \n",
       "3  /kaggle/input/biomed-datathon-bmefest2/train/0...   \n",
       "4  /kaggle/input/biomed-datathon-bmefest2/train/0...   \n",
       "\n",
       "                                         recording_3  \\\n",
       "0  /kaggle/input/biomed-datathon-bmefest2/train/0...   \n",
       "1  /kaggle/input/biomed-datathon-bmefest2/train/0...   \n",
       "2  /kaggle/input/biomed-datathon-bmefest2/train/0...   \n",
       "3  /kaggle/input/biomed-datathon-bmefest2/train/0...   \n",
       "4  /kaggle/input/biomed-datathon-bmefest2/train/0...   \n",
       "\n",
       "                                         recording_4  \\\n",
       "0  /kaggle/input/biomed-datathon-bmefest2/train/0...   \n",
       "1  /kaggle/input/biomed-datathon-bmefest2/train/0...   \n",
       "2  /kaggle/input/biomed-datathon-bmefest2/train/0...   \n",
       "3  /kaggle/input/biomed-datathon-bmefest2/train/0...   \n",
       "4  /kaggle/input/biomed-datathon-bmefest2/train/0...   \n",
       "\n",
       "                                         recording_5  \\\n",
       "0  /kaggle/input/biomed-datathon-bmefest2/train/0...   \n",
       "1  /kaggle/input/biomed-datathon-bmefest2/train/0...   \n",
       "2  /kaggle/input/biomed-datathon-bmefest2/train/0...   \n",
       "3  /kaggle/input/biomed-datathon-bmefest2/train/0...   \n",
       "4  /kaggle/input/biomed-datathon-bmefest2/train/0...   \n",
       "\n",
       "                                         recording_6  \\\n",
       "0  /kaggle/input/biomed-datathon-bmefest2/train/0...   \n",
       "1  /kaggle/input/biomed-datathon-bmefest2/train/0...   \n",
       "2  /kaggle/input/biomed-datathon-bmefest2/train/0...   \n",
       "3  /kaggle/input/biomed-datathon-bmefest2/train/0...   \n",
       "4  /kaggle/input/biomed-datathon-bmefest2/train/0...   \n",
       "\n",
       "                                         recording_7  \\\n",
       "0  /kaggle/input/biomed-datathon-bmefest2/train/0...   \n",
       "1  /kaggle/input/biomed-datathon-bmefest2/train/0...   \n",
       "2  /kaggle/input/biomed-datathon-bmefest2/train/0...   \n",
       "3  /kaggle/input/biomed-datathon-bmefest2/train/0...   \n",
       "4  /kaggle/input/biomed-datathon-bmefest2/train/0...   \n",
       "\n",
       "                                         recording_8  \n",
       "0  /kaggle/input/biomed-datathon-bmefest2/train/0...  \n",
       "1  /kaggle/input/biomed-datathon-bmefest2/train/0...  \n",
       "2  /kaggle/input/biomed-datathon-bmefest2/train/0...  \n",
       "3  /kaggle/input/biomed-datathon-bmefest2/train/0...  \n",
       "4  /kaggle/input/biomed-datathon-bmefest2/train/0...  "
      ]
     },
     "execution_count": 6,
     "metadata": {},
     "output_type": "execute_result"
    }
   ],
   "source": [
    "train.head()"
   ]
  },
  {
   "cell_type": "code",
   "execution_count": 7,
   "id": "585a8ee9",
   "metadata": {
    "execution": {
     "iopub.execute_input": "2024-02-12T10:46:04.088076Z",
     "iopub.status.busy": "2024-02-12T10:46:04.087807Z",
     "iopub.status.idle": "2024-02-12T10:46:04.098455Z",
     "shell.execute_reply": "2024-02-12T10:46:04.097723Z"
    },
    "papermill": {
     "duration": 0.020295,
     "end_time": "2024-02-12T10:46:04.100219",
     "exception": false,
     "start_time": "2024-02-12T10:46:04.079924",
     "status": "completed"
    },
    "tags": []
   },
   "outputs": [],
   "source": [
    "patient_id_to_drop = \"patient_085\"\n",
    "train = train[train[\"patient_id\"] != patient_id_to_drop]"
   ]
  },
  {
   "cell_type": "code",
   "execution_count": 8,
   "id": "2fce3835",
   "metadata": {
    "execution": {
     "iopub.execute_input": "2024-02-12T10:46:04.116166Z",
     "iopub.status.busy": "2024-02-12T10:46:04.115882Z",
     "iopub.status.idle": "2024-02-12T10:46:04.136764Z",
     "shell.execute_reply": "2024-02-12T10:46:04.135938Z"
    },
    "papermill": {
     "duration": 0.03156,
     "end_time": "2024-02-12T10:46:04.138721",
     "exception": false,
     "start_time": "2024-02-12T10:46:04.107161",
     "status": "completed"
    },
    "tags": []
   },
   "outputs": [
    {
     "data": {
      "text/html": [
       "<div>\n",
       "<style scoped>\n",
       "    .dataframe tbody tr th:only-of-type {\n",
       "        vertical-align: middle;\n",
       "    }\n",
       "\n",
       "    .dataframe tbody tr th {\n",
       "        vertical-align: top;\n",
       "    }\n",
       "\n",
       "    .dataframe thead th {\n",
       "        text-align: right;\n",
       "    }\n",
       "</style>\n",
       "<table border=\"1\" class=\"dataframe\">\n",
       "  <thead>\n",
       "    <tr style=\"text-align: right;\">\n",
       "      <th></th>\n",
       "      <th>patient_id</th>\n",
       "      <th>recording_1</th>\n",
       "      <th>recording_2</th>\n",
       "      <th>recording_3</th>\n",
       "      <th>recording_4</th>\n",
       "      <th>recording_5</th>\n",
       "      <th>recording_6</th>\n",
       "      <th>recording_7</th>\n",
       "      <th>recording_8</th>\n",
       "    </tr>\n",
       "  </thead>\n",
       "  <tbody>\n",
       "    <tr>\n",
       "      <th>0</th>\n",
       "      <td>patient_001</td>\n",
       "      <td>001_sit_Aor</td>\n",
       "      <td>001_sit_Mit</td>\n",
       "      <td>001_sit_Pul</td>\n",
       "      <td>001_sit_Tri</td>\n",
       "      <td>001_sup_Aor</td>\n",
       "      <td>001_sup_Mit</td>\n",
       "      <td>001_sup_Pul</td>\n",
       "      <td>001_sup_Tri</td>\n",
       "    </tr>\n",
       "    <tr>\n",
       "      <th>1</th>\n",
       "      <td>patient_003</td>\n",
       "      <td>003_sit_Aor</td>\n",
       "      <td>003_sit_Mit</td>\n",
       "      <td>003_sit_Pul</td>\n",
       "      <td>003_sit_Tri</td>\n",
       "      <td>003_sup_Aor</td>\n",
       "      <td>003_sup_Mit</td>\n",
       "      <td>003_sup_Pul</td>\n",
       "      <td>003_sup_Tri</td>\n",
       "    </tr>\n",
       "    <tr>\n",
       "      <th>2</th>\n",
       "      <td>patient_005</td>\n",
       "      <td>005_sit_Aor</td>\n",
       "      <td>005_sit_Mit</td>\n",
       "      <td>005_sit_Pul</td>\n",
       "      <td>005_sit_Tri</td>\n",
       "      <td>005_sup_Aor</td>\n",
       "      <td>005_sup_Mit</td>\n",
       "      <td>005_sup_Pul</td>\n",
       "      <td>005_sup_Tri</td>\n",
       "    </tr>\n",
       "    <tr>\n",
       "      <th>3</th>\n",
       "      <td>patient_007</td>\n",
       "      <td>007_sit_Aor</td>\n",
       "      <td>007_sit_Mit</td>\n",
       "      <td>007_sit_Pul</td>\n",
       "      <td>007_sit_Tri</td>\n",
       "      <td>007_sup_Aor</td>\n",
       "      <td>007_sup_Mit</td>\n",
       "      <td>007_sup_Pul</td>\n",
       "      <td>007_sup_Tri</td>\n",
       "    </tr>\n",
       "    <tr>\n",
       "      <th>4</th>\n",
       "      <td>patient_008</td>\n",
       "      <td>008_sit_Aor</td>\n",
       "      <td>008_sit_Mit</td>\n",
       "      <td>008_sit_Pul</td>\n",
       "      <td>008_sit_Tri</td>\n",
       "      <td>008_sup_Aor</td>\n",
       "      <td>008_sup_Mit</td>\n",
       "      <td>008_sup_Pul</td>\n",
       "      <td>008_sup_Tri</td>\n",
       "    </tr>\n",
       "  </tbody>\n",
       "</table>\n",
       "</div>"
      ],
      "text/plain": [
       "    patient_id  recording_1  recording_2  recording_3  recording_4  \\\n",
       "0  patient_001  001_sit_Aor  001_sit_Mit  001_sit_Pul  001_sit_Tri   \n",
       "1  patient_003  003_sit_Aor  003_sit_Mit  003_sit_Pul  003_sit_Tri   \n",
       "2  patient_005  005_sit_Aor  005_sit_Mit  005_sit_Pul  005_sit_Tri   \n",
       "3  patient_007  007_sit_Aor  007_sit_Mit  007_sit_Pul  007_sit_Tri   \n",
       "4  patient_008  008_sit_Aor  008_sit_Mit  008_sit_Pul  008_sit_Tri   \n",
       "\n",
       "   recording_5  recording_6  recording_7  recording_8  \n",
       "0  001_sup_Aor  001_sup_Mit  001_sup_Pul  001_sup_Tri  \n",
       "1  003_sup_Aor  003_sup_Mit  003_sup_Pul  003_sup_Tri  \n",
       "2  005_sup_Aor  005_sup_Mit  005_sup_Pul  005_sup_Tri  \n",
       "3  007_sup_Aor  007_sup_Mit  007_sup_Pul  007_sup_Tri  \n",
       "4  008_sup_Aor  008_sup_Mit  008_sup_Pul  008_sup_Tri  "
      ]
     },
     "execution_count": 8,
     "metadata": {},
     "output_type": "execute_result"
    }
   ],
   "source": [
    "test = pd.read_csv(\"/kaggle/input/biomed-datathon-bmefest2/test_files.csv\")\n",
    "test.head()"
   ]
  },
  {
   "cell_type": "code",
   "execution_count": 9,
   "id": "f268e00b",
   "metadata": {
    "execution": {
     "iopub.execute_input": "2024-02-12T10:46:04.154549Z",
     "iopub.status.busy": "2024-02-12T10:46:04.154042Z",
     "iopub.status.idle": "2024-02-12T10:46:04.186665Z",
     "shell.execute_reply": "2024-02-12T10:46:04.185809Z"
    },
    "papermill": {
     "duration": 0.042674,
     "end_time": "2024-02-12T10:46:04.188695",
     "exception": false,
     "start_time": "2024-02-12T10:46:04.146021",
     "status": "completed"
    },
    "tags": []
   },
   "outputs": [
    {
     "data": {
      "text/html": [
       "<div>\n",
       "<style scoped>\n",
       "    .dataframe tbody tr th:only-of-type {\n",
       "        vertical-align: middle;\n",
       "    }\n",
       "\n",
       "    .dataframe tbody tr th {\n",
       "        vertical-align: top;\n",
       "    }\n",
       "\n",
       "    .dataframe thead th {\n",
       "        text-align: right;\n",
       "    }\n",
       "</style>\n",
       "<table border=\"1\" class=\"dataframe\">\n",
       "  <thead>\n",
       "    <tr style=\"text-align: right;\">\n",
       "      <th></th>\n",
       "      <th>patient_id</th>\n",
       "      <th>Age</th>\n",
       "      <th>Gender</th>\n",
       "      <th>Smoker</th>\n",
       "      <th>Lives</th>\n",
       "    </tr>\n",
       "  </thead>\n",
       "  <tbody>\n",
       "    <tr>\n",
       "      <th>0</th>\n",
       "      <td>patient_002</td>\n",
       "      <td>37</td>\n",
       "      <td>M</td>\n",
       "      <td>1</td>\n",
       "      <td>U</td>\n",
       "    </tr>\n",
       "    <tr>\n",
       "      <th>1</th>\n",
       "      <td>patient_004</td>\n",
       "      <td>21</td>\n",
       "      <td>M</td>\n",
       "      <td>0</td>\n",
       "      <td>R</td>\n",
       "    </tr>\n",
       "    <tr>\n",
       "      <th>2</th>\n",
       "      <td>patient_006</td>\n",
       "      <td>35</td>\n",
       "      <td>M</td>\n",
       "      <td>1</td>\n",
       "      <td>U</td>\n",
       "    </tr>\n",
       "    <tr>\n",
       "      <th>3</th>\n",
       "      <td>patient_010</td>\n",
       "      <td>26</td>\n",
       "      <td>F</td>\n",
       "      <td>0</td>\n",
       "      <td>R</td>\n",
       "    </tr>\n",
       "    <tr>\n",
       "      <th>4</th>\n",
       "      <td>patient_011</td>\n",
       "      <td>46</td>\n",
       "      <td>F</td>\n",
       "      <td>0</td>\n",
       "      <td>R</td>\n",
       "    </tr>\n",
       "  </tbody>\n",
       "</table>\n",
       "</div>"
      ],
      "text/plain": [
       "    patient_id  Age Gender  Smoker Lives\n",
       "0  patient_002   37      M       1     U\n",
       "1  patient_004   21      M       0     R\n",
       "2  patient_006   35      M       1     U\n",
       "3  patient_010   26      F       0     R\n",
       "4  patient_011   46      F       0     R"
      ]
     },
     "execution_count": 9,
     "metadata": {},
     "output_type": "execute_result"
    }
   ],
   "source": [
    "am = pd.read_csv(\"/kaggle/input/biomed-datathon-bmefest2/additional_metadata.csv\")\n",
    "am.head()"
   ]
  },
  {
   "cell_type": "code",
   "execution_count": 10,
   "id": "a2634964",
   "metadata": {
    "execution": {
     "iopub.execute_input": "2024-02-12T10:46:04.206450Z",
     "iopub.status.busy": "2024-02-12T10:46:04.205873Z",
     "iopub.status.idle": "2024-02-12T10:46:09.026928Z",
     "shell.execute_reply": "2024-02-12T10:46:09.026105Z"
    },
    "papermill": {
     "duration": 4.831972,
     "end_time": "2024-02-12T10:46:09.029133",
     "exception": false,
     "start_time": "2024-02-12T10:46:04.197161",
     "status": "completed"
    },
    "tags": []
   },
   "outputs": [],
   "source": [
    "import torch\n",
    "import torch.nn as nn\n",
    "import torch.optim as optim\n",
    "from torch.utils.data import Dataset, DataLoader\n",
    "import librosa\n",
    "from sklearn.model_selection import train_test_split"
   ]
  },
  {
   "cell_type": "code",
   "execution_count": 11,
   "id": "cb970fd8",
   "metadata": {
    "execution": {
     "iopub.execute_input": "2024-02-12T10:46:09.046448Z",
     "iopub.status.busy": "2024-02-12T10:46:09.045723Z",
     "iopub.status.idle": "2024-02-12T10:46:09.106114Z",
     "shell.execute_reply": "2024-02-12T10:46:09.105093Z"
    },
    "papermill": {
     "duration": 0.071212,
     "end_time": "2024-02-12T10:46:09.108204",
     "exception": false,
     "start_time": "2024-02-12T10:46:09.036992",
     "status": "completed"
    },
    "tags": []
   },
   "outputs": [
    {
     "name": "stdout",
     "output_type": "stream",
     "text": [
      "Using device: cuda\n"
     ]
    }
   ],
   "source": [
    "device = torch.device(\"cuda\" if torch.cuda.is_available() else \"cpu\")\n",
    "print(\"Using device:\", device)"
   ]
  },
  {
   "cell_type": "code",
   "execution_count": 13,
   "id": "d5e6276d",
   "metadata": {
    "execution": {
     "iopub.execute_input": "2024-02-12T10:46:09.149062Z",
     "iopub.status.busy": "2024-02-12T10:46:09.148448Z",
     "iopub.status.idle": "2024-02-12T10:46:09.153361Z",
     "shell.execute_reply": "2024-02-12T10:46:09.152512Z"
    },
    "papermill": {
     "duration": 0.015399,
     "end_time": "2024-02-12T10:46:09.155195",
     "exception": false,
     "start_time": "2024-02-12T10:46:09.139796",
     "status": "completed"
    },
    "tags": []
   },
   "outputs": [],
   "source": [
    "num_classes = 5\n",
    "batch_size = 16\n",
    "learning_rate = 0.001\n",
    "num_epochs = 10\n",
    "\n",
    "duration = 20\n",
    "SR = 11000\n",
    "N_MFCC = 10\n",
    "num_frames = (duration * SR) / 512\n",
    "input_size = 34400"
   ]
  },
  {
   "cell_type": "code",
   "execution_count": 14,
   "id": "3be14732",
   "metadata": {
    "execution": {
     "iopub.execute_input": "2024-02-12T10:46:09.171879Z",
     "iopub.status.busy": "2024-02-12T10:46:09.171583Z",
     "iopub.status.idle": "2024-02-12T10:46:09.176417Z",
     "shell.execute_reply": "2024-02-12T10:46:09.175550Z"
    },
    "papermill": {
     "duration": 0.015578,
     "end_time": "2024-02-12T10:46:09.178391",
     "exception": false,
     "start_time": "2024-02-12T10:46:09.162813",
     "status": "completed"
    },
    "tags": []
   },
   "outputs": [],
   "source": [
    "def extract_features_from_url(url):\n",
    "    y, sr = librosa.load(url, sr=SR)\n",
    "    mfccs = librosa.feature.mfcc(y=y, sr=sr, n_mfcc=N_MFCC)\n",
    "    return mfccs.flatten()"
   ]
  },
  {
   "cell_type": "code",
   "execution_count": 15,
   "id": "c40d240a",
   "metadata": {
    "execution": {
     "iopub.execute_input": "2024-02-12T10:46:09.195353Z",
     "iopub.status.busy": "2024-02-12T10:46:09.194620Z",
     "iopub.status.idle": "2024-02-12T10:46:09.201426Z",
     "shell.execute_reply": "2024-02-12T10:46:09.200441Z"
    },
    "papermill": {
     "duration": 0.017316,
     "end_time": "2024-02-12T10:46:09.203346",
     "exception": false,
     "start_time": "2024-02-12T10:46:09.186030",
     "status": "completed"
    },
    "tags": []
   },
   "outputs": [],
   "source": [
    "class AudioDataset(Dataset):\n",
    "    def __init__(self, df):\n",
    "        self.data = df\n",
    "\n",
    "    def __len__(self):\n",
    "        return len(self.data)\n",
    "\n",
    "    def __getitem__(self, idx):\n",
    "        row = self.data.iloc[idx]\n",
    "        label = row[1:6].values.argmax()\n",
    "        features_list = [extract_features_from_url(row[i]) for i in range(6, len(row))]\n",
    "        features = np.concatenate(features_list, axis=0)\n",
    "        return features, label"
   ]
  },
  {
   "cell_type": "code",
   "execution_count": 16,
   "id": "69b6678c",
   "metadata": {
    "execution": {
     "iopub.execute_input": "2024-02-12T10:46:09.220290Z",
     "iopub.status.busy": "2024-02-12T10:46:09.219541Z",
     "iopub.status.idle": "2024-02-12T10:46:09.228667Z",
     "shell.execute_reply": "2024-02-12T10:46:09.227827Z"
    },
    "papermill": {
     "duration": 0.019737,
     "end_time": "2024-02-12T10:46:09.230678",
     "exception": false,
     "start_time": "2024-02-12T10:46:09.210941",
     "status": "completed"
    },
    "tags": []
   },
   "outputs": [],
   "source": [
    "class AudioClassifier(nn.Module):\n",
    "    def __init__(self, input_size, num_classes):\n",
    "        super(AudioClassifier, self).__init__()\n",
    "        self.fc1 = nn.Linear(input_size, 1024)\n",
    "        self.fc2 = nn.Linear(1024, 512)\n",
    "        self.fc3 = nn.Linear(512, 256)\n",
    "        self.fc4 = nn.Linear(256, 256)\n",
    "        self.fc5 = nn.Linear(256, 128)\n",
    "        self.fc6 = nn.Linear(128, num_classes)\n",
    "        self.relu = nn.ReLU()\n",
    "        self.dropout = nn.Dropout(0.25)\n",
    "        self.softmax = nn.Softmax(dim=1)\n",
    "\n",
    "    def forward(self, x):\n",
    "        x = self.relu(self.fc1(x))\n",
    "        x = self.dropout(x)\n",
    "        x = self.relu(self.fc2(x))\n",
    "        x = self.dropout(x)\n",
    "        x = self.relu(self.fc3(x))\n",
    "        x = self.dropout(x)\n",
    "        x = self.relu(self.fc4(x))\n",
    "        x = self.dropout(x)\n",
    "        x = self.relu(self.fc5(x))\n",
    "        x = self.softmax(self.fc6(x))\n",
    "        return x"
   ]
  },
  {
   "cell_type": "code",
   "execution_count": 17,
   "id": "2e196f58",
   "metadata": {
    "execution": {
     "iopub.execute_input": "2024-02-12T10:46:09.247719Z",
     "iopub.status.busy": "2024-02-12T10:46:09.246974Z",
     "iopub.status.idle": "2024-02-12T10:46:09.254740Z",
     "shell.execute_reply": "2024-02-12T10:46:09.253902Z"
    },
    "papermill": {
     "duration": 0.018348,
     "end_time": "2024-02-12T10:46:09.256786",
     "exception": false,
     "start_time": "2024-02-12T10:46:09.238438",
     "status": "completed"
    },
    "tags": []
   },
   "outputs": [
    {
     "data": {
      "text/plain": [
       "((46, 14), (12, 14))"
      ]
     },
     "execution_count": 17,
     "metadata": {},
     "output_type": "execute_result"
    }
   ],
   "source": [
    "train_df, val_df = train_test_split(train, test_size=0.20)\n",
    "train_df.shape, val_df.shape"
   ]
  },
  {
   "cell_type": "code",
   "execution_count": 18,
   "id": "ab68a3e6",
   "metadata": {
    "execution": {
     "iopub.execute_input": "2024-02-12T10:46:09.275210Z",
     "iopub.status.busy": "2024-02-12T10:46:09.274649Z",
     "iopub.status.idle": "2024-02-12T10:46:09.279744Z",
     "shell.execute_reply": "2024-02-12T10:46:09.278863Z"
    },
    "papermill": {
     "duration": 0.016028,
     "end_time": "2024-02-12T10:46:09.281797",
     "exception": false,
     "start_time": "2024-02-12T10:46:09.265769",
     "status": "completed"
    },
    "tags": []
   },
   "outputs": [],
   "source": [
    "train_dataset = AudioDataset(train_df)\n",
    "train_loader = DataLoader(train_dataset, batch_size=batch_size, shuffle=True)\n",
    "val_dataset = AudioDataset(val_df)\n",
    "val_loader = DataLoader(val_dataset, batch_size=batch_size)"
   ]
  },
  {
   "cell_type": "code",
   "execution_count": 19,
   "id": "b4b2484b",
   "metadata": {
    "execution": {
     "iopub.execute_input": "2024-02-12T10:46:09.299927Z",
     "iopub.status.busy": "2024-02-12T10:46:09.299162Z",
     "iopub.status.idle": "2024-02-12T10:46:12.475403Z",
     "shell.execute_reply": "2024-02-12T10:46:12.474447Z"
    },
    "papermill": {
     "duration": 3.187748,
     "end_time": "2024-02-12T10:46:12.477691",
     "exception": false,
     "start_time": "2024-02-12T10:46:09.289943",
     "status": "completed"
    },
    "tags": []
   },
   "outputs": [],
   "source": [
    "model = AudioClassifier(input_size, num_classes).to(device)\n",
    "criterion = nn.CrossEntropyLoss()\n",
    "optimizer = optim.Adam(model.parameters(), lr=learning_rate)"
   ]
  },
  {
   "cell_type": "code",
   "execution_count": 20,
   "id": "68c1add7",
   "metadata": {
    "execution": {
     "iopub.execute_input": "2024-02-12T10:46:12.495644Z",
     "iopub.status.busy": "2024-02-12T10:46:12.494711Z",
     "iopub.status.idle": "2024-02-12T10:46:12.500884Z",
     "shell.execute_reply": "2024-02-12T10:46:12.500036Z"
    },
    "papermill": {
     "duration": 0.017112,
     "end_time": "2024-02-12T10:46:12.502980",
     "exception": false,
     "start_time": "2024-02-12T10:46:12.485868",
     "status": "completed"
    },
    "tags": []
   },
   "outputs": [
    {
     "data": {
      "text/plain": [
       "AudioClassifier(\n",
       "  (fc1): Linear(in_features=34400, out_features=1024, bias=True)\n",
       "  (fc2): Linear(in_features=1024, out_features=512, bias=True)\n",
       "  (fc3): Linear(in_features=512, out_features=256, bias=True)\n",
       "  (fc4): Linear(in_features=256, out_features=256, bias=True)\n",
       "  (fc5): Linear(in_features=256, out_features=128, bias=True)\n",
       "  (fc6): Linear(in_features=128, out_features=5, bias=True)\n",
       "  (relu): ReLU()\n",
       "  (dropout): Dropout(p=0.25, inplace=False)\n",
       "  (softmax): Softmax(dim=1)\n",
       ")"
      ]
     },
     "execution_count": 20,
     "metadata": {},
     "output_type": "execute_result"
    }
   ],
   "source": [
    "model"
   ]
  },
  {
   "cell_type": "code",
   "execution_count": 21,
   "id": "eb4c5817",
   "metadata": {
    "execution": {
     "iopub.execute_input": "2024-02-12T10:46:12.520519Z",
     "iopub.status.busy": "2024-02-12T10:46:12.519801Z",
     "iopub.status.idle": "2024-02-12T10:49:18.447343Z",
     "shell.execute_reply": "2024-02-12T10:49:18.445975Z"
    },
    "papermill": {
     "duration": 185.938671,
     "end_time": "2024-02-12T10:49:18.449579",
     "exception": false,
     "start_time": "2024-02-12T10:46:12.510908",
     "status": "completed"
    },
    "tags": []
   },
   "outputs": [
    {
     "name": "stderr",
     "output_type": "stream",
     "text": [
      "/tmp/ipykernel_26/870058991.py:11: FutureWarning: Series.__getitem__ treating keys as positions is deprecated. In a future version, integer keys will always be treated as labels (consistent with DataFrame behavior). To access a value by position, use `ser.iloc[pos]`\n",
      "  features_list = [extract_features_from_url(row[i]) for i in range(6, len(row))]\n",
      "/tmp/ipykernel_26/870058991.py:11: FutureWarning: Series.__getitem__ treating keys as positions is deprecated. In a future version, integer keys will always be treated as labels (consistent with DataFrame behavior). To access a value by position, use `ser.iloc[pos]`\n",
      "  features_list = [extract_features_from_url(row[i]) for i in range(6, len(row))]\n"
     ]
    },
    {
     "name": "stdout",
     "output_type": "stream",
     "text": [
      "Epoch 1/10,Loss: 1.7619704008102417, Val Loss: 1.8214993476867676, Accuracy: 0.08333333333333333\n",
      "Epoch 2/10,Loss: 1.690546989440918, Val Loss: 1.8214993476867676, Accuracy: 0.08333333333333333\n",
      "Epoch 3/10,Loss: 1.6191184520721436, Val Loss: 1.8214993476867676, Accuracy: 0.08333333333333333\n",
      "Epoch 4/10,Loss: 1.6191184520721436, Val Loss: 1.8214993476867676, Accuracy: 0.08333333333333333\n",
      "Epoch 5/10,Loss: 1.690546989440918, Val Loss: 1.8214993476867676, Accuracy: 0.08333333333333333\n",
      "Epoch 6/10,Loss: 1.5476897954940796, Val Loss: 1.8214993476867676, Accuracy: 0.08333333333333333\n",
      "Epoch 7/10,Loss: 1.6191184520721436, Val Loss: 1.8214993476867676, Accuracy: 0.08333333333333333\n",
      "Epoch 8/10,Loss: 1.7619755268096924, Val Loss: 1.8214993476867676, Accuracy: 0.08333333333333333\n",
      "Epoch 9/10,Loss: 1.6191184520721436, Val Loss: 1.8214993476867676, Accuracy: 0.08333333333333333\n",
      "Epoch 10/10,Loss: 1.6191184520721436, Val Loss: 1.8214993476867676, Accuracy: 0.08333333333333333\n"
     ]
    }
   ],
   "source": [
    "for epoch in range(num_epochs):\n",
    "    model.train()\n",
    "    for inputs, labels in train_loader:\n",
    "        inputs, labels = inputs.to(device), labels.to(device)\n",
    "        optimizer.zero_grad()\n",
    "        outputs = model(inputs.float())\n",
    "        loss = criterion(outputs, labels)\n",
    "        loss.backward()\n",
    "        optimizer.step()\n",
    "\n",
    "    model.eval()\n",
    "    val_loss = 0.0\n",
    "    correct = 0\n",
    "    total = 0\n",
    "    with torch.no_grad():\n",
    "        for inputs, labels in val_loader:\n",
    "            inputs, labels = inputs.to(device), labels.to(device)\n",
    "            outputs = model(inputs.float())\n",
    "            _, predicted = torch.max(outputs, 1)\n",
    "            total += labels.size(0)\n",
    "            correct += (predicted == labels).sum().item()\n",
    "            val_loss += criterion(outputs, labels).item()\n",
    "\n",
    "    val_accuracy = correct / total\n",
    "    val_loss /= len(val_loader)\n",
    "    print(\n",
    "        f\"Epoch {epoch+1}/{num_epochs},Loss: {loss.item()}, Val Loss: {val_loss}, Accuracy: {val_accuracy}\"\n",
    "    )"
   ]
  }
 ],
 "metadata": {
  "kaggle": {
   "accelerator": "gpu",
   "dataSources": [
    {
     "databundleVersionId": 7683890,
     "sourceId": 70055,
     "sourceType": "competition"
    }
   ],
   "dockerImageVersionId": 30648,
   "isGpuEnabled": true,
   "isInternetEnabled": true,
   "language": "python",
   "sourceType": "notebook"
  },
  "kernelspec": {
   "display_name": "Python 3",
   "language": "python",
   "name": "python3"
  },
  "language_info": {
   "codemirror_mode": {
    "name": "ipython",
    "version": 3
   },
   "file_extension": ".py",
   "mimetype": "text/x-python",
   "name": "python",
   "nbconvert_exporter": "python",
   "pygments_lexer": "ipython3",
   "version": "3.10.13"
  },
  "papermill": {
   "default_parameters": {},
   "duration": 200.050895,
   "end_time": "2024-02-12T10:49:20.490227",
   "environment_variables": {},
   "exception": null,
   "input_path": "__notebook__.ipynb",
   "output_path": "__notebook__.ipynb",
   "parameters": {},
   "start_time": "2024-02-12T10:46:00.439332",
   "version": "2.5.0"
  }
 },
 "nbformat": 4,
 "nbformat_minor": 5
}
