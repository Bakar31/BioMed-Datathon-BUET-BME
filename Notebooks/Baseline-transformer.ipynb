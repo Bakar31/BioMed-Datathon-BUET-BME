{
 "cells": [
  {
   "cell_type": "code",
   "execution_count": 1,
   "id": "f76e4006",
   "metadata": {
    "execution": {
     "iopub.execute_input": "2024-02-13T20:57:50.419627Z",
     "iopub.status.busy": "2024-02-13T20:57:50.418851Z",
     "iopub.status.idle": "2024-02-13T20:58:44.683988Z",
     "shell.execute_reply": "2024-02-13T20:58:44.682844Z"
    },
    "papermill": {
     "duration": 54.284545,
     "end_time": "2024-02-13T20:58:44.686547",
     "exception": false,
     "start_time": "2024-02-13T20:57:50.402002",
     "status": "completed"
    },
    "tags": []
   },
   "outputs": [
    {
     "name": "stdout",
     "output_type": "stream",
     "text": [
      "Collecting deep-utils\r\n",
      "  Downloading deep_utils-1.3.19-py3-none-any.whl.metadata (22 kB)\r\n",
      "Requirement already satisfied: numpy>=1.21.0 in /opt/conda/lib/python3.10/site-packages (from deep-utils) (1.24.4)\r\n",
      "Requirement already satisfied: requests>=2.27.1 in /opt/conda/lib/python3.10/site-packages (from deep-utils) (2.31.0)\r\n",
      "Requirement already satisfied: tqdm>=4.62.3 in /opt/conda/lib/python3.10/site-packages (from deep-utils) (4.66.1)\r\n",
      "Requirement already satisfied: charset-normalizer<4,>=2 in /opt/conda/lib/python3.10/site-packages (from requests>=2.27.1->deep-utils) (3.3.2)\r\n",
      "Requirement already satisfied: idna<4,>=2.5 in /opt/conda/lib/python3.10/site-packages (from requests>=2.27.1->deep-utils) (3.6)\r\n",
      "Requirement already satisfied: urllib3<3,>=1.21.1 in /opt/conda/lib/python3.10/site-packages (from requests>=2.27.1->deep-utils) (1.26.18)\r\n",
      "Requirement already satisfied: certifi>=2017.4.17 in /opt/conda/lib/python3.10/site-packages (from requests>=2.27.1->deep-utils) (2023.11.17)\r\n",
      "Downloading deep_utils-1.3.19-py3-none-any.whl (529 kB)\r\n",
      "\u001b[2K   \u001b[90m━━━━━━━━━━━━━━━━━━━━━━━━━━━━━━━━━━━━━━━━\u001b[0m \u001b[32m529.1/529.1 kB\u001b[0m \u001b[31m2.9 MB/s\u001b[0m eta \u001b[36m0:00:00\u001b[0m\r\n",
      "\u001b[?25hInstalling collected packages: deep-utils\r\n",
      "Successfully installed deep-utils-1.3.19\r\n",
      "Requirement already satisfied: datasets in /opt/conda/lib/python3.10/site-packages (2.1.0)\r\n",
      "Requirement already satisfied: numpy>=1.17 in /opt/conda/lib/python3.10/site-packages (from datasets) (1.24.4)\r\n",
      "Requirement already satisfied: pyarrow>=5.0.0 in /opt/conda/lib/python3.10/site-packages (from datasets) (11.0.0)\r\n",
      "Requirement already satisfied: dill in /opt/conda/lib/python3.10/site-packages (from datasets) (0.3.7)\r\n",
      "Requirement already satisfied: pandas in /opt/conda/lib/python3.10/site-packages (from datasets) (2.1.4)\r\n",
      "Requirement already satisfied: requests>=2.19.0 in /opt/conda/lib/python3.10/site-packages (from datasets) (2.31.0)\r\n",
      "Requirement already satisfied: tqdm>=4.62.1 in /opt/conda/lib/python3.10/site-packages (from datasets) (4.66.1)\r\n",
      "Requirement already satisfied: xxhash in /opt/conda/lib/python3.10/site-packages (from datasets) (3.4.1)\r\n",
      "Requirement already satisfied: multiprocess in /opt/conda/lib/python3.10/site-packages (from datasets) (0.70.15)\r\n",
      "Requirement already satisfied: fsspec>=2021.05.0 in /opt/conda/lib/python3.10/site-packages (from fsspec[http]>=2021.05.0->datasets) (2023.12.2)\r\n",
      "Requirement already satisfied: aiohttp in /opt/conda/lib/python3.10/site-packages (from datasets) (3.9.1)\r\n",
      "Requirement already satisfied: huggingface-hub<1.0.0,>=0.1.0 in /opt/conda/lib/python3.10/site-packages (from datasets) (0.20.3)\r\n",
      "Requirement already satisfied: packaging in /opt/conda/lib/python3.10/site-packages (from datasets) (21.3)\r\n",
      "Requirement already satisfied: responses<0.19 in /opt/conda/lib/python3.10/site-packages (from datasets) (0.18.0)\r\n",
      "Requirement already satisfied: attrs>=17.3.0 in /opt/conda/lib/python3.10/site-packages (from aiohttp->datasets) (23.2.0)\r\n",
      "Requirement already satisfied: multidict<7.0,>=4.5 in /opt/conda/lib/python3.10/site-packages (from aiohttp->datasets) (6.0.4)\r\n",
      "Requirement already satisfied: yarl<2.0,>=1.0 in /opt/conda/lib/python3.10/site-packages (from aiohttp->datasets) (1.9.3)\r\n",
      "Requirement already satisfied: frozenlist>=1.1.1 in /opt/conda/lib/python3.10/site-packages (from aiohttp->datasets) (1.4.1)\r\n",
      "Requirement already satisfied: aiosignal>=1.1.2 in /opt/conda/lib/python3.10/site-packages (from aiohttp->datasets) (1.3.1)\r\n",
      "Requirement already satisfied: async-timeout<5.0,>=4.0 in /opt/conda/lib/python3.10/site-packages (from aiohttp->datasets) (4.0.3)\r\n",
      "Requirement already satisfied: filelock in /opt/conda/lib/python3.10/site-packages (from huggingface-hub<1.0.0,>=0.1.0->datasets) (3.13.1)\r\n",
      "Requirement already satisfied: pyyaml>=5.1 in /opt/conda/lib/python3.10/site-packages (from huggingface-hub<1.0.0,>=0.1.0->datasets) (6.0.1)\r\n",
      "Requirement already satisfied: typing-extensions>=3.7.4.3 in /opt/conda/lib/python3.10/site-packages (from huggingface-hub<1.0.0,>=0.1.0->datasets) (4.9.0)\r\n",
      "Requirement already satisfied: pyparsing!=3.0.5,>=2.0.2 in /opt/conda/lib/python3.10/site-packages (from packaging->datasets) (3.1.1)\r\n",
      "Requirement already satisfied: charset-normalizer<4,>=2 in /opt/conda/lib/python3.10/site-packages (from requests>=2.19.0->datasets) (3.3.2)\r\n",
      "Requirement already satisfied: idna<4,>=2.5 in /opt/conda/lib/python3.10/site-packages (from requests>=2.19.0->datasets) (3.6)\r\n",
      "Requirement already satisfied: urllib3<3,>=1.21.1 in /opt/conda/lib/python3.10/site-packages (from requests>=2.19.0->datasets) (1.26.18)\r\n",
      "Requirement already satisfied: certifi>=2017.4.17 in /opt/conda/lib/python3.10/site-packages (from requests>=2.19.0->datasets) (2023.11.17)\r\n",
      "Requirement already satisfied: python-dateutil>=2.8.2 in /opt/conda/lib/python3.10/site-packages (from pandas->datasets) (2.8.2)\r\n",
      "Requirement already satisfied: pytz>=2020.1 in /opt/conda/lib/python3.10/site-packages (from pandas->datasets) (2023.3.post1)\r\n",
      "Requirement already satisfied: tzdata>=2022.1 in /opt/conda/lib/python3.10/site-packages (from pandas->datasets) (2023.4)\r\n",
      "Requirement already satisfied: six>=1.5 in /opt/conda/lib/python3.10/site-packages (from python-dateutil>=2.8.2->pandas->datasets) (1.16.0)\r\n",
      "Requirement already satisfied: transformers[torch] in /opt/conda/lib/python3.10/site-packages (4.37.0)\r\n",
      "Requirement already satisfied: filelock in /opt/conda/lib/python3.10/site-packages (from transformers[torch]) (3.13.1)\r\n",
      "Requirement already satisfied: huggingface-hub<1.0,>=0.19.3 in /opt/conda/lib/python3.10/site-packages (from transformers[torch]) (0.20.3)\r\n",
      "Requirement already satisfied: numpy>=1.17 in /opt/conda/lib/python3.10/site-packages (from transformers[torch]) (1.24.4)\r\n",
      "Requirement already satisfied: packaging>=20.0 in /opt/conda/lib/python3.10/site-packages (from transformers[torch]) (21.3)\r\n",
      "Requirement already satisfied: pyyaml>=5.1 in /opt/conda/lib/python3.10/site-packages (from transformers[torch]) (6.0.1)\r\n",
      "Requirement already satisfied: regex!=2019.12.17 in /opt/conda/lib/python3.10/site-packages (from transformers[torch]) (2023.12.25)\r\n",
      "Requirement already satisfied: requests in /opt/conda/lib/python3.10/site-packages (from transformers[torch]) (2.31.0)\r\n",
      "Requirement already satisfied: tokenizers<0.19,>=0.14 in /opt/conda/lib/python3.10/site-packages (from transformers[torch]) (0.15.1)\r\n",
      "Requirement already satisfied: safetensors>=0.3.1 in /opt/conda/lib/python3.10/site-packages (from transformers[torch]) (0.4.2)\r\n",
      "Requirement already satisfied: tqdm>=4.27 in /opt/conda/lib/python3.10/site-packages (from transformers[torch]) (4.66.1)\r\n",
      "Requirement already satisfied: torch!=1.12.0,>=1.11 in /opt/conda/lib/python3.10/site-packages (from transformers[torch]) (2.1.2)\r\n",
      "Requirement already satisfied: accelerate>=0.21.0 in /opt/conda/lib/python3.10/site-packages (from transformers[torch]) (0.26.1)\r\n",
      "Requirement already satisfied: psutil in /opt/conda/lib/python3.10/site-packages (from accelerate>=0.21.0->transformers[torch]) (5.9.3)\r\n",
      "Requirement already satisfied: fsspec>=2023.5.0 in /opt/conda/lib/python3.10/site-packages (from huggingface-hub<1.0,>=0.19.3->transformers[torch]) (2023.12.2)\r\n",
      "Requirement already satisfied: typing-extensions>=3.7.4.3 in /opt/conda/lib/python3.10/site-packages (from huggingface-hub<1.0,>=0.19.3->transformers[torch]) (4.9.0)\r\n",
      "Requirement already satisfied: pyparsing!=3.0.5,>=2.0.2 in /opt/conda/lib/python3.10/site-packages (from packaging>=20.0->transformers[torch]) (3.1.1)\r\n",
      "Requirement already satisfied: sympy in /opt/conda/lib/python3.10/site-packages (from torch!=1.12.0,>=1.11->transformers[torch]) (1.12)\r\n",
      "Requirement already satisfied: networkx in /opt/conda/lib/python3.10/site-packages (from torch!=1.12.0,>=1.11->transformers[torch]) (3.2.1)\r\n",
      "Requirement already satisfied: jinja2 in /opt/conda/lib/python3.10/site-packages (from torch!=1.12.0,>=1.11->transformers[torch]) (3.1.2)\r\n",
      "Requirement already satisfied: charset-normalizer<4,>=2 in /opt/conda/lib/python3.10/site-packages (from requests->transformers[torch]) (3.3.2)\r\n",
      "Requirement already satisfied: idna<4,>=2.5 in /opt/conda/lib/python3.10/site-packages (from requests->transformers[torch]) (3.6)\r\n",
      "Requirement already satisfied: urllib3<3,>=1.21.1 in /opt/conda/lib/python3.10/site-packages (from requests->transformers[torch]) (1.26.18)\r\n",
      "Requirement already satisfied: certifi>=2017.4.17 in /opt/conda/lib/python3.10/site-packages (from requests->transformers[torch]) (2023.11.17)\r\n",
      "Requirement already satisfied: MarkupSafe>=2.0 in /opt/conda/lib/python3.10/site-packages (from jinja2->torch!=1.12.0,>=1.11->transformers[torch]) (2.1.3)\r\n",
      "Requirement already satisfied: mpmath>=0.19 in /opt/conda/lib/python3.10/site-packages (from sympy->torch!=1.12.0,>=1.11->transformers[torch]) (1.3.0)\r\n",
      "Requirement already satisfied: accelerate in /opt/conda/lib/python3.10/site-packages (0.26.1)\r\n",
      "Collecting accelerate\r\n",
      "  Downloading accelerate-0.27.2-py3-none-any.whl.metadata (18 kB)\r\n",
      "Requirement already satisfied: numpy>=1.17 in /opt/conda/lib/python3.10/site-packages (from accelerate) (1.24.4)\r\n",
      "Requirement already satisfied: packaging>=20.0 in /opt/conda/lib/python3.10/site-packages (from accelerate) (21.3)\r\n",
      "Requirement already satisfied: psutil in /opt/conda/lib/python3.10/site-packages (from accelerate) (5.9.3)\r\n",
      "Requirement already satisfied: pyyaml in /opt/conda/lib/python3.10/site-packages (from accelerate) (6.0.1)\r\n",
      "Requirement already satisfied: torch>=1.10.0 in /opt/conda/lib/python3.10/site-packages (from accelerate) (2.1.2)\r\n",
      "Requirement already satisfied: huggingface-hub in /opt/conda/lib/python3.10/site-packages (from accelerate) (0.20.3)\r\n",
      "Requirement already satisfied: safetensors>=0.3.1 in /opt/conda/lib/python3.10/site-packages (from accelerate) (0.4.2)\r\n",
      "Requirement already satisfied: pyparsing!=3.0.5,>=2.0.2 in /opt/conda/lib/python3.10/site-packages (from packaging>=20.0->accelerate) (3.1.1)\r\n",
      "Requirement already satisfied: filelock in /opt/conda/lib/python3.10/site-packages (from torch>=1.10.0->accelerate) (3.13.1)\r\n",
      "Requirement already satisfied: typing-extensions in /opt/conda/lib/python3.10/site-packages (from torch>=1.10.0->accelerate) (4.9.0)\r\n",
      "Requirement already satisfied: sympy in /opt/conda/lib/python3.10/site-packages (from torch>=1.10.0->accelerate) (1.12)\r\n",
      "Requirement already satisfied: networkx in /opt/conda/lib/python3.10/site-packages (from torch>=1.10.0->accelerate) (3.2.1)\r\n",
      "Requirement already satisfied: jinja2 in /opt/conda/lib/python3.10/site-packages (from torch>=1.10.0->accelerate) (3.1.2)\r\n",
      "Requirement already satisfied: fsspec in /opt/conda/lib/python3.10/site-packages (from torch>=1.10.0->accelerate) (2023.12.2)\r\n",
      "Requirement already satisfied: requests in /opt/conda/lib/python3.10/site-packages (from huggingface-hub->accelerate) (2.31.0)\r\n",
      "Requirement already satisfied: tqdm>=4.42.1 in /opt/conda/lib/python3.10/site-packages (from huggingface-hub->accelerate) (4.66.1)\r\n",
      "Requirement already satisfied: MarkupSafe>=2.0 in /opt/conda/lib/python3.10/site-packages (from jinja2->torch>=1.10.0->accelerate) (2.1.3)\r\n",
      "Requirement already satisfied: charset-normalizer<4,>=2 in /opt/conda/lib/python3.10/site-packages (from requests->huggingface-hub->accelerate) (3.3.2)\r\n",
      "Requirement already satisfied: idna<4,>=2.5 in /opt/conda/lib/python3.10/site-packages (from requests->huggingface-hub->accelerate) (3.6)\r\n",
      "Requirement already satisfied: urllib3<3,>=1.21.1 in /opt/conda/lib/python3.10/site-packages (from requests->huggingface-hub->accelerate) (1.26.18)\r\n",
      "Requirement already satisfied: certifi>=2017.4.17 in /opt/conda/lib/python3.10/site-packages (from requests->huggingface-hub->accelerate) (2023.11.17)\r\n",
      "Requirement already satisfied: mpmath>=0.19 in /opt/conda/lib/python3.10/site-packages (from sympy->torch>=1.10.0->accelerate) (1.3.0)\r\n",
      "Downloading accelerate-0.27.2-py3-none-any.whl (279 kB)\r\n",
      "\u001b[2K   \u001b[90m━━━━━━━━━━━━━━━━━━━━━━━━━━━━━━━━━━━━━━━━\u001b[0m \u001b[32m280.0/280.0 kB\u001b[0m \u001b[31m2.2 MB/s\u001b[0m eta \u001b[36m0:00:00\u001b[0m\r\n",
      "\u001b[?25hInstalling collected packages: accelerate\r\n",
      "  Attempting uninstall: accelerate\r\n",
      "    Found existing installation: accelerate 0.26.1\r\n",
      "    Uninstalling accelerate-0.26.1:\r\n",
      "      Successfully uninstalled accelerate-0.26.1\r\n",
      "Successfully installed accelerate-0.27.2\r\n"
     ]
    }
   ],
   "source": [
    "! pip install deep-utils\n",
    "! pip install datasets\n",
    "\n",
    "! pip install transformers[torch]\n",
    "! pip install accelerate -U"
   ]
  },
  {
   "cell_type": "code",
   "execution_count": 2,
   "id": "00b8df6e",
   "metadata": {
    "execution": {
     "iopub.execute_input": "2024-02-13T20:58:44.721544Z",
     "iopub.status.busy": "2024-02-13T20:58:44.721219Z",
     "iopub.status.idle": "2024-02-13T20:59:16.357365Z",
     "shell.execute_reply": "2024-02-13T20:59:16.356589Z"
    },
    "papermill": {
     "duration": 31.656368,
     "end_time": "2024-02-13T20:59:16.359810",
     "exception": false,
     "start_time": "2024-02-13T20:58:44.703442",
     "status": "completed"
    },
    "tags": []
   },
   "outputs": [
    {
     "name": "stderr",
     "output_type": "stream",
     "text": [
      "2024-02-13 20:59:03.517842: E external/local_xla/xla/stream_executor/cuda/cuda_dnn.cc:9261] Unable to register cuDNN factory: Attempting to register factory for plugin cuDNN when one has already been registered\n",
      "2024-02-13 20:59:03.517947: E external/local_xla/xla/stream_executor/cuda/cuda_fft.cc:607] Unable to register cuFFT factory: Attempting to register factory for plugin cuFFT when one has already been registered\n",
      "2024-02-13 20:59:03.802893: E external/local_xla/xla/stream_executor/cuda/cuda_blas.cc:1515] Unable to register cuBLAS factory: Attempting to register factory for plugin cuBLAS when one has already been registered\n"
     ]
    }
   ],
   "source": [
    "import numpy as np\n",
    "import pandas as pd\n",
    "import matplotlib.pyplot as plt\n",
    "\n",
    "import torch\n",
    "import torch.nn as nn\n",
    "import torch.optim as optim\n",
    "from torch.utils.data import Dataset, DataLoader\n",
    "import librosa\n",
    "from sklearn.model_selection import train_test_split, StratifiedShuffleSplit\n",
    "from sklearn.preprocessing import LabelEncoder, OneHotEncoder\n",
    "from sklearn.metrics import accuracy_score, f1_score, recall_score, precision_score\n",
    "from deep_utils import warmup_cosine\n",
    "\n",
    "from datasets import load_dataset, Audio, Dataset\n",
    "from transformers import AutoFeatureExtractor\n",
    "from transformers import AutoModelForAudioClassification, TrainingArguments, Trainer\n",
    "\n",
    "import warnings\n",
    "\n",
    "warnings.filterwarnings(\"ignore\")"
   ]
  },
  {
   "cell_type": "code",
   "execution_count": 3,
   "id": "d0ca20ee",
   "metadata": {
    "execution": {
     "iopub.execute_input": "2024-02-13T20:59:16.396225Z",
     "iopub.status.busy": "2024-02-13T20:59:16.395614Z",
     "iopub.status.idle": "2024-02-13T20:59:16.436212Z",
     "shell.execute_reply": "2024-02-13T20:59:16.435259Z"
    },
    "papermill": {
     "duration": 0.060797,
     "end_time": "2024-02-13T20:59:16.438077",
     "exception": false,
     "start_time": "2024-02-13T20:59:16.377280",
     "status": "completed"
    },
    "tags": []
   },
   "outputs": [
    {
     "data": {
      "text/html": [
       "<div>\n",
       "<style scoped>\n",
       "    .dataframe tbody tr th:only-of-type {\n",
       "        vertical-align: middle;\n",
       "    }\n",
       "\n",
       "    .dataframe tbody tr th {\n",
       "        vertical-align: top;\n",
       "    }\n",
       "\n",
       "    .dataframe thead th {\n",
       "        text-align: right;\n",
       "    }\n",
       "</style>\n",
       "<table border=\"1\" class=\"dataframe\">\n",
       "  <thead>\n",
       "    <tr style=\"text-align: right;\">\n",
       "      <th></th>\n",
       "      <th>patient_id</th>\n",
       "      <th>AS</th>\n",
       "      <th>AR</th>\n",
       "      <th>MR</th>\n",
       "      <th>MS</th>\n",
       "      <th>N</th>\n",
       "      <th>recording_1</th>\n",
       "      <th>recording_2</th>\n",
       "      <th>recording_3</th>\n",
       "      <th>recording_4</th>\n",
       "      <th>recording_5</th>\n",
       "      <th>recording_6</th>\n",
       "      <th>recording_7</th>\n",
       "      <th>recording_8</th>\n",
       "    </tr>\n",
       "  </thead>\n",
       "  <tbody>\n",
       "    <tr>\n",
       "      <th>0</th>\n",
       "      <td>patient_052</td>\n",
       "      <td>0</td>\n",
       "      <td>1</td>\n",
       "      <td>0</td>\n",
       "      <td>0</td>\n",
       "      <td>0</td>\n",
       "      <td>052_sup_Mit</td>\n",
       "      <td>052_sup_Tri</td>\n",
       "      <td>052_sup_Pul</td>\n",
       "      <td>052_sup_Aor</td>\n",
       "      <td>052_sit_Mit</td>\n",
       "      <td>052_sit_Tri</td>\n",
       "      <td>052_sit_Pul</td>\n",
       "      <td>052_sit_Aor</td>\n",
       "    </tr>\n",
       "    <tr>\n",
       "      <th>1</th>\n",
       "      <td>patient_058</td>\n",
       "      <td>0</td>\n",
       "      <td>1</td>\n",
       "      <td>0</td>\n",
       "      <td>0</td>\n",
       "      <td>0</td>\n",
       "      <td>058_sup_Mit</td>\n",
       "      <td>058_sup_Tri</td>\n",
       "      <td>058_sup_Pul</td>\n",
       "      <td>058_sup_Aor</td>\n",
       "      <td>058_sit_Mit</td>\n",
       "      <td>058_sit_Tri</td>\n",
       "      <td>058_sit_Pul</td>\n",
       "      <td>058_sit_Aor</td>\n",
       "    </tr>\n",
       "    <tr>\n",
       "      <th>2</th>\n",
       "      <td>patient_068</td>\n",
       "      <td>0</td>\n",
       "      <td>1</td>\n",
       "      <td>0</td>\n",
       "      <td>0</td>\n",
       "      <td>0</td>\n",
       "      <td>068_sup_Mit</td>\n",
       "      <td>068_sup_Tri</td>\n",
       "      <td>068_sup_Pul</td>\n",
       "      <td>068_sup_Aor</td>\n",
       "      <td>068_sit_Mit</td>\n",
       "      <td>068_sit_Tri</td>\n",
       "      <td>068_sit_Pul</td>\n",
       "      <td>068_sit_Aor</td>\n",
       "    </tr>\n",
       "    <tr>\n",
       "      <th>3</th>\n",
       "      <td>patient_074</td>\n",
       "      <td>0</td>\n",
       "      <td>1</td>\n",
       "      <td>0</td>\n",
       "      <td>0</td>\n",
       "      <td>0</td>\n",
       "      <td>074_sup_Mit</td>\n",
       "      <td>074_sup_Tri</td>\n",
       "      <td>074_sup_Pul</td>\n",
       "      <td>074_sup_Aor</td>\n",
       "      <td>074_sit_Mit</td>\n",
       "      <td>074_sit_Tri</td>\n",
       "      <td>074_sit_Pul</td>\n",
       "      <td>074_sit_Aor</td>\n",
       "    </tr>\n",
       "    <tr>\n",
       "      <th>4</th>\n",
       "      <td>patient_054</td>\n",
       "      <td>1</td>\n",
       "      <td>0</td>\n",
       "      <td>0</td>\n",
       "      <td>0</td>\n",
       "      <td>0</td>\n",
       "      <td>054_sup_Mit</td>\n",
       "      <td>054_sup_Tri</td>\n",
       "      <td>054_sup_Pul</td>\n",
       "      <td>054_sup_Aor</td>\n",
       "      <td>054_sit_Mit</td>\n",
       "      <td>054_sit_Tri</td>\n",
       "      <td>054_sit_Pul</td>\n",
       "      <td>054_sit_Aor</td>\n",
       "    </tr>\n",
       "  </tbody>\n",
       "</table>\n",
       "</div>"
      ],
      "text/plain": [
       "    patient_id  AS  AR  MR  MS  N  recording_1  recording_2  recording_3  \\\n",
       "0  patient_052   0   1   0   0  0  052_sup_Mit  052_sup_Tri  052_sup_Pul   \n",
       "1  patient_058   0   1   0   0  0  058_sup_Mit  058_sup_Tri  058_sup_Pul   \n",
       "2  patient_068   0   1   0   0  0  068_sup_Mit  068_sup_Tri  068_sup_Pul   \n",
       "3  patient_074   0   1   0   0  0  074_sup_Mit  074_sup_Tri  074_sup_Pul   \n",
       "4  patient_054   1   0   0   0  0  054_sup_Mit  054_sup_Tri  054_sup_Pul   \n",
       "\n",
       "   recording_4  recording_5  recording_6  recording_7  recording_8  \n",
       "0  052_sup_Aor  052_sit_Mit  052_sit_Tri  052_sit_Pul  052_sit_Aor  \n",
       "1  058_sup_Aor  058_sit_Mit  058_sit_Tri  058_sit_Pul  058_sit_Aor  \n",
       "2  068_sup_Aor  068_sit_Mit  068_sit_Tri  068_sit_Pul  068_sit_Aor  \n",
       "3  074_sup_Aor  074_sit_Mit  074_sit_Tri  074_sit_Pul  074_sit_Aor  \n",
       "4  054_sup_Aor  054_sit_Mit  054_sit_Tri  054_sit_Pul  054_sit_Aor  "
      ]
     },
     "execution_count": 3,
     "metadata": {},
     "output_type": "execute_result"
    }
   ],
   "source": [
    "train = pd.read_csv('/kaggle/input/biomed-datathon-bmefest2/train.csv')\n",
    "train.head()"
   ]
  },
  {
   "cell_type": "code",
   "execution_count": 4,
   "id": "827a9840",
   "metadata": {
    "execution": {
     "iopub.execute_input": "2024-02-13T20:59:16.473713Z",
     "iopub.status.busy": "2024-02-13T20:59:16.473378Z",
     "iopub.status.idle": "2024-02-13T20:59:16.488282Z",
     "shell.execute_reply": "2024-02-13T20:59:16.487302Z"
    },
    "papermill": {
     "duration": 0.035736,
     "end_time": "2024-02-13T20:59:16.490560",
     "exception": false,
     "start_time": "2024-02-13T20:59:16.454824",
     "status": "completed"
    },
    "tags": []
   },
   "outputs": [],
   "source": [
    "patient_id_to_drop = 'patient_085'\n",
    "train = train[train['patient_id'] != patient_id_to_drop]"
   ]
  },
  {
   "cell_type": "code",
   "execution_count": 5,
   "id": "4546f1ac",
   "metadata": {
    "execution": {
     "iopub.execute_input": "2024-02-13T20:59:16.525053Z",
     "iopub.status.busy": "2024-02-13T20:59:16.524788Z",
     "iopub.status.idle": "2024-02-13T20:59:16.544314Z",
     "shell.execute_reply": "2024-02-13T20:59:16.543476Z"
    },
    "papermill": {
     "duration": 0.039058,
     "end_time": "2024-02-13T20:59:16.546133",
     "exception": false,
     "start_time": "2024-02-13T20:59:16.507075",
     "status": "completed"
    },
    "tags": []
   },
   "outputs": [
    {
     "data": {
      "text/html": [
       "<div>\n",
       "<style scoped>\n",
       "    .dataframe tbody tr th:only-of-type {\n",
       "        vertical-align: middle;\n",
       "    }\n",
       "\n",
       "    .dataframe tbody tr th {\n",
       "        vertical-align: top;\n",
       "    }\n",
       "\n",
       "    .dataframe thead th {\n",
       "        text-align: right;\n",
       "    }\n",
       "</style>\n",
       "<table border=\"1\" class=\"dataframe\">\n",
       "  <thead>\n",
       "    <tr style=\"text-align: right;\">\n",
       "      <th></th>\n",
       "      <th>patient_id</th>\n",
       "      <th>labels</th>\n",
       "    </tr>\n",
       "  </thead>\n",
       "  <tbody>\n",
       "    <tr>\n",
       "      <th>0</th>\n",
       "      <td>patient_052</td>\n",
       "      <td>1</td>\n",
       "    </tr>\n",
       "    <tr>\n",
       "      <th>1</th>\n",
       "      <td>patient_058</td>\n",
       "      <td>1</td>\n",
       "    </tr>\n",
       "    <tr>\n",
       "      <th>2</th>\n",
       "      <td>patient_068</td>\n",
       "      <td>1</td>\n",
       "    </tr>\n",
       "    <tr>\n",
       "      <th>3</th>\n",
       "      <td>patient_074</td>\n",
       "      <td>1</td>\n",
       "    </tr>\n",
       "    <tr>\n",
       "      <th>4</th>\n",
       "      <td>patient_054</td>\n",
       "      <td>0</td>\n",
       "    </tr>\n",
       "  </tbody>\n",
       "</table>\n",
       "</div>"
      ],
      "text/plain": [
       "    patient_id  labels\n",
       "0  patient_052       1\n",
       "1  patient_058       1\n",
       "2  patient_068       1\n",
       "3  patient_074       1\n",
       "4  patient_054       0"
      ]
     },
     "execution_count": 5,
     "metadata": {},
     "output_type": "execute_result"
    }
   ],
   "source": [
    "label_encoder = LabelEncoder()\n",
    "train[\"labels\"] = label_encoder.fit_transform(\n",
    "    np.argmax(train[[\"AS\", \"AR\", \"MR\", \"MS\", \"N\"]], axis=1)\n",
    ")\n",
    "train.drop(\n",
    "    [\n",
    "        \"AS\",\n",
    "        \"AR\",\n",
    "        \"MR\",\n",
    "        \"MS\",\n",
    "        \"N\",\n",
    "        \"recording_1\",\n",
    "        \"recording_2\",\n",
    "        \"recording_3\",\n",
    "        \"recording_4\",\n",
    "        \"recording_5\",\n",
    "        \"recording_6\",\n",
    "        \"recording_7\",\n",
    "        \"recording_8\",\n",
    "    ],\n",
    "    axis=1,\n",
    "    inplace=True,\n",
    ")\n",
    "train.head()"
   ]
  },
  {
   "cell_type": "code",
   "execution_count": 6,
   "id": "3b2a5ce4",
   "metadata": {
    "execution": {
     "iopub.execute_input": "2024-02-13T20:59:16.580870Z",
     "iopub.status.busy": "2024-02-13T20:59:16.580575Z",
     "iopub.status.idle": "2024-02-13T20:59:16.597871Z",
     "shell.execute_reply": "2024-02-13T20:59:16.597030Z"
    },
    "papermill": {
     "duration": 0.03711,
     "end_time": "2024-02-13T20:59:16.599895",
     "exception": false,
     "start_time": "2024-02-13T20:59:16.562785",
     "status": "completed"
    },
    "tags": []
   },
   "outputs": [
    {
     "data": {
      "text/plain": [
       "labels\n",
       "0    19\n",
       "4    12\n",
       "2    11\n",
       "1    10\n",
       "3     6\n",
       "Name: count, dtype: int64"
      ]
     },
     "execution_count": 6,
     "metadata": {},
     "output_type": "execute_result"
    }
   ],
   "source": [
    "train.labels.value_counts()"
   ]
  },
  {
   "cell_type": "code",
   "execution_count": 7,
   "id": "92e2602e",
   "metadata": {
    "execution": {
     "iopub.execute_input": "2024-02-13T20:59:16.635107Z",
     "iopub.status.busy": "2024-02-13T20:59:16.634847Z",
     "iopub.status.idle": "2024-02-13T20:59:16.640637Z",
     "shell.execute_reply": "2024-02-13T20:59:16.639782Z"
    },
    "papermill": {
     "duration": 0.025724,
     "end_time": "2024-02-13T20:59:16.642585",
     "exception": false,
     "start_time": "2024-02-13T20:59:16.616861",
     "status": "completed"
    },
    "tags": []
   },
   "outputs": [],
   "source": [
    "BASE_URL = \"/kaggle/input/bio-med-merged/\"\n",
    "train[\"path\"] = train[\"patient_id\"].apply(lambda x: BASE_URL + x + \".wav\")\n",
    "train[\"audio\"] = train[\"patient_id\"].apply(lambda x: BASE_URL + x + \".wav\")"
   ]
  },
  {
   "cell_type": "code",
   "execution_count": 8,
   "id": "193a9834",
   "metadata": {
    "execution": {
     "iopub.execute_input": "2024-02-13T20:59:16.677772Z",
     "iopub.status.busy": "2024-02-13T20:59:16.677281Z",
     "iopub.status.idle": "2024-02-13T20:59:16.687287Z",
     "shell.execute_reply": "2024-02-13T20:59:16.686380Z"
    },
    "papermill": {
     "duration": 0.029739,
     "end_time": "2024-02-13T20:59:16.689245",
     "exception": false,
     "start_time": "2024-02-13T20:59:16.659506",
     "status": "completed"
    },
    "tags": []
   },
   "outputs": [
    {
     "data": {
      "text/html": [
       "<div>\n",
       "<style scoped>\n",
       "    .dataframe tbody tr th:only-of-type {\n",
       "        vertical-align: middle;\n",
       "    }\n",
       "\n",
       "    .dataframe tbody tr th {\n",
       "        vertical-align: top;\n",
       "    }\n",
       "\n",
       "    .dataframe thead th {\n",
       "        text-align: right;\n",
       "    }\n",
       "</style>\n",
       "<table border=\"1\" class=\"dataframe\">\n",
       "  <thead>\n",
       "    <tr style=\"text-align: right;\">\n",
       "      <th></th>\n",
       "      <th>patient_id</th>\n",
       "      <th>labels</th>\n",
       "      <th>path</th>\n",
       "      <th>audio</th>\n",
       "    </tr>\n",
       "  </thead>\n",
       "  <tbody>\n",
       "    <tr>\n",
       "      <th>0</th>\n",
       "      <td>patient_052</td>\n",
       "      <td>1</td>\n",
       "      <td>/kaggle/input/bio-med-merged/patient_052.wav</td>\n",
       "      <td>/kaggle/input/bio-med-merged/patient_052.wav</td>\n",
       "    </tr>\n",
       "    <tr>\n",
       "      <th>1</th>\n",
       "      <td>patient_058</td>\n",
       "      <td>1</td>\n",
       "      <td>/kaggle/input/bio-med-merged/patient_058.wav</td>\n",
       "      <td>/kaggle/input/bio-med-merged/patient_058.wav</td>\n",
       "    </tr>\n",
       "    <tr>\n",
       "      <th>2</th>\n",
       "      <td>patient_068</td>\n",
       "      <td>1</td>\n",
       "      <td>/kaggle/input/bio-med-merged/patient_068.wav</td>\n",
       "      <td>/kaggle/input/bio-med-merged/patient_068.wav</td>\n",
       "    </tr>\n",
       "    <tr>\n",
       "      <th>3</th>\n",
       "      <td>patient_074</td>\n",
       "      <td>1</td>\n",
       "      <td>/kaggle/input/bio-med-merged/patient_074.wav</td>\n",
       "      <td>/kaggle/input/bio-med-merged/patient_074.wav</td>\n",
       "    </tr>\n",
       "    <tr>\n",
       "      <th>4</th>\n",
       "      <td>patient_054</td>\n",
       "      <td>0</td>\n",
       "      <td>/kaggle/input/bio-med-merged/patient_054.wav</td>\n",
       "      <td>/kaggle/input/bio-med-merged/patient_054.wav</td>\n",
       "    </tr>\n",
       "  </tbody>\n",
       "</table>\n",
       "</div>"
      ],
      "text/plain": [
       "    patient_id  labels                                          path  \\\n",
       "0  patient_052       1  /kaggle/input/bio-med-merged/patient_052.wav   \n",
       "1  patient_058       1  /kaggle/input/bio-med-merged/patient_058.wav   \n",
       "2  patient_068       1  /kaggle/input/bio-med-merged/patient_068.wav   \n",
       "3  patient_074       1  /kaggle/input/bio-med-merged/patient_074.wav   \n",
       "4  patient_054       0  /kaggle/input/bio-med-merged/patient_054.wav   \n",
       "\n",
       "                                          audio  \n",
       "0  /kaggle/input/bio-med-merged/patient_052.wav  \n",
       "1  /kaggle/input/bio-med-merged/patient_058.wav  \n",
       "2  /kaggle/input/bio-med-merged/patient_068.wav  \n",
       "3  /kaggle/input/bio-med-merged/patient_074.wav  \n",
       "4  /kaggle/input/bio-med-merged/patient_054.wav  "
      ]
     },
     "execution_count": 8,
     "metadata": {},
     "output_type": "execute_result"
    }
   ],
   "source": [
    "train.head()"
   ]
  },
  {
   "cell_type": "code",
   "execution_count": 9,
   "id": "bcfecbed",
   "metadata": {
    "execution": {
     "iopub.execute_input": "2024-02-13T20:59:16.724719Z",
     "iopub.status.busy": "2024-02-13T20:59:16.724419Z",
     "iopub.status.idle": "2024-02-13T20:59:16.730970Z",
     "shell.execute_reply": "2024-02-13T20:59:16.730164Z"
    },
    "papermill": {
     "duration": 0.026132,
     "end_time": "2024-02-13T20:59:16.732777",
     "exception": false,
     "start_time": "2024-02-13T20:59:16.706645",
     "status": "completed"
    },
    "tags": []
   },
   "outputs": [
    {
     "data": {
      "text/plain": [
       "labels\n",
       "0    19\n",
       "4    12\n",
       "2    11\n",
       "1    10\n",
       "3     6\n",
       "Name: count, dtype: int64"
      ]
     },
     "execution_count": 9,
     "metadata": {},
     "output_type": "execute_result"
    }
   ],
   "source": [
    "train.labels.value_counts()"
   ]
  },
  {
   "cell_type": "code",
   "execution_count": 10,
   "id": "940e1921",
   "metadata": {
    "execution": {
     "iopub.execute_input": "2024-02-13T20:59:16.768129Z",
     "iopub.status.busy": "2024-02-13T20:59:16.767872Z",
     "iopub.status.idle": "2024-02-13T20:59:16.779170Z",
     "shell.execute_reply": "2024-02-13T20:59:16.778195Z"
    },
    "papermill": {
     "duration": 0.031327,
     "end_time": "2024-02-13T20:59:16.781281",
     "exception": false,
     "start_time": "2024-02-13T20:59:16.749954",
     "status": "completed"
    },
    "tags": []
   },
   "outputs": [
    {
     "name": "stdout",
     "output_type": "stream",
     "text": [
      "Classes present in the test set: [1 4 0 3 2]\n"
     ]
    }
   ],
   "source": [
    "strat_split = StratifiedShuffleSplit(n_splits=1, test_size=0.2, random_state=31)\n",
    "for train_index, val_index in strat_split.split(train, train[\"labels\"]):\n",
    "    train_df = train.iloc[train_index]\n",
    "    val_df = train.iloc[val_index]\n",
    "\n",
    "unique_classes_in_test_set = val_df.labels.unique()\n",
    "print(\"Classes present in the test set:\", unique_classes_in_test_set)"
   ]
  },
  {
   "cell_type": "code",
   "execution_count": 11,
   "id": "120a13df",
   "metadata": {
    "execution": {
     "iopub.execute_input": "2024-02-13T20:59:16.819514Z",
     "iopub.status.busy": "2024-02-13T20:59:16.819223Z",
     "iopub.status.idle": "2024-02-13T20:59:16.848292Z",
     "shell.execute_reply": "2024-02-13T20:59:16.847644Z"
    },
    "papermill": {
     "duration": 0.050018,
     "end_time": "2024-02-13T20:59:16.850261",
     "exception": false,
     "start_time": "2024-02-13T20:59:16.800243",
     "status": "completed"
    },
    "tags": []
   },
   "outputs": [],
   "source": [
    "train_ds = Dataset.from_pandas(train_df)\n",
    "val_ds = Dataset.from_pandas(val_df)"
   ]
  },
  {
   "cell_type": "code",
   "execution_count": 12,
   "id": "52020428",
   "metadata": {
    "execution": {
     "iopub.execute_input": "2024-02-13T20:59:16.886681Z",
     "iopub.status.busy": "2024-02-13T20:59:16.886428Z",
     "iopub.status.idle": "2024-02-13T20:59:16.893276Z",
     "shell.execute_reply": "2024-02-13T20:59:16.892628Z"
    },
    "papermill": {
     "duration": 0.026789,
     "end_time": "2024-02-13T20:59:16.895068",
     "exception": false,
     "start_time": "2024-02-13T20:59:16.868279",
     "status": "completed"
    },
    "tags": []
   },
   "outputs": [
    {
     "data": {
      "text/plain": [
       "Dataset({\n",
       "    features: ['patient_id', 'labels', 'path', 'audio', '__index_level_0__'],\n",
       "    num_rows: 46\n",
       "})"
      ]
     },
     "execution_count": 12,
     "metadata": {},
     "output_type": "execute_result"
    }
   ],
   "source": [
    "train_ds"
   ]
  },
  {
   "cell_type": "code",
   "execution_count": 13,
   "id": "44992b52",
   "metadata": {
    "execution": {
     "iopub.execute_input": "2024-02-13T20:59:16.930981Z",
     "iopub.status.busy": "2024-02-13T20:59:16.930716Z",
     "iopub.status.idle": "2024-02-13T20:59:17.006684Z",
     "shell.execute_reply": "2024-02-13T20:59:17.005811Z"
    },
    "papermill": {
     "duration": 0.096122,
     "end_time": "2024-02-13T20:59:17.008700",
     "exception": false,
     "start_time": "2024-02-13T20:59:16.912578",
     "status": "completed"
    },
    "tags": []
   },
   "outputs": [],
   "source": [
    "train_ds = train_ds.cast_column(\"audio\", Audio(sampling_rate=16_000))\n",
    "val_ds = val_ds.cast_column(\"audio\", Audio(sampling_rate=16_000))"
   ]
  },
  {
   "cell_type": "code",
   "execution_count": 14,
   "id": "d2816c24",
   "metadata": {
    "execution": {
     "iopub.execute_input": "2024-02-13T20:59:17.045462Z",
     "iopub.status.busy": "2024-02-13T20:59:17.044807Z",
     "iopub.status.idle": "2024-02-13T20:59:17.050241Z",
     "shell.execute_reply": "2024-02-13T20:59:17.049423Z"
    },
    "papermill": {
     "duration": 0.025477,
     "end_time": "2024-02-13T20:59:17.052063",
     "exception": false,
     "start_time": "2024-02-13T20:59:17.026586",
     "status": "completed"
    },
    "tags": []
   },
   "outputs": [
    {
     "data": {
      "text/plain": [
       "(46, 12)"
      ]
     },
     "execution_count": 14,
     "metadata": {},
     "output_type": "execute_result"
    }
   ],
   "source": [
    "len(train_ds), len(val_ds)"
   ]
  },
  {
   "cell_type": "code",
   "execution_count": 17,
   "id": "7d9e5fe5",
   "metadata": {
    "execution": {
     "iopub.execute_input": "2024-02-13T20:59:27.911322Z",
     "iopub.status.busy": "2024-02-13T20:59:27.911051Z",
     "iopub.status.idle": "2024-02-13T20:59:27.917916Z",
     "shell.execute_reply": "2024-02-13T20:59:27.917085Z"
    },
    "papermill": {
     "duration": 0.026836,
     "end_time": "2024-02-13T20:59:27.919730",
     "exception": false,
     "start_time": "2024-02-13T20:59:27.892894",
     "status": "completed"
    },
    "tags": []
   },
   "outputs": [
    {
     "data": {
      "text/plain": [
       "{'AS': '0', 'AR': '1', 'MR': '2', 'MS': '3', 'N': '4'}"
      ]
     },
     "execution_count": 17,
     "metadata": {},
     "output_type": "execute_result"
    }
   ],
   "source": [
    "labels = [\"AS\", \"AR\", \"MR\", \"MS\", \"N\"]\n",
    "\n",
    "label2id, id2label = dict(), dict()\n",
    "for i, label in enumerate(labels):\n",
    "    label2id[label] = str(i)\n",
    "    id2label[str(i)] = label\n",
    "label2id"
   ]
  },
  {
   "cell_type": "code",
   "execution_count": 19,
   "id": "ce287118",
   "metadata": {
    "execution": {
     "iopub.execute_input": "2024-02-13T20:59:27.997143Z",
     "iopub.status.busy": "2024-02-13T20:59:27.996631Z",
     "iopub.status.idle": "2024-02-13T20:59:28.007843Z",
     "shell.execute_reply": "2024-02-13T20:59:28.007005Z"
    },
    "papermill": {
     "duration": 0.031048,
     "end_time": "2024-02-13T20:59:28.009706",
     "exception": false,
     "start_time": "2024-02-13T20:59:27.978658",
     "status": "completed"
    },
    "tags": []
   },
   "outputs": [],
   "source": [
    "from transformers import AutoFeatureExtractor, ASTForAudioClassification"
   ]
  },
  {
   "cell_type": "code",
   "execution_count": 20,
   "id": "65549bec",
   "metadata": {
    "execution": {
     "iopub.execute_input": "2024-02-13T20:59:28.045633Z",
     "iopub.status.busy": "2024-02-13T20:59:28.045372Z",
     "iopub.status.idle": "2024-02-13T20:59:28.692779Z",
     "shell.execute_reply": "2024-02-13T20:59:28.691716Z"
    },
    "papermill": {
     "duration": 0.667879,
     "end_time": "2024-02-13T20:59:28.695218",
     "exception": false,
     "start_time": "2024-02-13T20:59:28.027339",
     "status": "completed"
    },
    "tags": []
   },
   "outputs": [
    {
     "data": {
      "application/vnd.jupyter.widget-view+json": {
       "model_id": "edad8b1214d544439517a726a5766273",
       "version_major": 2,
       "version_minor": 0
      },
      "text/plain": [
       "preprocessor_config.json:   0%|          | 0.00/297 [00:00<?, ?B/s]"
      ]
     },
     "metadata": {},
     "output_type": "display_data"
    }
   ],
   "source": [
    "feature_extractor = AutoFeatureExtractor.from_pretrained(\n",
    "    \"MIT/ast-finetuned-audioset-10-10-0.4593\"\n",
    ")"
   ]
  },
  {
   "cell_type": "code",
   "execution_count": 21,
   "id": "7ad346bc",
   "metadata": {
    "execution": {
     "iopub.execute_input": "2024-02-13T20:59:28.737241Z",
     "iopub.status.busy": "2024-02-13T20:59:28.736935Z",
     "iopub.status.idle": "2024-02-13T20:59:28.743549Z",
     "shell.execute_reply": "2024-02-13T20:59:28.742614Z"
    },
    "papermill": {
     "duration": 0.027968,
     "end_time": "2024-02-13T20:59:28.745597",
     "exception": false,
     "start_time": "2024-02-13T20:59:28.717629",
     "status": "completed"
    },
    "tags": []
   },
   "outputs": [],
   "source": [
    "def preprocess_function(examples):\n",
    "    audio_arrays = [x[\"array\"] for x in examples[\"audio\"]]\n",
    "    inputs = feature_extractor(\n",
    "        audio_arrays,\n",
    "        sampling_rate=feature_extractor.sampling_rate,\n",
    "        max_length=16000,\n",
    "        truncation=True,\n",
    "    )\n",
    "    return inputs"
   ]
  },
  {
   "cell_type": "code",
   "execution_count": 22,
   "id": "fd88fd11",
   "metadata": {
    "execution": {
     "iopub.execute_input": "2024-02-13T20:59:28.830564Z",
     "iopub.status.busy": "2024-02-13T20:59:28.829624Z",
     "iopub.status.idle": "2024-02-13T20:59:28.834219Z",
     "shell.execute_reply": "2024-02-13T20:59:28.833296Z"
    },
    "papermill": {
     "duration": 0.028955,
     "end_time": "2024-02-13T20:59:28.836471",
     "exception": false,
     "start_time": "2024-02-13T20:59:28.807516",
     "status": "completed"
    },
    "tags": []
   },
   "outputs": [],
   "source": [
    "np.object = object "
   ]
  },
  {
   "cell_type": "code",
   "execution_count": 23,
   "id": "403a7cde",
   "metadata": {
    "execution": {
     "iopub.execute_input": "2024-02-13T20:59:28.876197Z",
     "iopub.status.busy": "2024-02-13T20:59:28.875860Z",
     "iopub.status.idle": "2024-02-13T20:59:36.907214Z",
     "shell.execute_reply": "2024-02-13T20:59:36.906296Z"
    },
    "papermill": {
     "duration": 8.052929,
     "end_time": "2024-02-13T20:59:36.909172",
     "exception": false,
     "start_time": "2024-02-13T20:59:28.856243",
     "status": "completed"
    },
    "tags": []
   },
   "outputs": [
    {
     "data": {
      "application/vnd.jupyter.widget-view+json": {
       "model_id": "f1d65cb3b6e444738cdfbe826fbc39c4",
       "version_major": 2,
       "version_minor": 0
      },
      "text/plain": [
       "  0%|          | 0/1 [00:00<?, ?ba/s]"
      ]
     },
     "metadata": {},
     "output_type": "display_data"
    },
    {
     "data": {
      "application/vnd.jupyter.widget-view+json": {
       "model_id": "4eadef9855854b098e37938229724721",
       "version_major": 2,
       "version_minor": 0
      },
      "text/plain": [
       "  0%|          | 0/1 [00:00<?, ?ba/s]"
      ]
     },
     "metadata": {},
     "output_type": "display_data"
    }
   ],
   "source": [
    "encoded_train = train_ds.map(preprocess_function, remove_columns=\"audio\", batched=True)\n",
    "encoded_val = val_ds.map(preprocess_function, remove_columns=\"audio\", batched=True)"
   ]
  },
  {
   "cell_type": "code",
   "execution_count": 24,
   "id": "a6095705",
   "metadata": {
    "execution": {
     "iopub.execute_input": "2024-02-13T20:59:36.947456Z",
     "iopub.status.busy": "2024-02-13T20:59:36.947165Z",
     "iopub.status.idle": "2024-02-13T20:59:36.953464Z",
     "shell.execute_reply": "2024-02-13T20:59:36.952687Z"
    },
    "papermill": {
     "duration": 0.027495,
     "end_time": "2024-02-13T20:59:36.955416",
     "exception": false,
     "start_time": "2024-02-13T20:59:36.927921",
     "status": "completed"
    },
    "tags": []
   },
   "outputs": [],
   "source": [
    "def compute_metrics(p):\n",
    "    predictions, labels = p\n",
    "    predictions = np.argmax(predictions, axis=1)\n",
    "    acc = accuracy_score(labels, predictions)\n",
    "    f1 = f1_score(labels, predictions, average=\"weighted\")\n",
    "    recall = recall_score(labels, predictions, average=\"weighted\")\n",
    "    precision = precision_score(labels, predictions, average=\"weighted\")\n",
    "    macro_f1 = f1_score(labels, predictions, average=\"macro\")\n",
    "\n",
    "    return {\n",
    "        \"accuracy\": acc,\n",
    "        \"f1-score\": f1,\n",
    "        \"macro-f1-score\": macro_f1,\n",
    "        \"recall-score\": recall,\n",
    "        \"precision-score\": precision,\n",
    "    }"
   ]
  },
  {
   "cell_type": "code",
   "execution_count": 25,
   "id": "5279fc69",
   "metadata": {
    "execution": {
     "iopub.execute_input": "2024-02-13T20:59:36.993016Z",
     "iopub.status.busy": "2024-02-13T20:59:36.992492Z",
     "iopub.status.idle": "2024-02-13T20:59:36.996378Z",
     "shell.execute_reply": "2024-02-13T20:59:36.995580Z"
    },
    "papermill": {
     "duration": 0.024617,
     "end_time": "2024-02-13T20:59:36.998329",
     "exception": false,
     "start_time": "2024-02-13T20:59:36.973712",
     "status": "completed"
    },
    "tags": []
   },
   "outputs": [],
   "source": [
    "from transformers import AdamW, get_linear_schedule_with_warmup"
   ]
  },
  {
   "cell_type": "code",
   "execution_count": 26,
   "id": "e5022729",
   "metadata": {
    "execution": {
     "iopub.execute_input": "2024-02-13T20:59:37.035113Z",
     "iopub.status.busy": "2024-02-13T20:59:37.034874Z",
     "iopub.status.idle": "2024-02-13T20:59:37.039891Z",
     "shell.execute_reply": "2024-02-13T20:59:37.039087Z"
    },
    "papermill": {
     "duration": 0.025571,
     "end_time": "2024-02-13T20:59:37.041788",
     "exception": false,
     "start_time": "2024-02-13T20:59:37.016217",
     "status": "completed"
    },
    "tags": []
   },
   "outputs": [],
   "source": [
    "import math\n",
    "from transformers import EarlyStoppingCallback\n",
    "\n",
    "early_stopping = EarlyStoppingCallback(early_stopping_patience=5)\n",
    "\n",
    "train_bs = 4\n",
    "epochs = 25\n",
    "lr = 1e-6\n",
    "lrf = lr\n",
    "output_dir = \"./results\"\n",
    "total_steps = int((np.ceil(encoded_train.num_rows / train_bs) * epochs))\n",
    "\n",
    "num_labels = len(id2label)"
   ]
  },
  {
   "cell_type": "code",
   "execution_count": 27,
   "id": "0ccb5646",
   "metadata": {
    "execution": {
     "iopub.execute_input": "2024-02-13T20:59:37.079009Z",
     "iopub.status.busy": "2024-02-13T20:59:37.078419Z",
     "iopub.status.idle": "2024-02-13T20:59:39.595523Z",
     "shell.execute_reply": "2024-02-13T20:59:39.594678Z"
    },
    "papermill": {
     "duration": 2.538062,
     "end_time": "2024-02-13T20:59:39.597767",
     "exception": false,
     "start_time": "2024-02-13T20:59:37.059705",
     "status": "completed"
    },
    "tags": []
   },
   "outputs": [
    {
     "data": {
      "application/vnd.jupyter.widget-view+json": {
       "model_id": "c481597faa2149918b0fbe846af61407",
       "version_major": 2,
       "version_minor": 0
      },
      "text/plain": [
       "config.json:   0%|          | 0.00/26.8k [00:00<?, ?B/s]"
      ]
     },
     "metadata": {},
     "output_type": "display_data"
    },
    {
     "data": {
      "application/vnd.jupyter.widget-view+json": {
       "model_id": "cdcf1323eb054e82a0a76367e3089aa5",
       "version_major": 2,
       "version_minor": 0
      },
      "text/plain": [
       "model.safetensors:   0%|          | 0.00/346M [00:00<?, ?B/s]"
      ]
     },
     "metadata": {},
     "output_type": "display_data"
    }
   ],
   "source": [
    "model = ASTForAudioClassification.from_pretrained(\n",
    "    \"MIT/ast-finetuned-audioset-10-10-0.4593\"\n",
    ")"
   ]
  },
  {
   "cell_type": "code",
   "execution_count": 28,
   "id": "9c96c327",
   "metadata": {
    "execution": {
     "iopub.execute_input": "2024-02-13T20:59:39.638299Z",
     "iopub.status.busy": "2024-02-13T20:59:39.637567Z",
     "iopub.status.idle": "2024-02-13T20:59:39.987296Z",
     "shell.execute_reply": "2024-02-13T20:59:39.986481Z"
    },
    "papermill": {
     "duration": 0.37266,
     "end_time": "2024-02-13T20:59:39.989714",
     "exception": false,
     "start_time": "2024-02-13T20:59:39.617054",
     "status": "completed"
    },
    "tags": []
   },
   "outputs": [],
   "source": [
    "training_args = TrainingArguments(\n",
    "    output_dir=output_dir,\n",
    "    evaluation_strategy=\"epoch\",\n",
    "    save_strategy=\"epoch\",\n",
    "    num_train_epochs=epochs,\n",
    "    load_best_model_at_end=True,\n",
    "    save_total_limit=1,\n",
    "    metric_for_best_model=\"loss\",\n",
    "    per_device_train_batch_size=train_bs,\n",
    "    per_device_eval_batch_size=8,\n",
    "    logging_steps=1,\n",
    "    report_to=\"none\",\n",
    "    greater_is_better=False,\n",
    ")\n",
    "\n",
    "optimizer = torch.optim.AdamW(model.parameters(), lr=lr)\n",
    "scheduler = torch.optim.lr_scheduler.LambdaLR(\n",
    "    optimizer,\n",
    "    warmup_cosine(\n",
    "        epochs // 10, max_lr=2e-6, total_steps=total_steps, optimizer_lr=lr, min_lr=1e-7\n",
    "    ),\n",
    ")\n",
    "\n",
    "trainer = Trainer(\n",
    "    model=model,\n",
    "    args=training_args,\n",
    "    train_dataset=encoded_train,\n",
    "    eval_dataset=encoded_val,\n",
    "    tokenizer=feature_extractor,\n",
    "    compute_metrics=compute_metrics,\n",
    "    optimizers=(optimizer, scheduler),\n",
    ")"
   ]
  },
  {
   "cell_type": "code",
   "execution_count": 29,
   "id": "62be8d5d",
   "metadata": {
    "execution": {
     "iopub.execute_input": "2024-02-13T20:59:40.029070Z",
     "iopub.status.busy": "2024-02-13T20:59:40.028739Z",
     "iopub.status.idle": "2024-02-13T21:06:29.382109Z",
     "shell.execute_reply": "2024-02-13T21:06:29.380963Z"
    },
    "papermill": {
     "duration": 409.375372,
     "end_time": "2024-02-13T21:06:29.384266",
     "exception": false,
     "start_time": "2024-02-13T20:59:40.008894",
     "status": "completed"
    },
    "tags": []
   },
   "outputs": [
    {
     "data": {
      "text/html": [
       "\n",
       "    <div>\n",
       "      \n",
       "      <progress value='150' max='150' style='width:300px; height:20px; vertical-align: middle;'></progress>\n",
       "      [150/150 06:42, Epoch 25/25]\n",
       "    </div>\n",
       "    <table border=\"1\" class=\"dataframe\">\n",
       "  <thead>\n",
       " <tr style=\"text-align: left;\">\n",
       "      <th>Epoch</th>\n",
       "      <th>Training Loss</th>\n",
       "      <th>Validation Loss</th>\n",
       "      <th>Accuracy</th>\n",
       "      <th>F1-score</th>\n",
       "      <th>Macro-f1-score</th>\n",
       "      <th>Recall-score</th>\n",
       "      <th>Precision-score</th>\n",
       "    </tr>\n",
       "  </thead>\n",
       "  <tbody>\n",
       "    <tr>\n",
       "      <td>1</td>\n",
       "      <td>8.913200</td>\n",
       "      <td>8.477050</td>\n",
       "      <td>0.000000</td>\n",
       "      <td>0.000000</td>\n",
       "      <td>0.000000</td>\n",
       "      <td>0.000000</td>\n",
       "      <td>0.000000</td>\n",
       "    </tr>\n",
       "    <tr>\n",
       "      <td>2</td>\n",
       "      <td>4.699400</td>\n",
       "      <td>4.632671</td>\n",
       "      <td>0.083333</td>\n",
       "      <td>0.133333</td>\n",
       "      <td>0.057143</td>\n",
       "      <td>0.083333</td>\n",
       "      <td>0.333333</td>\n",
       "    </tr>\n",
       "    <tr>\n",
       "      <td>3</td>\n",
       "      <td>4.317800</td>\n",
       "      <td>3.046070</td>\n",
       "      <td>0.333333</td>\n",
       "      <td>0.166667</td>\n",
       "      <td>0.100000</td>\n",
       "      <td>0.333333</td>\n",
       "      <td>0.111111</td>\n",
       "    </tr>\n",
       "    <tr>\n",
       "      <td>4</td>\n",
       "      <td>2.282100</td>\n",
       "      <td>2.255100</td>\n",
       "      <td>0.333333</td>\n",
       "      <td>0.166667</td>\n",
       "      <td>0.100000</td>\n",
       "      <td>0.333333</td>\n",
       "      <td>0.111111</td>\n",
       "    </tr>\n",
       "    <tr>\n",
       "      <td>5</td>\n",
       "      <td>1.830500</td>\n",
       "      <td>1.887412</td>\n",
       "      <td>0.416667</td>\n",
       "      <td>0.277778</td>\n",
       "      <td>0.200000</td>\n",
       "      <td>0.416667</td>\n",
       "      <td>0.208333</td>\n",
       "    </tr>\n",
       "    <tr>\n",
       "      <td>6</td>\n",
       "      <td>1.372400</td>\n",
       "      <td>1.724260</td>\n",
       "      <td>0.333333</td>\n",
       "      <td>0.277778</td>\n",
       "      <td>0.200000</td>\n",
       "      <td>0.333333</td>\n",
       "      <td>0.366667</td>\n",
       "    </tr>\n",
       "    <tr>\n",
       "      <td>7</td>\n",
       "      <td>1.462900</td>\n",
       "      <td>1.566931</td>\n",
       "      <td>0.416667</td>\n",
       "      <td>0.290043</td>\n",
       "      <td>0.202597</td>\n",
       "      <td>0.416667</td>\n",
       "      <td>0.223810</td>\n",
       "    </tr>\n",
       "    <tr>\n",
       "      <td>8</td>\n",
       "      <td>1.159900</td>\n",
       "      <td>1.478375</td>\n",
       "      <td>0.500000</td>\n",
       "      <td>0.367424</td>\n",
       "      <td>0.245455</td>\n",
       "      <td>0.500000</td>\n",
       "      <td>0.290476</td>\n",
       "    </tr>\n",
       "    <tr>\n",
       "      <td>9</td>\n",
       "      <td>1.459400</td>\n",
       "      <td>1.437895</td>\n",
       "      <td>0.416667</td>\n",
       "      <td>0.288462</td>\n",
       "      <td>0.189744</td>\n",
       "      <td>0.416667</td>\n",
       "      <td>0.231481</td>\n",
       "    </tr>\n",
       "    <tr>\n",
       "      <td>10</td>\n",
       "      <td>1.323500</td>\n",
       "      <td>1.390640</td>\n",
       "      <td>0.500000</td>\n",
       "      <td>0.365079</td>\n",
       "      <td>0.247619</td>\n",
       "      <td>0.500000</td>\n",
       "      <td>0.291667</td>\n",
       "    </tr>\n",
       "    <tr>\n",
       "      <td>11</td>\n",
       "      <td>1.194700</td>\n",
       "      <td>1.376471</td>\n",
       "      <td>0.583333</td>\n",
       "      <td>0.555556</td>\n",
       "      <td>0.533333</td>\n",
       "      <td>0.583333</td>\n",
       "      <td>0.575000</td>\n",
       "    </tr>\n",
       "    <tr>\n",
       "      <td>12</td>\n",
       "      <td>1.006300</td>\n",
       "      <td>1.380941</td>\n",
       "      <td>0.500000</td>\n",
       "      <td>0.447222</td>\n",
       "      <td>0.413333</td>\n",
       "      <td>0.500000</td>\n",
       "      <td>0.436111</td>\n",
       "    </tr>\n",
       "    <tr>\n",
       "      <td>13</td>\n",
       "      <td>0.878500</td>\n",
       "      <td>1.302885</td>\n",
       "      <td>0.583333</td>\n",
       "      <td>0.555556</td>\n",
       "      <td>0.533333</td>\n",
       "      <td>0.583333</td>\n",
       "      <td>0.575000</td>\n",
       "    </tr>\n",
       "    <tr>\n",
       "      <td>14</td>\n",
       "      <td>1.059300</td>\n",
       "      <td>1.229810</td>\n",
       "      <td>0.500000</td>\n",
       "      <td>0.476190</td>\n",
       "      <td>0.380952</td>\n",
       "      <td>0.500000</td>\n",
       "      <td>0.491667</td>\n",
       "    </tr>\n",
       "    <tr>\n",
       "      <td>15</td>\n",
       "      <td>0.713200</td>\n",
       "      <td>1.263143</td>\n",
       "      <td>0.583333</td>\n",
       "      <td>0.523810</td>\n",
       "      <td>0.514286</td>\n",
       "      <td>0.583333</td>\n",
       "      <td>0.513889</td>\n",
       "    </tr>\n",
       "    <tr>\n",
       "      <td>16</td>\n",
       "      <td>0.459300</td>\n",
       "      <td>1.234343</td>\n",
       "      <td>0.500000</td>\n",
       "      <td>0.465476</td>\n",
       "      <td>0.427619</td>\n",
       "      <td>0.500000</td>\n",
       "      <td>0.472222</td>\n",
       "    </tr>\n",
       "    <tr>\n",
       "      <td>17</td>\n",
       "      <td>0.348000</td>\n",
       "      <td>1.281433</td>\n",
       "      <td>0.500000</td>\n",
       "      <td>0.465476</td>\n",
       "      <td>0.427619</td>\n",
       "      <td>0.500000</td>\n",
       "      <td>0.472222</td>\n",
       "    </tr>\n",
       "    <tr>\n",
       "      <td>18</td>\n",
       "      <td>0.381900</td>\n",
       "      <td>1.244854</td>\n",
       "      <td>0.500000</td>\n",
       "      <td>0.465476</td>\n",
       "      <td>0.427619</td>\n",
       "      <td>0.500000</td>\n",
       "      <td>0.472222</td>\n",
       "    </tr>\n",
       "    <tr>\n",
       "      <td>19</td>\n",
       "      <td>0.240100</td>\n",
       "      <td>1.246109</td>\n",
       "      <td>0.416667</td>\n",
       "      <td>0.334921</td>\n",
       "      <td>0.327619</td>\n",
       "      <td>0.416667</td>\n",
       "      <td>0.326389</td>\n",
       "    </tr>\n",
       "    <tr>\n",
       "      <td>20</td>\n",
       "      <td>0.193200</td>\n",
       "      <td>1.318817</td>\n",
       "      <td>0.416667</td>\n",
       "      <td>0.390476</td>\n",
       "      <td>0.354286</td>\n",
       "      <td>0.416667</td>\n",
       "      <td>0.423611</td>\n",
       "    </tr>\n",
       "    <tr>\n",
       "      <td>21</td>\n",
       "      <td>0.189700</td>\n",
       "      <td>1.340578</td>\n",
       "      <td>0.416667</td>\n",
       "      <td>0.390476</td>\n",
       "      <td>0.354286</td>\n",
       "      <td>0.416667</td>\n",
       "      <td>0.423611</td>\n",
       "    </tr>\n",
       "    <tr>\n",
       "      <td>22</td>\n",
       "      <td>0.092500</td>\n",
       "      <td>1.332846</td>\n",
       "      <td>0.416667</td>\n",
       "      <td>0.390476</td>\n",
       "      <td>0.354286</td>\n",
       "      <td>0.416667</td>\n",
       "      <td>0.423611</td>\n",
       "    </tr>\n",
       "    <tr>\n",
       "      <td>23</td>\n",
       "      <td>0.179700</td>\n",
       "      <td>1.352341</td>\n",
       "      <td>0.500000</td>\n",
       "      <td>0.473810</td>\n",
       "      <td>0.427619</td>\n",
       "      <td>0.500000</td>\n",
       "      <td>0.493056</td>\n",
       "    </tr>\n",
       "    <tr>\n",
       "      <td>24</td>\n",
       "      <td>0.067900</td>\n",
       "      <td>1.417794</td>\n",
       "      <td>0.416667</td>\n",
       "      <td>0.390476</td>\n",
       "      <td>0.354286</td>\n",
       "      <td>0.416667</td>\n",
       "      <td>0.423611</td>\n",
       "    </tr>\n",
       "    <tr>\n",
       "      <td>25</td>\n",
       "      <td>0.076500</td>\n",
       "      <td>1.485537</td>\n",
       "      <td>0.500000</td>\n",
       "      <td>0.473810</td>\n",
       "      <td>0.427619</td>\n",
       "      <td>0.500000</td>\n",
       "      <td>0.493056</td>\n",
       "    </tr>\n",
       "  </tbody>\n",
       "</table><p>"
      ],
      "text/plain": [
       "<IPython.core.display.HTML object>"
      ]
     },
     "metadata": {},
     "output_type": "display_data"
    },
    {
     "name": "stderr",
     "output_type": "stream",
     "text": [
      "Some non-default generation parameters are set in the model config. These should go into a GenerationConfig file (https://huggingface.co/docs/transformers/generation_strategies#save-a-custom-decoding-strategy-with-your-model) instead. This warning will be raised to an exception in v4.41.\n",
      "Non-default generation parameters: {'max_length': 1024}\n",
      "Some non-default generation parameters are set in the model config. These should go into a GenerationConfig file (https://huggingface.co/docs/transformers/generation_strategies#save-a-custom-decoding-strategy-with-your-model) instead. This warning will be raised to an exception in v4.41.\n",
      "Non-default generation parameters: {'max_length': 1024}\n",
      "Some non-default generation parameters are set in the model config. These should go into a GenerationConfig file (https://huggingface.co/docs/transformers/generation_strategies#save-a-custom-decoding-strategy-with-your-model) instead. This warning will be raised to an exception in v4.41.\n",
      "Non-default generation parameters: {'max_length': 1024}\n",
      "Some non-default generation parameters are set in the model config. These should go into a GenerationConfig file (https://huggingface.co/docs/transformers/generation_strategies#save-a-custom-decoding-strategy-with-your-model) instead. This warning will be raised to an exception in v4.41.\n",
      "Non-default generation parameters: {'max_length': 1024}\n",
      "Some non-default generation parameters are set in the model config. These should go into a GenerationConfig file (https://huggingface.co/docs/transformers/generation_strategies#save-a-custom-decoding-strategy-with-your-model) instead. This warning will be raised to an exception in v4.41.\n",
      "Non-default generation parameters: {'max_length': 1024}\n",
      "Some non-default generation parameters are set in the model config. These should go into a GenerationConfig file (https://huggingface.co/docs/transformers/generation_strategies#save-a-custom-decoding-strategy-with-your-model) instead. This warning will be raised to an exception in v4.41.\n",
      "Non-default generation parameters: {'max_length': 1024}\n",
      "Some non-default generation parameters are set in the model config. These should go into a GenerationConfig file (https://huggingface.co/docs/transformers/generation_strategies#save-a-custom-decoding-strategy-with-your-model) instead. This warning will be raised to an exception in v4.41.\n",
      "Non-default generation parameters: {'max_length': 1024}\n",
      "Some non-default generation parameters are set in the model config. These should go into a GenerationConfig file (https://huggingface.co/docs/transformers/generation_strategies#save-a-custom-decoding-strategy-with-your-model) instead. This warning will be raised to an exception in v4.41.\n",
      "Non-default generation parameters: {'max_length': 1024}\n",
      "Some non-default generation parameters are set in the model config. These should go into a GenerationConfig file (https://huggingface.co/docs/transformers/generation_strategies#save-a-custom-decoding-strategy-with-your-model) instead. This warning will be raised to an exception in v4.41.\n",
      "Non-default generation parameters: {'max_length': 1024}\n",
      "Some non-default generation parameters are set in the model config. These should go into a GenerationConfig file (https://huggingface.co/docs/transformers/generation_strategies#save-a-custom-decoding-strategy-with-your-model) instead. This warning will be raised to an exception in v4.41.\n",
      "Non-default generation parameters: {'max_length': 1024}\n",
      "Some non-default generation parameters are set in the model config. These should go into a GenerationConfig file (https://huggingface.co/docs/transformers/generation_strategies#save-a-custom-decoding-strategy-with-your-model) instead. This warning will be raised to an exception in v4.41.\n",
      "Non-default generation parameters: {'max_length': 1024}\n",
      "Some non-default generation parameters are set in the model config. These should go into a GenerationConfig file (https://huggingface.co/docs/transformers/generation_strategies#save-a-custom-decoding-strategy-with-your-model) instead. This warning will be raised to an exception in v4.41.\n",
      "Non-default generation parameters: {'max_length': 1024}\n",
      "Some non-default generation parameters are set in the model config. These should go into a GenerationConfig file (https://huggingface.co/docs/transformers/generation_strategies#save-a-custom-decoding-strategy-with-your-model) instead. This warning will be raised to an exception in v4.41.\n",
      "Non-default generation parameters: {'max_length': 1024}\n",
      "Some non-default generation parameters are set in the model config. These should go into a GenerationConfig file (https://huggingface.co/docs/transformers/generation_strategies#save-a-custom-decoding-strategy-with-your-model) instead. This warning will be raised to an exception in v4.41.\n",
      "Non-default generation parameters: {'max_length': 1024}\n",
      "Some non-default generation parameters are set in the model config. These should go into a GenerationConfig file (https://huggingface.co/docs/transformers/generation_strategies#save-a-custom-decoding-strategy-with-your-model) instead. This warning will be raised to an exception in v4.41.\n",
      "Non-default generation parameters: {'max_length': 1024}\n",
      "Some non-default generation parameters are set in the model config. These should go into a GenerationConfig file (https://huggingface.co/docs/transformers/generation_strategies#save-a-custom-decoding-strategy-with-your-model) instead. This warning will be raised to an exception in v4.41.\n",
      "Non-default generation parameters: {'max_length': 1024}\n",
      "Some non-default generation parameters are set in the model config. These should go into a GenerationConfig file (https://huggingface.co/docs/transformers/generation_strategies#save-a-custom-decoding-strategy-with-your-model) instead. This warning will be raised to an exception in v4.41.\n",
      "Non-default generation parameters: {'max_length': 1024}\n",
      "Some non-default generation parameters are set in the model config. These should go into a GenerationConfig file (https://huggingface.co/docs/transformers/generation_strategies#save-a-custom-decoding-strategy-with-your-model) instead. This warning will be raised to an exception in v4.41.\n",
      "Non-default generation parameters: {'max_length': 1024}\n",
      "Some non-default generation parameters are set in the model config. These should go into a GenerationConfig file (https://huggingface.co/docs/transformers/generation_strategies#save-a-custom-decoding-strategy-with-your-model) instead. This warning will be raised to an exception in v4.41.\n",
      "Non-default generation parameters: {'max_length': 1024}\n",
      "Some non-default generation parameters are set in the model config. These should go into a GenerationConfig file (https://huggingface.co/docs/transformers/generation_strategies#save-a-custom-decoding-strategy-with-your-model) instead. This warning will be raised to an exception in v4.41.\n",
      "Non-default generation parameters: {'max_length': 1024}\n",
      "Some non-default generation parameters are set in the model config. These should go into a GenerationConfig file (https://huggingface.co/docs/transformers/generation_strategies#save-a-custom-decoding-strategy-with-your-model) instead. This warning will be raised to an exception in v4.41.\n",
      "Non-default generation parameters: {'max_length': 1024}\n",
      "Some non-default generation parameters are set in the model config. These should go into a GenerationConfig file (https://huggingface.co/docs/transformers/generation_strategies#save-a-custom-decoding-strategy-with-your-model) instead. This warning will be raised to an exception in v4.41.\n",
      "Non-default generation parameters: {'max_length': 1024}\n",
      "Some non-default generation parameters are set in the model config. These should go into a GenerationConfig file (https://huggingface.co/docs/transformers/generation_strategies#save-a-custom-decoding-strategy-with-your-model) instead. This warning will be raised to an exception in v4.41.\n",
      "Non-default generation parameters: {'max_length': 1024}\n",
      "Some non-default generation parameters are set in the model config. These should go into a GenerationConfig file (https://huggingface.co/docs/transformers/generation_strategies#save-a-custom-decoding-strategy-with-your-model) instead. This warning will be raised to an exception in v4.41.\n",
      "Non-default generation parameters: {'max_length': 1024}\n",
      "Some non-default generation parameters are set in the model config. These should go into a GenerationConfig file (https://huggingface.co/docs/transformers/generation_strategies#save-a-custom-decoding-strategy-with-your-model) instead. This warning will be raised to an exception in v4.41.\n",
      "Non-default generation parameters: {'max_length': 1024}\n"
     ]
    },
    {
     "data": {
      "text/plain": [
       "TrainOutput(global_step=150, training_loss=1.587062072729071, metrics={'train_runtime': 408.7805, 'train_samples_per_second': 2.813, 'train_steps_per_second': 0.367, 'total_flos': 7.83153934761984e+16, 'train_loss': 1.587062072729071, 'epoch': 25.0})"
      ]
     },
     "execution_count": 29,
     "metadata": {},
     "output_type": "execute_result"
    }
   ],
   "source": [
    "trainer.train()"
   ]
  },
  {
   "cell_type": "code",
   "execution_count": 30,
   "id": "bb497c4b",
   "metadata": {
    "execution": {
     "iopub.execute_input": "2024-02-13T21:06:29.428246Z",
     "iopub.status.busy": "2024-02-13T21:06:29.427951Z",
     "iopub.status.idle": "2024-02-13T21:06:31.320114Z",
     "shell.execute_reply": "2024-02-13T21:06:31.319002Z"
    },
    "papermill": {
     "duration": 1.916319,
     "end_time": "2024-02-13T21:06:31.322130",
     "exception": false,
     "start_time": "2024-02-13T21:06:29.405811",
     "status": "completed"
    },
    "tags": []
   },
   "outputs": [
    {
     "data": {
      "text/html": [],
      "text/plain": [
       "<IPython.core.display.HTML object>"
      ]
     },
     "metadata": {},
     "output_type": "display_data"
    },
    {
     "name": "stdout",
     "output_type": "stream",
     "text": [
      "Evaluation results: {'eval_loss': 1.2298098802566528, 'eval_accuracy': 0.5, 'eval_f1-score': 0.4761904761904761, 'eval_macro-f1-score': 0.38095238095238093, 'eval_recall-score': 0.5, 'eval_precision-score': 0.4916666666666667, 'eval_runtime': 1.8852, 'eval_samples_per_second': 6.366, 'eval_steps_per_second': 0.53, 'epoch': 25.0}\n"
     ]
    }
   ],
   "source": [
    "eval_results = trainer.evaluate()\n",
    "\n",
    "print(\"Evaluation results:\", eval_results)"
   ]
  },
  {
   "cell_type": "code",
   "execution_count": 31,
   "id": "5aabc2b8",
   "metadata": {
    "execution": {
     "iopub.execute_input": "2024-02-13T21:06:31.367798Z",
     "iopub.status.busy": "2024-02-13T21:06:31.367483Z",
     "iopub.status.idle": "2024-02-13T21:06:31.415401Z",
     "shell.execute_reply": "2024-02-13T21:06:31.414480Z"
    },
    "papermill": {
     "duration": 0.073084,
     "end_time": "2024-02-13T21:06:31.417229",
     "exception": false,
     "start_time": "2024-02-13T21:06:31.344145",
     "status": "completed"
    },
    "tags": []
   },
   "outputs": [
    {
     "data": {
      "text/html": [
       "<div>\n",
       "<style scoped>\n",
       "    .dataframe tbody tr th:only-of-type {\n",
       "        vertical-align: middle;\n",
       "    }\n",
       "\n",
       "    .dataframe tbody tr th {\n",
       "        vertical-align: top;\n",
       "    }\n",
       "\n",
       "    .dataframe thead th {\n",
       "        text-align: right;\n",
       "    }\n",
       "</style>\n",
       "<table border=\"1\" class=\"dataframe\">\n",
       "  <thead>\n",
       "    <tr style=\"text-align: right;\">\n",
       "      <th></th>\n",
       "      <th>patient_id</th>\n",
       "      <th>recording_1</th>\n",
       "      <th>recording_2</th>\n",
       "      <th>recording_3</th>\n",
       "      <th>recording_4</th>\n",
       "      <th>recording_5</th>\n",
       "      <th>recording_6</th>\n",
       "      <th>recording_7</th>\n",
       "      <th>recording_8</th>\n",
       "    </tr>\n",
       "  </thead>\n",
       "  <tbody>\n",
       "    <tr>\n",
       "      <th>0</th>\n",
       "      <td>patient_001</td>\n",
       "      <td>001_sit_Aor</td>\n",
       "      <td>001_sit_Mit</td>\n",
       "      <td>001_sit_Pul</td>\n",
       "      <td>001_sit_Tri</td>\n",
       "      <td>001_sup_Aor</td>\n",
       "      <td>001_sup_Mit</td>\n",
       "      <td>001_sup_Pul</td>\n",
       "      <td>001_sup_Tri</td>\n",
       "    </tr>\n",
       "    <tr>\n",
       "      <th>1</th>\n",
       "      <td>patient_003</td>\n",
       "      <td>003_sit_Aor</td>\n",
       "      <td>003_sit_Mit</td>\n",
       "      <td>003_sit_Pul</td>\n",
       "      <td>003_sit_Tri</td>\n",
       "      <td>003_sup_Aor</td>\n",
       "      <td>003_sup_Mit</td>\n",
       "      <td>003_sup_Pul</td>\n",
       "      <td>003_sup_Tri</td>\n",
       "    </tr>\n",
       "    <tr>\n",
       "      <th>2</th>\n",
       "      <td>patient_005</td>\n",
       "      <td>005_sit_Aor</td>\n",
       "      <td>005_sit_Mit</td>\n",
       "      <td>005_sit_Pul</td>\n",
       "      <td>005_sit_Tri</td>\n",
       "      <td>005_sup_Aor</td>\n",
       "      <td>005_sup_Mit</td>\n",
       "      <td>005_sup_Pul</td>\n",
       "      <td>005_sup_Tri</td>\n",
       "    </tr>\n",
       "    <tr>\n",
       "      <th>3</th>\n",
       "      <td>patient_007</td>\n",
       "      <td>007_sit_Aor</td>\n",
       "      <td>007_sit_Mit</td>\n",
       "      <td>007_sit_Pul</td>\n",
       "      <td>007_sit_Tri</td>\n",
       "      <td>007_sup_Aor</td>\n",
       "      <td>007_sup_Mit</td>\n",
       "      <td>007_sup_Pul</td>\n",
       "      <td>007_sup_Tri</td>\n",
       "    </tr>\n",
       "    <tr>\n",
       "      <th>4</th>\n",
       "      <td>patient_008</td>\n",
       "      <td>008_sit_Aor</td>\n",
       "      <td>008_sit_Mit</td>\n",
       "      <td>008_sit_Pul</td>\n",
       "      <td>008_sit_Tri</td>\n",
       "      <td>008_sup_Aor</td>\n",
       "      <td>008_sup_Mit</td>\n",
       "      <td>008_sup_Pul</td>\n",
       "      <td>008_sup_Tri</td>\n",
       "    </tr>\n",
       "  </tbody>\n",
       "</table>\n",
       "</div>"
      ],
      "text/plain": [
       "    patient_id  recording_1  recording_2  recording_3  recording_4  \\\n",
       "0  patient_001  001_sit_Aor  001_sit_Mit  001_sit_Pul  001_sit_Tri   \n",
       "1  patient_003  003_sit_Aor  003_sit_Mit  003_sit_Pul  003_sit_Tri   \n",
       "2  patient_005  005_sit_Aor  005_sit_Mit  005_sit_Pul  005_sit_Tri   \n",
       "3  patient_007  007_sit_Aor  007_sit_Mit  007_sit_Pul  007_sit_Tri   \n",
       "4  patient_008  008_sit_Aor  008_sit_Mit  008_sit_Pul  008_sit_Tri   \n",
       "\n",
       "   recording_5  recording_6  recording_7  recording_8  \n",
       "0  001_sup_Aor  001_sup_Mit  001_sup_Pul  001_sup_Tri  \n",
       "1  003_sup_Aor  003_sup_Mit  003_sup_Pul  003_sup_Tri  \n",
       "2  005_sup_Aor  005_sup_Mit  005_sup_Pul  005_sup_Tri  \n",
       "3  007_sup_Aor  007_sup_Mit  007_sup_Pul  007_sup_Tri  \n",
       "4  008_sup_Aor  008_sup_Mit  008_sup_Pul  008_sup_Tri  "
      ]
     },
     "execution_count": 31,
     "metadata": {},
     "output_type": "execute_result"
    }
   ],
   "source": [
    "test = pd.read_csv('/kaggle/input/biomed-datathon-bmefest2/test_files.csv')\n",
    "test.head()"
   ]
  },
  {
   "cell_type": "code",
   "execution_count": 32,
   "id": "f1bb9671",
   "metadata": {
    "execution": {
     "iopub.execute_input": "2024-02-13T21:06:31.461156Z",
     "iopub.status.busy": "2024-02-13T21:06:31.460885Z",
     "iopub.status.idle": "2024-02-13T21:06:31.466178Z",
     "shell.execute_reply": "2024-02-13T21:06:31.465385Z"
    },
    "papermill": {
     "duration": 0.029319,
     "end_time": "2024-02-13T21:06:31.468102",
     "exception": false,
     "start_time": "2024-02-13T21:06:31.438783",
     "status": "completed"
    },
    "tags": []
   },
   "outputs": [
    {
     "data": {
      "text/plain": [
       "(49, 9)"
      ]
     },
     "execution_count": 32,
     "metadata": {},
     "output_type": "execute_result"
    }
   ],
   "source": [
    "test.shape"
   ]
  },
  {
   "cell_type": "code",
   "execution_count": 33,
   "id": "33591e7b",
   "metadata": {
    "execution": {
     "iopub.execute_input": "2024-02-13T21:06:31.512719Z",
     "iopub.status.busy": "2024-02-13T21:06:31.512459Z",
     "iopub.status.idle": "2024-02-13T21:06:31.516011Z",
     "shell.execute_reply": "2024-02-13T21:06:31.515203Z"
    },
    "papermill": {
     "duration": 0.027613,
     "end_time": "2024-02-13T21:06:31.517754",
     "exception": false,
     "start_time": "2024-02-13T21:06:31.490141",
     "status": "completed"
    },
    "tags": []
   },
   "outputs": [],
   "source": [
    "BASE_URL = '/kaggle/input/biomed-datathon-bmefest2/test/'"
   ]
  },
  {
   "cell_type": "code",
   "execution_count": 34,
   "id": "300019bb",
   "metadata": {
    "execution": {
     "iopub.execute_input": "2024-02-13T21:06:31.561368Z",
     "iopub.status.busy": "2024-02-13T21:06:31.561110Z",
     "iopub.status.idle": "2024-02-13T21:06:31.571678Z",
     "shell.execute_reply": "2024-02-13T21:06:31.571040Z"
    },
    "papermill": {
     "duration": 0.034299,
     "end_time": "2024-02-13T21:06:31.573392",
     "exception": false,
     "start_time": "2024-02-13T21:06:31.539093",
     "status": "completed"
    },
    "tags": []
   },
   "outputs": [],
   "source": [
    "test[\"recording_1\"] = test[\"recording_1\"].apply(lambda x: BASE_URL + x + \".wav\")\n",
    "test[\"recording_2\"] = test[\"recording_2\"].apply(lambda x: BASE_URL + x + \".wav\")\n",
    "test[\"recording_3\"] = test[\"recording_3\"].apply(lambda x: BASE_URL + x + \".wav\")\n",
    "test[\"recording_4\"] = test[\"recording_4\"].apply(lambda x: BASE_URL + x + \".wav\")\n",
    "test[\"recording_5\"] = test[\"recording_5\"].apply(lambda x: BASE_URL + x + \".wav\")\n",
    "test[\"recording_6\"] = test[\"recording_6\"].apply(lambda x: BASE_URL + x + \".wav\")\n",
    "test[\"recording_7\"] = test[\"recording_7\"].apply(lambda x: BASE_URL + x + \".wav\")\n",
    "test[\"recording_8\"] = test[\"recording_8\"].apply(lambda x: BASE_URL + x + \".wav\")"
   ]
  },
  {
   "cell_type": "code",
   "execution_count": 35,
   "id": "ce7fe743",
   "metadata": {
    "execution": {
     "iopub.execute_input": "2024-02-13T21:06:31.617366Z",
     "iopub.status.busy": "2024-02-13T21:06:31.617116Z",
     "iopub.status.idle": "2024-02-13T21:06:31.630763Z",
     "shell.execute_reply": "2024-02-13T21:06:31.629865Z"
    },
    "papermill": {
     "duration": 0.038073,
     "end_time": "2024-02-13T21:06:31.632727",
     "exception": false,
     "start_time": "2024-02-13T21:06:31.594654",
     "status": "completed"
    },
    "tags": []
   },
   "outputs": [
    {
     "data": {
      "text/html": [
       "<div>\n",
       "<style scoped>\n",
       "    .dataframe tbody tr th:only-of-type {\n",
       "        vertical-align: middle;\n",
       "    }\n",
       "\n",
       "    .dataframe tbody tr th {\n",
       "        vertical-align: top;\n",
       "    }\n",
       "\n",
       "    .dataframe thead th {\n",
       "        text-align: right;\n",
       "    }\n",
       "</style>\n",
       "<table border=\"1\" class=\"dataframe\">\n",
       "  <thead>\n",
       "    <tr style=\"text-align: right;\">\n",
       "      <th></th>\n",
       "      <th>patient_id</th>\n",
       "      <th>recording_1</th>\n",
       "      <th>recording_2</th>\n",
       "      <th>recording_3</th>\n",
       "      <th>recording_4</th>\n",
       "      <th>recording_5</th>\n",
       "      <th>recording_6</th>\n",
       "      <th>recording_7</th>\n",
       "      <th>recording_8</th>\n",
       "    </tr>\n",
       "  </thead>\n",
       "  <tbody>\n",
       "    <tr>\n",
       "      <th>0</th>\n",
       "      <td>patient_001</td>\n",
       "      <td>/kaggle/input/biomed-datathon-bmefest2/test/00...</td>\n",
       "      <td>/kaggle/input/biomed-datathon-bmefest2/test/00...</td>\n",
       "      <td>/kaggle/input/biomed-datathon-bmefest2/test/00...</td>\n",
       "      <td>/kaggle/input/biomed-datathon-bmefest2/test/00...</td>\n",
       "      <td>/kaggle/input/biomed-datathon-bmefest2/test/00...</td>\n",
       "      <td>/kaggle/input/biomed-datathon-bmefest2/test/00...</td>\n",
       "      <td>/kaggle/input/biomed-datathon-bmefest2/test/00...</td>\n",
       "      <td>/kaggle/input/biomed-datathon-bmefest2/test/00...</td>\n",
       "    </tr>\n",
       "    <tr>\n",
       "      <th>1</th>\n",
       "      <td>patient_003</td>\n",
       "      <td>/kaggle/input/biomed-datathon-bmefest2/test/00...</td>\n",
       "      <td>/kaggle/input/biomed-datathon-bmefest2/test/00...</td>\n",
       "      <td>/kaggle/input/biomed-datathon-bmefest2/test/00...</td>\n",
       "      <td>/kaggle/input/biomed-datathon-bmefest2/test/00...</td>\n",
       "      <td>/kaggle/input/biomed-datathon-bmefest2/test/00...</td>\n",
       "      <td>/kaggle/input/biomed-datathon-bmefest2/test/00...</td>\n",
       "      <td>/kaggle/input/biomed-datathon-bmefest2/test/00...</td>\n",
       "      <td>/kaggle/input/biomed-datathon-bmefest2/test/00...</td>\n",
       "    </tr>\n",
       "    <tr>\n",
       "      <th>2</th>\n",
       "      <td>patient_005</td>\n",
       "      <td>/kaggle/input/biomed-datathon-bmefest2/test/00...</td>\n",
       "      <td>/kaggle/input/biomed-datathon-bmefest2/test/00...</td>\n",
       "      <td>/kaggle/input/biomed-datathon-bmefest2/test/00...</td>\n",
       "      <td>/kaggle/input/biomed-datathon-bmefest2/test/00...</td>\n",
       "      <td>/kaggle/input/biomed-datathon-bmefest2/test/00...</td>\n",
       "      <td>/kaggle/input/biomed-datathon-bmefest2/test/00...</td>\n",
       "      <td>/kaggle/input/biomed-datathon-bmefest2/test/00...</td>\n",
       "      <td>/kaggle/input/biomed-datathon-bmefest2/test/00...</td>\n",
       "    </tr>\n",
       "    <tr>\n",
       "      <th>3</th>\n",
       "      <td>patient_007</td>\n",
       "      <td>/kaggle/input/biomed-datathon-bmefest2/test/00...</td>\n",
       "      <td>/kaggle/input/biomed-datathon-bmefest2/test/00...</td>\n",
       "      <td>/kaggle/input/biomed-datathon-bmefest2/test/00...</td>\n",
       "      <td>/kaggle/input/biomed-datathon-bmefest2/test/00...</td>\n",
       "      <td>/kaggle/input/biomed-datathon-bmefest2/test/00...</td>\n",
       "      <td>/kaggle/input/biomed-datathon-bmefest2/test/00...</td>\n",
       "      <td>/kaggle/input/biomed-datathon-bmefest2/test/00...</td>\n",
       "      <td>/kaggle/input/biomed-datathon-bmefest2/test/00...</td>\n",
       "    </tr>\n",
       "    <tr>\n",
       "      <th>4</th>\n",
       "      <td>patient_008</td>\n",
       "      <td>/kaggle/input/biomed-datathon-bmefest2/test/00...</td>\n",
       "      <td>/kaggle/input/biomed-datathon-bmefest2/test/00...</td>\n",
       "      <td>/kaggle/input/biomed-datathon-bmefest2/test/00...</td>\n",
       "      <td>/kaggle/input/biomed-datathon-bmefest2/test/00...</td>\n",
       "      <td>/kaggle/input/biomed-datathon-bmefest2/test/00...</td>\n",
       "      <td>/kaggle/input/biomed-datathon-bmefest2/test/00...</td>\n",
       "      <td>/kaggle/input/biomed-datathon-bmefest2/test/00...</td>\n",
       "      <td>/kaggle/input/biomed-datathon-bmefest2/test/00...</td>\n",
       "    </tr>\n",
       "  </tbody>\n",
       "</table>\n",
       "</div>"
      ],
      "text/plain": [
       "    patient_id                                        recording_1  \\\n",
       "0  patient_001  /kaggle/input/biomed-datathon-bmefest2/test/00...   \n",
       "1  patient_003  /kaggle/input/biomed-datathon-bmefest2/test/00...   \n",
       "2  patient_005  /kaggle/input/biomed-datathon-bmefest2/test/00...   \n",
       "3  patient_007  /kaggle/input/biomed-datathon-bmefest2/test/00...   \n",
       "4  patient_008  /kaggle/input/biomed-datathon-bmefest2/test/00...   \n",
       "\n",
       "                                         recording_2  \\\n",
       "0  /kaggle/input/biomed-datathon-bmefest2/test/00...   \n",
       "1  /kaggle/input/biomed-datathon-bmefest2/test/00...   \n",
       "2  /kaggle/input/biomed-datathon-bmefest2/test/00...   \n",
       "3  /kaggle/input/biomed-datathon-bmefest2/test/00...   \n",
       "4  /kaggle/input/biomed-datathon-bmefest2/test/00...   \n",
       "\n",
       "                                         recording_3  \\\n",
       "0  /kaggle/input/biomed-datathon-bmefest2/test/00...   \n",
       "1  /kaggle/input/biomed-datathon-bmefest2/test/00...   \n",
       "2  /kaggle/input/biomed-datathon-bmefest2/test/00...   \n",
       "3  /kaggle/input/biomed-datathon-bmefest2/test/00...   \n",
       "4  /kaggle/input/biomed-datathon-bmefest2/test/00...   \n",
       "\n",
       "                                         recording_4  \\\n",
       "0  /kaggle/input/biomed-datathon-bmefest2/test/00...   \n",
       "1  /kaggle/input/biomed-datathon-bmefest2/test/00...   \n",
       "2  /kaggle/input/biomed-datathon-bmefest2/test/00...   \n",
       "3  /kaggle/input/biomed-datathon-bmefest2/test/00...   \n",
       "4  /kaggle/input/biomed-datathon-bmefest2/test/00...   \n",
       "\n",
       "                                         recording_5  \\\n",
       "0  /kaggle/input/biomed-datathon-bmefest2/test/00...   \n",
       "1  /kaggle/input/biomed-datathon-bmefest2/test/00...   \n",
       "2  /kaggle/input/biomed-datathon-bmefest2/test/00...   \n",
       "3  /kaggle/input/biomed-datathon-bmefest2/test/00...   \n",
       "4  /kaggle/input/biomed-datathon-bmefest2/test/00...   \n",
       "\n",
       "                                         recording_6  \\\n",
       "0  /kaggle/input/biomed-datathon-bmefest2/test/00...   \n",
       "1  /kaggle/input/biomed-datathon-bmefest2/test/00...   \n",
       "2  /kaggle/input/biomed-datathon-bmefest2/test/00...   \n",
       "3  /kaggle/input/biomed-datathon-bmefest2/test/00...   \n",
       "4  /kaggle/input/biomed-datathon-bmefest2/test/00...   \n",
       "\n",
       "                                         recording_7  \\\n",
       "0  /kaggle/input/biomed-datathon-bmefest2/test/00...   \n",
       "1  /kaggle/input/biomed-datathon-bmefest2/test/00...   \n",
       "2  /kaggle/input/biomed-datathon-bmefest2/test/00...   \n",
       "3  /kaggle/input/biomed-datathon-bmefest2/test/00...   \n",
       "4  /kaggle/input/biomed-datathon-bmefest2/test/00...   \n",
       "\n",
       "                                         recording_8  \n",
       "0  /kaggle/input/biomed-datathon-bmefest2/test/00...  \n",
       "1  /kaggle/input/biomed-datathon-bmefest2/test/00...  \n",
       "2  /kaggle/input/biomed-datathon-bmefest2/test/00...  \n",
       "3  /kaggle/input/biomed-datathon-bmefest2/test/00...  \n",
       "4  /kaggle/input/biomed-datathon-bmefest2/test/00...  "
      ]
     },
     "execution_count": 35,
     "metadata": {},
     "output_type": "execute_result"
    }
   ],
   "source": [
    "test.head()"
   ]
  },
  {
   "cell_type": "code",
   "execution_count": 36,
   "id": "6b1aa62a",
   "metadata": {
    "execution": {
     "iopub.execute_input": "2024-02-13T21:06:31.680572Z",
     "iopub.status.busy": "2024-02-13T21:06:31.680028Z",
     "iopub.status.idle": "2024-02-13T21:06:31.702391Z",
     "shell.execute_reply": "2024-02-13T21:06:31.701753Z"
    },
    "papermill": {
     "duration": 0.047467,
     "end_time": "2024-02-13T21:06:31.704185",
     "exception": false,
     "start_time": "2024-02-13T21:06:31.656718",
     "status": "completed"
    },
    "tags": []
   },
   "outputs": [],
   "source": [
    "from pydub import AudioSegment\n",
    "import numpy as np\n",
    "\n",
    "\n",
    "def merge_audio(files):\n",
    "    merged = AudioSegment.empty()\n",
    "\n",
    "    for file in files:\n",
    "        audio = AudioSegment.from_file(file)\n",
    "        merged += audio\n",
    "\n",
    "    return merged\n",
    "\n",
    "\n",
    "def save_merged_audio(merged, output_file):\n",
    "    merged.export(output_file, format=\"wav\")"
   ]
  },
  {
   "cell_type": "code",
   "execution_count": 37,
   "id": "a819738e",
   "metadata": {
    "execution": {
     "iopub.execute_input": "2024-02-13T21:06:31.749762Z",
     "iopub.status.busy": "2024-02-13T21:06:31.749453Z",
     "iopub.status.idle": "2024-02-13T21:06:31.753706Z",
     "shell.execute_reply": "2024-02-13T21:06:31.752992Z"
    },
    "papermill": {
     "duration": 0.029464,
     "end_time": "2024-02-13T21:06:31.755749",
     "exception": false,
     "start_time": "2024-02-13T21:06:31.726285",
     "status": "completed"
    },
    "tags": []
   },
   "outputs": [],
   "source": [
    "import os\n",
    "\n",
    "output_dir = \"test_files\"\n",
    "os.makedirs(output_dir, exist_ok=True)"
   ]
  },
  {
   "cell_type": "code",
   "execution_count": 38,
   "id": "8b352599",
   "metadata": {
    "execution": {
     "iopub.execute_input": "2024-02-13T21:06:31.803146Z",
     "iopub.status.busy": "2024-02-13T21:06:31.802611Z",
     "iopub.status.idle": "2024-02-13T21:06:34.904072Z",
     "shell.execute_reply": "2024-02-13T21:06:34.902979Z"
    },
    "papermill": {
     "duration": 3.126702,
     "end_time": "2024-02-13T21:06:34.906541",
     "exception": false,
     "start_time": "2024-02-13T21:06:31.779839",
     "status": "completed"
    },
    "tags": []
   },
   "outputs": [],
   "source": [
    "for i in range(len(test)):\n",
    "    files_to_merge = list(test.iloc[i][6:])\n",
    "    merged_audio = merge_audio(files_to_merge)\n",
    "    save_merged_audio(\n",
    "        merged_audio,\n",
    "        f\"{'test_files/patient_' + list(test.iloc[i][6:])[0].split('/')[-1][:3]}.wav\",\n",
    "    )"
   ]
  },
  {
   "cell_type": "code",
   "execution_count": 39,
   "id": "ad5202c5",
   "metadata": {
    "execution": {
     "iopub.execute_input": "2024-02-13T21:06:34.954147Z",
     "iopub.status.busy": "2024-02-13T21:06:34.953552Z",
     "iopub.status.idle": "2024-02-13T21:06:34.959543Z",
     "shell.execute_reply": "2024-02-13T21:06:34.958782Z"
    },
    "papermill": {
     "duration": 0.0307,
     "end_time": "2024-02-13T21:06:34.961538",
     "exception": false,
     "start_time": "2024-02-13T21:06:34.930838",
     "status": "completed"
    },
    "tags": []
   },
   "outputs": [],
   "source": [
    "BASE_URL = \"/kaggle/working/test_files/\"\n",
    "test[\"path\"] = test[\"patient_id\"].apply(lambda x: BASE_URL + x + \".wav\")\n",
    "test[\"audio\"] = test[\"patient_id\"].apply(lambda x: BASE_URL + x + \".wav\")"
   ]
  },
  {
   "cell_type": "code",
   "execution_count": 40,
   "id": "6946617c",
   "metadata": {
    "execution": {
     "iopub.execute_input": "2024-02-13T21:06:35.007910Z",
     "iopub.status.busy": "2024-02-13T21:06:35.007216Z",
     "iopub.status.idle": "2024-02-13T21:06:35.013373Z",
     "shell.execute_reply": "2024-02-13T21:06:35.012392Z"
    },
    "papermill": {
     "duration": 0.032116,
     "end_time": "2024-02-13T21:06:35.015360",
     "exception": false,
     "start_time": "2024-02-13T21:06:34.983244",
     "status": "completed"
    },
    "tags": []
   },
   "outputs": [
    {
     "data": {
      "text/plain": [
       "(49, 11)"
      ]
     },
     "execution_count": 40,
     "metadata": {},
     "output_type": "execute_result"
    }
   ],
   "source": [
    "test.shape"
   ]
  },
  {
   "cell_type": "code",
   "execution_count": 41,
   "id": "e93fe889",
   "metadata": {
    "execution": {
     "iopub.execute_input": "2024-02-13T21:06:35.060323Z",
     "iopub.status.busy": "2024-02-13T21:06:35.060060Z",
     "iopub.status.idle": "2024-02-13T21:06:35.065377Z",
     "shell.execute_reply": "2024-02-13T21:06:35.064523Z"
    },
    "papermill": {
     "duration": 0.030205,
     "end_time": "2024-02-13T21:06:35.067352",
     "exception": false,
     "start_time": "2024-02-13T21:06:35.037147",
     "status": "completed"
    },
    "tags": []
   },
   "outputs": [],
   "source": [
    "test.drop(\n",
    "    [\n",
    "        \"recording_1\",\n",
    "        \"recording_2\",\n",
    "        \"recording_3\",\n",
    "        \"recording_4\",\n",
    "        \"recording_5\",\n",
    "        \"recording_6\",\n",
    "        \"recording_7\",\n",
    "        \"recording_8\",\n",
    "    ],\n",
    "    axis=1,\n",
    "    inplace=True,\n",
    ")"
   ]
  },
  {
   "cell_type": "code",
   "execution_count": 42,
   "id": "f6bc6792",
   "metadata": {
    "execution": {
     "iopub.execute_input": "2024-02-13T21:06:35.112990Z",
     "iopub.status.busy": "2024-02-13T21:06:35.112218Z",
     "iopub.status.idle": "2024-02-13T21:06:35.121678Z",
     "shell.execute_reply": "2024-02-13T21:06:35.120783Z"
    },
    "papermill": {
     "duration": 0.034168,
     "end_time": "2024-02-13T21:06:35.123480",
     "exception": false,
     "start_time": "2024-02-13T21:06:35.089312",
     "status": "completed"
    },
    "tags": []
   },
   "outputs": [
    {
     "data": {
      "text/html": [
       "<div>\n",
       "<style scoped>\n",
       "    .dataframe tbody tr th:only-of-type {\n",
       "        vertical-align: middle;\n",
       "    }\n",
       "\n",
       "    .dataframe tbody tr th {\n",
       "        vertical-align: top;\n",
       "    }\n",
       "\n",
       "    .dataframe thead th {\n",
       "        text-align: right;\n",
       "    }\n",
       "</style>\n",
       "<table border=\"1\" class=\"dataframe\">\n",
       "  <thead>\n",
       "    <tr style=\"text-align: right;\">\n",
       "      <th></th>\n",
       "      <th>patient_id</th>\n",
       "      <th>path</th>\n",
       "      <th>audio</th>\n",
       "    </tr>\n",
       "  </thead>\n",
       "  <tbody>\n",
       "    <tr>\n",
       "      <th>0</th>\n",
       "      <td>patient_001</td>\n",
       "      <td>/kaggle/working/test_files/patient_001.wav</td>\n",
       "      <td>/kaggle/working/test_files/patient_001.wav</td>\n",
       "    </tr>\n",
       "    <tr>\n",
       "      <th>1</th>\n",
       "      <td>patient_003</td>\n",
       "      <td>/kaggle/working/test_files/patient_003.wav</td>\n",
       "      <td>/kaggle/working/test_files/patient_003.wav</td>\n",
       "    </tr>\n",
       "    <tr>\n",
       "      <th>2</th>\n",
       "      <td>patient_005</td>\n",
       "      <td>/kaggle/working/test_files/patient_005.wav</td>\n",
       "      <td>/kaggle/working/test_files/patient_005.wav</td>\n",
       "    </tr>\n",
       "    <tr>\n",
       "      <th>3</th>\n",
       "      <td>patient_007</td>\n",
       "      <td>/kaggle/working/test_files/patient_007.wav</td>\n",
       "      <td>/kaggle/working/test_files/patient_007.wav</td>\n",
       "    </tr>\n",
       "    <tr>\n",
       "      <th>4</th>\n",
       "      <td>patient_008</td>\n",
       "      <td>/kaggle/working/test_files/patient_008.wav</td>\n",
       "      <td>/kaggle/working/test_files/patient_008.wav</td>\n",
       "    </tr>\n",
       "  </tbody>\n",
       "</table>\n",
       "</div>"
      ],
      "text/plain": [
       "    patient_id                                        path  \\\n",
       "0  patient_001  /kaggle/working/test_files/patient_001.wav   \n",
       "1  patient_003  /kaggle/working/test_files/patient_003.wav   \n",
       "2  patient_005  /kaggle/working/test_files/patient_005.wav   \n",
       "3  patient_007  /kaggle/working/test_files/patient_007.wav   \n",
       "4  patient_008  /kaggle/working/test_files/patient_008.wav   \n",
       "\n",
       "                                        audio  \n",
       "0  /kaggle/working/test_files/patient_001.wav  \n",
       "1  /kaggle/working/test_files/patient_003.wav  \n",
       "2  /kaggle/working/test_files/patient_005.wav  \n",
       "3  /kaggle/working/test_files/patient_007.wav  \n",
       "4  /kaggle/working/test_files/patient_008.wav  "
      ]
     },
     "execution_count": 42,
     "metadata": {},
     "output_type": "execute_result"
    }
   ],
   "source": [
    "test.head()"
   ]
  },
  {
   "cell_type": "code",
   "execution_count": 43,
   "id": "cec17691",
   "metadata": {
    "execution": {
     "iopub.execute_input": "2024-02-13T21:06:35.168118Z",
     "iopub.status.busy": "2024-02-13T21:06:35.167869Z",
     "iopub.status.idle": "2024-02-13T21:06:35.173126Z",
     "shell.execute_reply": "2024-02-13T21:06:35.172313Z"
    },
    "papermill": {
     "duration": 0.029689,
     "end_time": "2024-02-13T21:06:35.175014",
     "exception": false,
     "start_time": "2024-02-13T21:06:35.145325",
     "status": "completed"
    },
    "tags": []
   },
   "outputs": [
    {
     "data": {
      "text/plain": [
       "(49, 3)"
      ]
     },
     "execution_count": 43,
     "metadata": {},
     "output_type": "execute_result"
    }
   ],
   "source": [
    "test.shape"
   ]
  },
  {
   "cell_type": "code",
   "execution_count": 44,
   "id": "21d5235b",
   "metadata": {
    "execution": {
     "iopub.execute_input": "2024-02-13T21:06:35.221288Z",
     "iopub.status.busy": "2024-02-13T21:06:35.221049Z",
     "iopub.status.idle": "2024-02-13T21:06:35.229376Z",
     "shell.execute_reply": "2024-02-13T21:06:35.228705Z"
    },
    "papermill": {
     "duration": 0.033503,
     "end_time": "2024-02-13T21:06:35.231300",
     "exception": false,
     "start_time": "2024-02-13T21:06:35.197797",
     "status": "completed"
    },
    "tags": []
   },
   "outputs": [],
   "source": [
    "test_ds = Dataset.from_pandas(test)\n",
    "test_ds = test_ds.cast_column(\"audio\", Audio(sampling_rate=16_000))"
   ]
  },
  {
   "cell_type": "code",
   "execution_count": 45,
   "id": "bf931194",
   "metadata": {
    "execution": {
     "iopub.execute_input": "2024-02-13T21:06:35.279016Z",
     "iopub.status.busy": "2024-02-13T21:06:35.278750Z",
     "iopub.status.idle": "2024-02-13T21:06:35.284047Z",
     "shell.execute_reply": "2024-02-13T21:06:35.283128Z"
    },
    "papermill": {
     "duration": 0.032086,
     "end_time": "2024-02-13T21:06:35.285990",
     "exception": false,
     "start_time": "2024-02-13T21:06:35.253904",
     "status": "completed"
    },
    "tags": []
   },
   "outputs": [
    {
     "data": {
      "text/plain": [
       "Dataset({\n",
       "    features: ['patient_id', 'path', 'audio'],\n",
       "    num_rows: 49\n",
       "})"
      ]
     },
     "execution_count": 45,
     "metadata": {},
     "output_type": "execute_result"
    }
   ],
   "source": [
    "test_ds"
   ]
  },
  {
   "cell_type": "code",
   "execution_count": 46,
   "id": "92931a1f",
   "metadata": {
    "execution": {
     "iopub.execute_input": "2024-02-13T21:06:35.333118Z",
     "iopub.status.busy": "2024-02-13T21:06:35.332862Z",
     "iopub.status.idle": "2024-02-13T21:06:36.819566Z",
     "shell.execute_reply": "2024-02-13T21:06:36.818691Z"
    },
    "papermill": {
     "duration": 1.512587,
     "end_time": "2024-02-13T21:06:36.821567",
     "exception": false,
     "start_time": "2024-02-13T21:06:35.308980",
     "status": "completed"
    },
    "tags": []
   },
   "outputs": [
    {
     "data": {
      "application/vnd.jupyter.widget-view+json": {
       "model_id": "751e797e83a64145875756e90f53c72e",
       "version_major": 2,
       "version_minor": 0
      },
      "text/plain": [
       "  0%|          | 0/1 [00:00<?, ?ba/s]"
      ]
     },
     "metadata": {},
     "output_type": "display_data"
    }
   ],
   "source": [
    "encoded_test = test_ds.map(preprocess_function, remove_columns=\"audio\", batched=True)"
   ]
  },
  {
   "cell_type": "code",
   "execution_count": 47,
   "id": "b64336f8",
   "metadata": {
    "execution": {
     "iopub.execute_input": "2024-02-13T21:06:36.869319Z",
     "iopub.status.busy": "2024-02-13T21:06:36.868999Z",
     "iopub.status.idle": "2024-02-13T21:06:44.464817Z",
     "shell.execute_reply": "2024-02-13T21:06:44.463813Z"
    },
    "papermill": {
     "duration": 7.622512,
     "end_time": "2024-02-13T21:06:44.467206",
     "exception": false,
     "start_time": "2024-02-13T21:06:36.844694",
     "status": "completed"
    },
    "tags": []
   },
   "outputs": [
    {
     "name": "stdout",
     "output_type": "stream",
     "text": [
      "Class predictions from logits: [1 0 2 0 2 0 0 0 0 0 0 0 4 0 2 0 2 1 1 0 4 0 0 0 3 1 2 0 2 0 1 4 0 0 2 0 1\n",
      " 0 0 0 4 4 4 3 0 4 3 0 4]\n"
     ]
    }
   ],
   "source": [
    "test_preds = trainer.predict(encoded_test)\n",
    "logits = test_preds.predictions\n",
    "class_predictions_logits = np.argmax(logits, axis=-1)\n",
    "\n",
    "print(\"Class predictions from logits:\", class_predictions_logits)"
   ]
  },
  {
   "cell_type": "code",
   "execution_count": 48,
   "id": "8c7a20fb",
   "metadata": {
    "execution": {
     "iopub.execute_input": "2024-02-13T21:06:44.520493Z",
     "iopub.status.busy": "2024-02-13T21:06:44.520183Z",
     "iopub.status.idle": "2024-02-13T21:06:44.529469Z",
     "shell.execute_reply": "2024-02-13T21:06:44.528510Z"
    },
    "papermill": {
     "duration": 0.041429,
     "end_time": "2024-02-13T21:06:44.534316",
     "exception": false,
     "start_time": "2024-02-13T21:06:44.492887",
     "status": "completed"
    },
    "tags": []
   },
   "outputs": [
    {
     "name": "stdout",
     "output_type": "stream",
     "text": [
      "One-hot encoded predictions:\n",
      "[[0. 1. 0. 0. 0.]\n",
      " [1. 0. 0. 0. 0.]\n",
      " [0. 0. 1. 0. 0.]\n",
      " [1. 0. 0. 0. 0.]\n",
      " [0. 0. 1. 0. 0.]\n",
      " [1. 0. 0. 0. 0.]\n",
      " [1. 0. 0. 0. 0.]\n",
      " [1. 0. 0. 0. 0.]\n",
      " [1. 0. 0. 0. 0.]\n",
      " [1. 0. 0. 0. 0.]\n",
      " [1. 0. 0. 0. 0.]\n",
      " [1. 0. 0. 0. 0.]\n",
      " [0. 0. 0. 0. 1.]\n",
      " [1. 0. 0. 0. 0.]\n",
      " [0. 0. 1. 0. 0.]\n",
      " [1. 0. 0. 0. 0.]\n",
      " [0. 0. 1. 0. 0.]\n",
      " [0. 1. 0. 0. 0.]\n",
      " [0. 1. 0. 0. 0.]\n",
      " [1. 0. 0. 0. 0.]\n",
      " [0. 0. 0. 0. 1.]\n",
      " [1. 0. 0. 0. 0.]\n",
      " [1. 0. 0. 0. 0.]\n",
      " [1. 0. 0. 0. 0.]\n",
      " [0. 0. 0. 1. 0.]\n",
      " [0. 1. 0. 0. 0.]\n",
      " [0. 0. 1. 0. 0.]\n",
      " [1. 0. 0. 0. 0.]\n",
      " [0. 0. 1. 0. 0.]\n",
      " [1. 0. 0. 0. 0.]\n",
      " [0. 1. 0. 0. 0.]\n",
      " [0. 0. 0. 0. 1.]\n",
      " [1. 0. 0. 0. 0.]\n",
      " [1. 0. 0. 0. 0.]\n",
      " [0. 0. 1. 0. 0.]\n",
      " [1. 0. 0. 0. 0.]\n",
      " [0. 1. 0. 0. 0.]\n",
      " [1. 0. 0. 0. 0.]\n",
      " [1. 0. 0. 0. 0.]\n",
      " [1. 0. 0. 0. 0.]\n",
      " [0. 0. 0. 0. 1.]\n",
      " [0. 0. 0. 0. 1.]\n",
      " [0. 0. 0. 0. 1.]\n",
      " [0. 0. 0. 1. 0.]\n",
      " [1. 0. 0. 0. 0.]\n",
      " [0. 0. 0. 0. 1.]\n",
      " [0. 0. 0. 1. 0.]\n",
      " [1. 0. 0. 0. 0.]\n",
      " [0. 0. 0. 0. 1.]]\n"
     ]
    }
   ],
   "source": [
    "predicted_original_labels = label_encoder.inverse_transform(class_predictions_logits)\n",
    "predicted_int_labels = predicted_original_labels.astype(int)\n",
    "predicted_one_hot = np.eye(5)[predicted_original_labels]\n",
    "\n",
    "print(\"One-hot encoded predictions:\")\n",
    "print(predicted_one_hot)"
   ]
  },
  {
   "cell_type": "code",
   "execution_count": 49,
   "id": "9a8202b2",
   "metadata": {
    "execution": {
     "iopub.execute_input": "2024-02-13T21:06:44.591336Z",
     "iopub.status.busy": "2024-02-13T21:06:44.590525Z",
     "iopub.status.idle": "2024-02-13T21:06:44.609985Z",
     "shell.execute_reply": "2024-02-13T21:06:44.609007Z"
    },
    "papermill": {
     "duration": 0.04919,
     "end_time": "2024-02-13T21:06:44.612251",
     "exception": false,
     "start_time": "2024-02-13T21:06:44.563061",
     "status": "completed"
    },
    "tags": []
   },
   "outputs": [
    {
     "data": {
      "text/html": [
       "<div>\n",
       "<style scoped>\n",
       "    .dataframe tbody tr th:only-of-type {\n",
       "        vertical-align: middle;\n",
       "    }\n",
       "\n",
       "    .dataframe tbody tr th {\n",
       "        vertical-align: top;\n",
       "    }\n",
       "\n",
       "    .dataframe thead th {\n",
       "        text-align: right;\n",
       "    }\n",
       "</style>\n",
       "<table border=\"1\" class=\"dataframe\">\n",
       "  <thead>\n",
       "    <tr style=\"text-align: right;\">\n",
       "      <th></th>\n",
       "      <th>patient_id</th>\n",
       "      <th>AS</th>\n",
       "      <th>AR</th>\n",
       "      <th>MR</th>\n",
       "      <th>MS</th>\n",
       "      <th>N</th>\n",
       "    </tr>\n",
       "  </thead>\n",
       "  <tbody>\n",
       "    <tr>\n",
       "      <th>0</th>\n",
       "      <td>patient_001</td>\n",
       "      <td>0.0</td>\n",
       "      <td>1.0</td>\n",
       "      <td>0.0</td>\n",
       "      <td>0.0</td>\n",
       "      <td>0.0</td>\n",
       "    </tr>\n",
       "    <tr>\n",
       "      <th>1</th>\n",
       "      <td>patient_003</td>\n",
       "      <td>1.0</td>\n",
       "      <td>0.0</td>\n",
       "      <td>0.0</td>\n",
       "      <td>0.0</td>\n",
       "      <td>0.0</td>\n",
       "    </tr>\n",
       "    <tr>\n",
       "      <th>2</th>\n",
       "      <td>patient_005</td>\n",
       "      <td>0.0</td>\n",
       "      <td>0.0</td>\n",
       "      <td>1.0</td>\n",
       "      <td>0.0</td>\n",
       "      <td>0.0</td>\n",
       "    </tr>\n",
       "    <tr>\n",
       "      <th>3</th>\n",
       "      <td>patient_007</td>\n",
       "      <td>1.0</td>\n",
       "      <td>0.0</td>\n",
       "      <td>0.0</td>\n",
       "      <td>0.0</td>\n",
       "      <td>0.0</td>\n",
       "    </tr>\n",
       "    <tr>\n",
       "      <th>4</th>\n",
       "      <td>patient_008</td>\n",
       "      <td>0.0</td>\n",
       "      <td>0.0</td>\n",
       "      <td>1.0</td>\n",
       "      <td>0.0</td>\n",
       "      <td>0.0</td>\n",
       "    </tr>\n",
       "  </tbody>\n",
       "</table>\n",
       "</div>"
      ],
      "text/plain": [
       "    patient_id   AS   AR   MR   MS    N\n",
       "0  patient_001  0.0  1.0  0.0  0.0  0.0\n",
       "1  patient_003  1.0  0.0  0.0  0.0  0.0\n",
       "2  patient_005  0.0  0.0  1.0  0.0  0.0\n",
       "3  patient_007  1.0  0.0  0.0  0.0  0.0\n",
       "4  patient_008  0.0  0.0  1.0  0.0  0.0"
      ]
     },
     "execution_count": 49,
     "metadata": {},
     "output_type": "execute_result"
    }
   ],
   "source": [
    "submission_df = pd.DataFrame(predicted_one_hot, columns=[\"AS\", \"AR\", \"MR\", \"MS\", \"N\"])\n",
    "\n",
    "submission_df[\"patient_id\"] = test.patient_id\n",
    "submission_df = submission_df[[\"patient_id\", \"AS\", \"AR\", \"MR\", \"MS\", \"N\"]]\n",
    "\n",
    "\n",
    "submission_df.head()"
   ]
  },
  {
   "cell_type": "code",
   "execution_count": 50,
   "id": "088769a4",
   "metadata": {
    "execution": {
     "iopub.execute_input": "2024-02-13T21:06:44.661650Z",
     "iopub.status.busy": "2024-02-13T21:06:44.661363Z",
     "iopub.status.idle": "2024-02-13T21:06:44.672716Z",
     "shell.execute_reply": "2024-02-13T21:06:44.671780Z"
    },
    "papermill": {
     "duration": 0.03673,
     "end_time": "2024-02-13T21:06:44.674647",
     "exception": false,
     "start_time": "2024-02-13T21:06:44.637917",
     "status": "completed"
    },
    "tags": []
   },
   "outputs": [],
   "source": [
    "submission_df.to_csv('submission.csv', index=False)"
   ]
  },
  {
   "cell_type": "code",
   "execution_count": null,
   "id": "770c184a",
   "metadata": {
    "papermill": {
     "duration": 0.023473,
     "end_time": "2024-02-13T21:06:44.722065",
     "exception": false,
     "start_time": "2024-02-13T21:06:44.698592",
     "status": "completed"
    },
    "tags": []
   },
   "outputs": [],
   "source": []
  }
 ],
 "metadata": {
  "kaggle": {
   "accelerator": "nvidiaTeslaT4",
   "dataSources": [
    {
     "databundleVersionId": 7683890,
     "sourceId": 70055,
     "sourceType": "competition"
    },
    {
     "datasetId": 4433830,
     "sourceId": 7613753,
     "sourceType": "datasetVersion"
    }
   ],
   "dockerImageVersionId": 30646,
   "isGpuEnabled": true,
   "isInternetEnabled": true,
   "language": "python",
   "sourceType": "notebook"
  },
  "kernelspec": {
   "display_name": "Python 3",
   "language": "python",
   "name": "python3"
  },
  "language_info": {
   "codemirror_mode": {
    "name": "ipython",
    "version": 3
   },
   "file_extension": ".py",
   "mimetype": "text/x-python",
   "name": "python",
   "nbconvert_exporter": "python",
   "pygments_lexer": "ipython3",
   "version": "3.10.13"
  },
  "papermill": {
   "default_parameters": {},
   "duration": 541.172389,
   "end_time": "2024-02-13T21:06:47.784178",
   "environment_variables": {},
   "exception": null,
   "input_path": "__notebook__.ipynb",
   "output_path": "__notebook__.ipynb",
   "parameters": {},
   "start_time": "2024-02-13T20:57:46.611789",
   "version": "2.5.0"
  },
  "widgets": {
   "application/vnd.jupyter.widget-state+json": {
    "state": {
     "0c6659da33b048439a96bf4cedbb9435": {
      "model_module": "@jupyter-widgets/base",
      "model_module_version": "1.2.0",
      "model_name": "LayoutModel",
      "state": {
       "_model_module": "@jupyter-widgets/base",
       "_model_module_version": "1.2.0",
       "_model_name": "LayoutModel",
       "_view_count": null,
       "_view_module": "@jupyter-widgets/base",
       "_view_module_version": "1.2.0",
       "_view_name": "LayoutView",
       "align_content": null,
       "align_items": null,
       "align_self": null,
       "border": null,
       "bottom": null,
       "display": null,
       "flex": null,
       "flex_flow": null,
       "grid_area": null,
       "grid_auto_columns": null,
       "grid_auto_flow": null,
       "grid_auto_rows": null,
       "grid_column": null,
       "grid_gap": null,
       "grid_row": null,
       "grid_template_areas": null,
       "grid_template_columns": null,
       "grid_template_rows": null,
       "height": null,
       "justify_content": null,
       "justify_items": null,
       "left": null,
       "margin": null,
       "max_height": null,
       "max_width": null,
       "min_height": null,
       "min_width": null,
       "object_fit": null,
       "object_position": null,
       "order": null,
       "overflow": null,
       "overflow_x": null,
       "overflow_y": null,
       "padding": null,
       "right": null,
       "top": null,
       "visibility": null,
       "width": null
      }
     },
     "0dc25b52df5a458f937c0fc2c0db9693": {
      "model_module": "@jupyter-widgets/controls",
      "model_module_version": "1.5.0",
      "model_name": "DescriptionStyleModel",
      "state": {
       "_model_module": "@jupyter-widgets/controls",
       "_model_module_version": "1.5.0",
       "_model_name": "DescriptionStyleModel",
       "_view_count": null,
       "_view_module": "@jupyter-widgets/base",
       "_view_module_version": "1.2.0",
       "_view_name": "StyleView",
       "description_width": ""
      }
     },
     "0df3d7e2d9494ce69fea6aa7e40cfaab": {
      "model_module": "@jupyter-widgets/base",
      "model_module_version": "1.2.0",
      "model_name": "LayoutModel",
      "state": {
       "_model_module": "@jupyter-widgets/base",
       "_model_module_version": "1.2.0",
       "_model_name": "LayoutModel",
       "_view_count": null,
       "_view_module": "@jupyter-widgets/base",
       "_view_module_version": "1.2.0",
       "_view_name": "LayoutView",
       "align_content": null,
       "align_items": null,
       "align_self": null,
       "border": null,
       "bottom": null,
       "display": null,
       "flex": null,
       "flex_flow": null,
       "grid_area": null,
       "grid_auto_columns": null,
       "grid_auto_flow": null,
       "grid_auto_rows": null,
       "grid_column": null,
       "grid_gap": null,
       "grid_row": null,
       "grid_template_areas": null,
       "grid_template_columns": null,
       "grid_template_rows": null,
       "height": null,
       "justify_content": null,
       "justify_items": null,
       "left": null,
       "margin": null,
       "max_height": null,
       "max_width": null,
       "min_height": null,
       "min_width": null,
       "object_fit": null,
       "object_position": null,
       "order": null,
       "overflow": null,
       "overflow_x": null,
       "overflow_y": null,
       "padding": null,
       "right": null,
       "top": null,
       "visibility": null,
       "width": null
      }
     },
     "0ebc94f0050d4b819c7186385ea55f61": {
      "model_module": "@jupyter-widgets/controls",
      "model_module_version": "1.5.0",
      "model_name": "DescriptionStyleModel",
      "state": {
       "_model_module": "@jupyter-widgets/controls",
       "_model_module_version": "1.5.0",
       "_model_name": "DescriptionStyleModel",
       "_view_count": null,
       "_view_module": "@jupyter-widgets/base",
       "_view_module_version": "1.2.0",
       "_view_name": "StyleView",
       "description_width": ""
      }
     },
     "15b26dd88c174ff2bf54d73b34cf381e": {
      "model_module": "@jupyter-widgets/controls",
      "model_module_version": "1.5.0",
      "model_name": "FloatProgressModel",
      "state": {
       "_dom_classes": [],
       "_model_module": "@jupyter-widgets/controls",
       "_model_module_version": "1.5.0",
       "_model_name": "FloatProgressModel",
       "_view_count": null,
       "_view_module": "@jupyter-widgets/controls",
       "_view_module_version": "1.5.0",
       "_view_name": "ProgressView",
       "bar_style": "success",
       "description": "",
       "description_tooltip": null,
       "layout": "IPY_MODEL_0c6659da33b048439a96bf4cedbb9435",
       "max": 297,
       "min": 0,
       "orientation": "horizontal",
       "style": "IPY_MODEL_82fef344a35c419883ecda9b91cf59ed",
       "value": 297
      }
     },
     "1b97d574886b45dfb3bee3379de6e7f2": {
      "model_module": "@jupyter-widgets/controls",
      "model_module_version": "1.5.0",
      "model_name": "DescriptionStyleModel",
      "state": {
       "_model_module": "@jupyter-widgets/controls",
       "_model_module_version": "1.5.0",
       "_model_name": "DescriptionStyleModel",
       "_view_count": null,
       "_view_module": "@jupyter-widgets/base",
       "_view_module_version": "1.2.0",
       "_view_name": "StyleView",
       "description_width": ""
      }
     },
     "1c1f8b2fb1254bbcb5c26ccc3c6e90df": {
      "model_module": "@jupyter-widgets/controls",
      "model_module_version": "1.5.0",
      "model_name": "HTMLModel",
      "state": {
       "_dom_classes": [],
       "_model_module": "@jupyter-widgets/controls",
       "_model_module_version": "1.5.0",
       "_model_name": "HTMLModel",
       "_view_count": null,
       "_view_module": "@jupyter-widgets/controls",
       "_view_module_version": "1.5.0",
       "_view_name": "HTMLView",
       "description": "",
       "description_tooltip": null,
       "layout": "IPY_MODEL_5d2d39fe1e39451daa1612118a2005dd",
       "placeholder": "​",
       "style": "IPY_MODEL_1b97d574886b45dfb3bee3379de6e7f2",
       "value": "model.safetensors: 100%"
      }
     },
     "1f20e314243a44b199f0d8e59df59bc1": {
      "model_module": "@jupyter-widgets/controls",
      "model_module_version": "1.5.0",
      "model_name": "FloatProgressModel",
      "state": {
       "_dom_classes": [],
       "_model_module": "@jupyter-widgets/controls",
       "_model_module_version": "1.5.0",
       "_model_name": "FloatProgressModel",
       "_view_count": null,
       "_view_module": "@jupyter-widgets/controls",
       "_view_module_version": "1.5.0",
       "_view_name": "ProgressView",
       "bar_style": "success",
       "description": "",
       "description_tooltip": null,
       "layout": "IPY_MODEL_a7360363b9744e64b419fcbe9e12316e",
       "max": 346404948,
       "min": 0,
       "orientation": "horizontal",
       "style": "IPY_MODEL_53103c89b777439480f19acea2f86ddf",
       "value": 346404948
      }
     },
     "253b914ed4ab4d8188d847c5ad411164": {
      "model_module": "@jupyter-widgets/controls",
      "model_module_version": "1.5.0",
      "model_name": "FloatProgressModel",
      "state": {
       "_dom_classes": [],
       "_model_module": "@jupyter-widgets/controls",
       "_model_module_version": "1.5.0",
       "_model_name": "FloatProgressModel",
       "_view_count": null,
       "_view_module": "@jupyter-widgets/controls",
       "_view_module_version": "1.5.0",
       "_view_name": "ProgressView",
       "bar_style": "success",
       "description": "",
       "description_tooltip": null,
       "layout": "IPY_MODEL_f56839e6c3124fca9c7011dabfe08190",
       "max": 1,
       "min": 0,
       "orientation": "horizontal",
       "style": "IPY_MODEL_a1b0168b5de54fbdb2770291f7fa589a",
       "value": 1
      }
     },
     "2b19e65c48c74aa5bea742d5214e8548": {
      "model_module": "@jupyter-widgets/controls",
      "model_module_version": "1.5.0",
      "model_name": "HTMLModel",
      "state": {
       "_dom_classes": [],
       "_model_module": "@jupyter-widgets/controls",
       "_model_module_version": "1.5.0",
       "_model_name": "HTMLModel",
       "_view_count": null,
       "_view_module": "@jupyter-widgets/controls",
       "_view_module_version": "1.5.0",
       "_view_name": "HTMLView",
       "description": "",
       "description_tooltip": null,
       "layout": "IPY_MODEL_2da9a5a18e49464abfc6172fb775f146",
       "placeholder": "​",
       "style": "IPY_MODEL_d6c419909d2c43bd8f486ecc5ce100bc",
       "value": "config.json: 100%"
      }
     },
     "2da9a5a18e49464abfc6172fb775f146": {
      "model_module": "@jupyter-widgets/base",
      "model_module_version": "1.2.0",
      "model_name": "LayoutModel",
      "state": {
       "_model_module": "@jupyter-widgets/base",
       "_model_module_version": "1.2.0",
       "_model_name": "LayoutModel",
       "_view_count": null,
       "_view_module": "@jupyter-widgets/base",
       "_view_module_version": "1.2.0",
       "_view_name": "LayoutView",
       "align_content": null,
       "align_items": null,
       "align_self": null,
       "border": null,
       "bottom": null,
       "display": null,
       "flex": null,
       "flex_flow": null,
       "grid_area": null,
       "grid_auto_columns": null,
       "grid_auto_flow": null,
       "grid_auto_rows": null,
       "grid_column": null,
       "grid_gap": null,
       "grid_row": null,
       "grid_template_areas": null,
       "grid_template_columns": null,
       "grid_template_rows": null,
       "height": null,
       "justify_content": null,
       "justify_items": null,
       "left": null,
       "margin": null,
       "max_height": null,
       "max_width": null,
       "min_height": null,
       "min_width": null,
       "object_fit": null,
       "object_position": null,
       "order": null,
       "overflow": null,
       "overflow_x": null,
       "overflow_y": null,
       "padding": null,
       "right": null,
       "top": null,
       "visibility": null,
       "width": null
      }
     },
     "2ea8ebf1150b485a991dab3e7c12fd8c": {
      "model_module": "@jupyter-widgets/controls",
      "model_module_version": "1.5.0",
      "model_name": "DescriptionStyleModel",
      "state": {
       "_model_module": "@jupyter-widgets/controls",
       "_model_module_version": "1.5.0",
       "_model_name": "DescriptionStyleModel",
       "_view_count": null,
       "_view_module": "@jupyter-widgets/base",
       "_view_module_version": "1.2.0",
       "_view_name": "StyleView",
       "description_width": ""
      }
     },
     "3c5eb24d61ac4387849220413f2e71d9": {
      "model_module": "@jupyter-widgets/base",
      "model_module_version": "1.2.0",
      "model_name": "LayoutModel",
      "state": {
       "_model_module": "@jupyter-widgets/base",
       "_model_module_version": "1.2.0",
       "_model_name": "LayoutModel",
       "_view_count": null,
       "_view_module": "@jupyter-widgets/base",
       "_view_module_version": "1.2.0",
       "_view_name": "LayoutView",
       "align_content": null,
       "align_items": null,
       "align_self": null,
       "border": null,
       "bottom": null,
       "display": null,
       "flex": null,
       "flex_flow": null,
       "grid_area": null,
       "grid_auto_columns": null,
       "grid_auto_flow": null,
       "grid_auto_rows": null,
       "grid_column": null,
       "grid_gap": null,
       "grid_row": null,
       "grid_template_areas": null,
       "grid_template_columns": null,
       "grid_template_rows": null,
       "height": null,
       "justify_content": null,
       "justify_items": null,
       "left": null,
       "margin": null,
       "max_height": null,
       "max_width": null,
       "min_height": null,
       "min_width": null,
       "object_fit": null,
       "object_position": null,
       "order": null,
       "overflow": null,
       "overflow_x": null,
       "overflow_y": null,
       "padding": null,
       "right": null,
       "top": null,
       "visibility": null,
       "width": null
      }
     },
     "48f0036b0d6f43ef8c6c933d99854332": {
      "model_module": "@jupyter-widgets/controls",
      "model_module_version": "1.5.0",
      "model_name": "DescriptionStyleModel",
      "state": {
       "_model_module": "@jupyter-widgets/controls",
       "_model_module_version": "1.5.0",
       "_model_name": "DescriptionStyleModel",
       "_view_count": null,
       "_view_module": "@jupyter-widgets/base",
       "_view_module_version": "1.2.0",
       "_view_name": "StyleView",
       "description_width": ""
      }
     },
     "4993b3409aa64d6f9f76507725c35838": {
      "model_module": "@jupyter-widgets/base",
      "model_module_version": "1.2.0",
      "model_name": "LayoutModel",
      "state": {
       "_model_module": "@jupyter-widgets/base",
       "_model_module_version": "1.2.0",
       "_model_name": "LayoutModel",
       "_view_count": null,
       "_view_module": "@jupyter-widgets/base",
       "_view_module_version": "1.2.0",
       "_view_name": "LayoutView",
       "align_content": null,
       "align_items": null,
       "align_self": null,
       "border": null,
       "bottom": null,
       "display": null,
       "flex": null,
       "flex_flow": null,
       "grid_area": null,
       "grid_auto_columns": null,
       "grid_auto_flow": null,
       "grid_auto_rows": null,
       "grid_column": null,
       "grid_gap": null,
       "grid_row": null,
       "grid_template_areas": null,
       "grid_template_columns": null,
       "grid_template_rows": null,
       "height": null,
       "justify_content": null,
       "justify_items": null,
       "left": null,
       "margin": null,
       "max_height": null,
       "max_width": null,
       "min_height": null,
       "min_width": null,
       "object_fit": null,
       "object_position": null,
       "order": null,
       "overflow": null,
       "overflow_x": null,
       "overflow_y": null,
       "padding": null,
       "right": null,
       "top": null,
       "visibility": null,
       "width": null
      }
     },
     "4a50c54a122d4ffb99b588dc308a51ad": {
      "model_module": "@jupyter-widgets/base",
      "model_module_version": "1.2.0",
      "model_name": "LayoutModel",
      "state": {
       "_model_module": "@jupyter-widgets/base",
       "_model_module_version": "1.2.0",
       "_model_name": "LayoutModel",
       "_view_count": null,
       "_view_module": "@jupyter-widgets/base",
       "_view_module_version": "1.2.0",
       "_view_name": "LayoutView",
       "align_content": null,
       "align_items": null,
       "align_self": null,
       "border": null,
       "bottom": null,
       "display": null,
       "flex": null,
       "flex_flow": null,
       "grid_area": null,
       "grid_auto_columns": null,
       "grid_auto_flow": null,
       "grid_auto_rows": null,
       "grid_column": null,
       "grid_gap": null,
       "grid_row": null,
       "grid_template_areas": null,
       "grid_template_columns": null,
       "grid_template_rows": null,
       "height": null,
       "justify_content": null,
       "justify_items": null,
       "left": null,
       "margin": null,
       "max_height": null,
       "max_width": null,
       "min_height": null,
       "min_width": null,
       "object_fit": null,
       "object_position": null,
       "order": null,
       "overflow": null,
       "overflow_x": null,
       "overflow_y": null,
       "padding": null,
       "right": null,
       "top": null,
       "visibility": null,
       "width": null
      }
     },
     "4eadef9855854b098e37938229724721": {
      "model_module": "@jupyter-widgets/controls",
      "model_module_version": "1.5.0",
      "model_name": "HBoxModel",
      "state": {
       "_dom_classes": [],
       "_model_module": "@jupyter-widgets/controls",
       "_model_module_version": "1.5.0",
       "_model_name": "HBoxModel",
       "_view_count": null,
       "_view_module": "@jupyter-widgets/controls",
       "_view_module_version": "1.5.0",
       "_view_name": "HBoxView",
       "box_style": "",
       "children": [
        "IPY_MODEL_6d0ece62060841cd96011262c4d530e0",
        "IPY_MODEL_72a7bc059016416f96ba689f98e326b5",
        "IPY_MODEL_e3244a2e44714ceebcd61aa82a527752"
       ],
       "layout": "IPY_MODEL_6ff9f1c86b8a43e7b016ba7fd095d73a"
      }
     },
     "5138317b35b34e9ab9ec2b6392c29612": {
      "model_module": "@jupyter-widgets/base",
      "model_module_version": "1.2.0",
      "model_name": "LayoutModel",
      "state": {
       "_model_module": "@jupyter-widgets/base",
       "_model_module_version": "1.2.0",
       "_model_name": "LayoutModel",
       "_view_count": null,
       "_view_module": "@jupyter-widgets/base",
       "_view_module_version": "1.2.0",
       "_view_name": "LayoutView",
       "align_content": null,
       "align_items": null,
       "align_self": null,
       "border": null,
       "bottom": null,
       "display": null,
       "flex": null,
       "flex_flow": null,
       "grid_area": null,
       "grid_auto_columns": null,
       "grid_auto_flow": null,
       "grid_auto_rows": null,
       "grid_column": null,
       "grid_gap": null,
       "grid_row": null,
       "grid_template_areas": null,
       "grid_template_columns": null,
       "grid_template_rows": null,
       "height": null,
       "justify_content": null,
       "justify_items": null,
       "left": null,
       "margin": null,
       "max_height": null,
       "max_width": null,
       "min_height": null,
       "min_width": null,
       "object_fit": null,
       "object_position": null,
       "order": null,
       "overflow": null,
       "overflow_x": null,
       "overflow_y": null,
       "padding": null,
       "right": null,
       "top": null,
       "visibility": null,
       "width": null
      }
     },
     "53103c89b777439480f19acea2f86ddf": {
      "model_module": "@jupyter-widgets/controls",
      "model_module_version": "1.5.0",
      "model_name": "ProgressStyleModel",
      "state": {
       "_model_module": "@jupyter-widgets/controls",
       "_model_module_version": "1.5.0",
       "_model_name": "ProgressStyleModel",
       "_view_count": null,
       "_view_module": "@jupyter-widgets/base",
       "_view_module_version": "1.2.0",
       "_view_name": "StyleView",
       "bar_color": null,
       "description_width": ""
      }
     },
     "549bda8aa92c44cf94076c26ba2c58ed": {
      "model_module": "@jupyter-widgets/controls",
      "model_module_version": "1.5.0",
      "model_name": "HTMLModel",
      "state": {
       "_dom_classes": [],
       "_model_module": "@jupyter-widgets/controls",
       "_model_module_version": "1.5.0",
       "_model_name": "HTMLModel",
       "_view_count": null,
       "_view_module": "@jupyter-widgets/controls",
       "_view_module_version": "1.5.0",
       "_view_name": "HTMLView",
       "description": "",
       "description_tooltip": null,
       "layout": "IPY_MODEL_e7f2fc2c2cce42998748937c13c72be3",
       "placeholder": "​",
       "style": "IPY_MODEL_0ebc94f0050d4b819c7186385ea55f61",
       "value": " 1/1 [00:01&lt;00:00,  1.48s/ba]"
      }
     },
     "5b4c463c90d34442af6e133c7c4d86c7": {
      "model_module": "@jupyter-widgets/controls",
      "model_module_version": "1.5.0",
      "model_name": "HTMLModel",
      "state": {
       "_dom_classes": [],
       "_model_module": "@jupyter-widgets/controls",
       "_model_module_version": "1.5.0",
       "_model_name": "HTMLModel",
       "_view_count": null,
       "_view_module": "@jupyter-widgets/controls",
       "_view_module_version": "1.5.0",
       "_view_name": "HTMLView",
       "description": "",
       "description_tooltip": null,
       "layout": "IPY_MODEL_5138317b35b34e9ab9ec2b6392c29612",
       "placeholder": "​",
       "style": "IPY_MODEL_f1a07396d2234742a2f2436df5344894",
       "value": " 1/1 [00:06&lt;00:00,  6.76s/ba]"
      }
     },
     "5d2d39fe1e39451daa1612118a2005dd": {
      "model_module": "@jupyter-widgets/base",
      "model_module_version": "1.2.0",
      "model_name": "LayoutModel",
      "state": {
       "_model_module": "@jupyter-widgets/base",
       "_model_module_version": "1.2.0",
       "_model_name": "LayoutModel",
       "_view_count": null,
       "_view_module": "@jupyter-widgets/base",
       "_view_module_version": "1.2.0",
       "_view_name": "LayoutView",
       "align_content": null,
       "align_items": null,
       "align_self": null,
       "border": null,
       "bottom": null,
       "display": null,
       "flex": null,
       "flex_flow": null,
       "grid_area": null,
       "grid_auto_columns": null,
       "grid_auto_flow": null,
       "grid_auto_rows": null,
       "grid_column": null,
       "grid_gap": null,
       "grid_row": null,
       "grid_template_areas": null,
       "grid_template_columns": null,
       "grid_template_rows": null,
       "height": null,
       "justify_content": null,
       "justify_items": null,
       "left": null,
       "margin": null,
       "max_height": null,
       "max_width": null,
       "min_height": null,
       "min_width": null,
       "object_fit": null,
       "object_position": null,
       "order": null,
       "overflow": null,
       "overflow_x": null,
       "overflow_y": null,
       "padding": null,
       "right": null,
       "top": null,
       "visibility": null,
       "width": null
      }
     },
     "646f3c964d8d4b81b87d2138b6d505d7": {
      "model_module": "@jupyter-widgets/base",
      "model_module_version": "1.2.0",
      "model_name": "LayoutModel",
      "state": {
       "_model_module": "@jupyter-widgets/base",
       "_model_module_version": "1.2.0",
       "_model_name": "LayoutModel",
       "_view_count": null,
       "_view_module": "@jupyter-widgets/base",
       "_view_module_version": "1.2.0",
       "_view_name": "LayoutView",
       "align_content": null,
       "align_items": null,
       "align_self": null,
       "border": null,
       "bottom": null,
       "display": null,
       "flex": null,
       "flex_flow": null,
       "grid_area": null,
       "grid_auto_columns": null,
       "grid_auto_flow": null,
       "grid_auto_rows": null,
       "grid_column": null,
       "grid_gap": null,
       "grid_row": null,
       "grid_template_areas": null,
       "grid_template_columns": null,
       "grid_template_rows": null,
       "height": null,
       "justify_content": null,
       "justify_items": null,
       "left": null,
       "margin": null,
       "max_height": null,
       "max_width": null,
       "min_height": null,
       "min_width": null,
       "object_fit": null,
       "object_position": null,
       "order": null,
       "overflow": null,
       "overflow_x": null,
       "overflow_y": null,
       "padding": null,
       "right": null,
       "top": null,
       "visibility": null,
       "width": null
      }
     },
     "648306223b8e4ef8a7aa42a99664357e": {
      "model_module": "@jupyter-widgets/controls",
      "model_module_version": "1.5.0",
      "model_name": "HTMLModel",
      "state": {
       "_dom_classes": [],
       "_model_module": "@jupyter-widgets/controls",
       "_model_module_version": "1.5.0",
       "_model_name": "HTMLModel",
       "_view_count": null,
       "_view_module": "@jupyter-widgets/controls",
       "_view_module_version": "1.5.0",
       "_view_name": "HTMLView",
       "description": "",
       "description_tooltip": null,
       "layout": "IPY_MODEL_fa361003df064e529a9007f4f052bb02",
       "placeholder": "​",
       "style": "IPY_MODEL_8c9429d371474a42b27652614ebbbed4",
       "value": "100%"
      }
     },
     "6830a5e72f1e4bcb9c5647da68288be0": {
      "model_module": "@jupyter-widgets/base",
      "model_module_version": "1.2.0",
      "model_name": "LayoutModel",
      "state": {
       "_model_module": "@jupyter-widgets/base",
       "_model_module_version": "1.2.0",
       "_model_name": "LayoutModel",
       "_view_count": null,
       "_view_module": "@jupyter-widgets/base",
       "_view_module_version": "1.2.0",
       "_view_name": "LayoutView",
       "align_content": null,
       "align_items": null,
       "align_self": null,
       "border": null,
       "bottom": null,
       "display": null,
       "flex": null,
       "flex_flow": null,
       "grid_area": null,
       "grid_auto_columns": null,
       "grid_auto_flow": null,
       "grid_auto_rows": null,
       "grid_column": null,
       "grid_gap": null,
       "grid_row": null,
       "grid_template_areas": null,
       "grid_template_columns": null,
       "grid_template_rows": null,
       "height": null,
       "justify_content": null,
       "justify_items": null,
       "left": null,
       "margin": null,
       "max_height": null,
       "max_width": null,
       "min_height": null,
       "min_width": null,
       "object_fit": null,
       "object_position": null,
       "order": null,
       "overflow": null,
       "overflow_x": null,
       "overflow_y": null,
       "padding": null,
       "right": null,
       "top": null,
       "visibility": null,
       "width": null
      }
     },
     "6d0ece62060841cd96011262c4d530e0": {
      "model_module": "@jupyter-widgets/controls",
      "model_module_version": "1.5.0",
      "model_name": "HTMLModel",
      "state": {
       "_dom_classes": [],
       "_model_module": "@jupyter-widgets/controls",
       "_model_module_version": "1.5.0",
       "_model_name": "HTMLModel",
       "_view_count": null,
       "_view_module": "@jupyter-widgets/controls",
       "_view_module_version": "1.5.0",
       "_view_name": "HTMLView",
       "description": "",
       "description_tooltip": null,
       "layout": "IPY_MODEL_9b3091c6dee049a2815c89082ffd00cb",
       "placeholder": "​",
       "style": "IPY_MODEL_2ea8ebf1150b485a991dab3e7c12fd8c",
       "value": "100%"
      }
     },
     "6e4a49df38894061883b16fbe3dcd39d": {
      "model_module": "@jupyter-widgets/base",
      "model_module_version": "1.2.0",
      "model_name": "LayoutModel",
      "state": {
       "_model_module": "@jupyter-widgets/base",
       "_model_module_version": "1.2.0",
       "_model_name": "LayoutModel",
       "_view_count": null,
       "_view_module": "@jupyter-widgets/base",
       "_view_module_version": "1.2.0",
       "_view_name": "LayoutView",
       "align_content": null,
       "align_items": null,
       "align_self": null,
       "border": null,
       "bottom": null,
       "display": null,
       "flex": null,
       "flex_flow": null,
       "grid_area": null,
       "grid_auto_columns": null,
       "grid_auto_flow": null,
       "grid_auto_rows": null,
       "grid_column": null,
       "grid_gap": null,
       "grid_row": null,
       "grid_template_areas": null,
       "grid_template_columns": null,
       "grid_template_rows": null,
       "height": null,
       "justify_content": null,
       "justify_items": null,
       "left": null,
       "margin": null,
       "max_height": null,
       "max_width": null,
       "min_height": null,
       "min_width": null,
       "object_fit": null,
       "object_position": null,
       "order": null,
       "overflow": null,
       "overflow_x": null,
       "overflow_y": null,
       "padding": null,
       "right": null,
       "top": null,
       "visibility": null,
       "width": null
      }
     },
     "6ff9f1c86b8a43e7b016ba7fd095d73a": {
      "model_module": "@jupyter-widgets/base",
      "model_module_version": "1.2.0",
      "model_name": "LayoutModel",
      "state": {
       "_model_module": "@jupyter-widgets/base",
       "_model_module_version": "1.2.0",
       "_model_name": "LayoutModel",
       "_view_count": null,
       "_view_module": "@jupyter-widgets/base",
       "_view_module_version": "1.2.0",
       "_view_name": "LayoutView",
       "align_content": null,
       "align_items": null,
       "align_self": null,
       "border": null,
       "bottom": null,
       "display": null,
       "flex": null,
       "flex_flow": null,
       "grid_area": null,
       "grid_auto_columns": null,
       "grid_auto_flow": null,
       "grid_auto_rows": null,
       "grid_column": null,
       "grid_gap": null,
       "grid_row": null,
       "grid_template_areas": null,
       "grid_template_columns": null,
       "grid_template_rows": null,
       "height": null,
       "justify_content": null,
       "justify_items": null,
       "left": null,
       "margin": null,
       "max_height": null,
       "max_width": null,
       "min_height": null,
       "min_width": null,
       "object_fit": null,
       "object_position": null,
       "order": null,
       "overflow": null,
       "overflow_x": null,
       "overflow_y": null,
       "padding": null,
       "right": null,
       "top": null,
       "visibility": null,
       "width": null
      }
     },
     "72a7bc059016416f96ba689f98e326b5": {
      "model_module": "@jupyter-widgets/controls",
      "model_module_version": "1.5.0",
      "model_name": "FloatProgressModel",
      "state": {
       "_dom_classes": [],
       "_model_module": "@jupyter-widgets/controls",
       "_model_module_version": "1.5.0",
       "_model_name": "FloatProgressModel",
       "_view_count": null,
       "_view_module": "@jupyter-widgets/controls",
       "_view_module_version": "1.5.0",
       "_view_name": "ProgressView",
       "bar_style": "success",
       "description": "",
       "description_tooltip": null,
       "layout": "IPY_MODEL_c9b6e9216d6545ca976c802e30a47602",
       "max": 1,
       "min": 0,
       "orientation": "horizontal",
       "style": "IPY_MODEL_e17b5b8ba63849f8b2080c4d86814888",
       "value": 1
      }
     },
     "751e797e83a64145875756e90f53c72e": {
      "model_module": "@jupyter-widgets/controls",
      "model_module_version": "1.5.0",
      "model_name": "HBoxModel",
      "state": {
       "_dom_classes": [],
       "_model_module": "@jupyter-widgets/controls",
       "_model_module_version": "1.5.0",
       "_model_name": "HBoxModel",
       "_view_count": null,
       "_view_module": "@jupyter-widgets/controls",
       "_view_module_version": "1.5.0",
       "_view_name": "HBoxView",
       "box_style": "",
       "children": [
        "IPY_MODEL_648306223b8e4ef8a7aa42a99664357e",
        "IPY_MODEL_96523d9fbd0244988d395e202ba3521b",
        "IPY_MODEL_549bda8aa92c44cf94076c26ba2c58ed"
       ],
       "layout": "IPY_MODEL_fbe65eebea3f40c9a3c3b0a33a65960a"
      }
     },
     "7ba40df7dffb41e390e665d38b5ca0ac": {
      "model_module": "@jupyter-widgets/controls",
      "model_module_version": "1.5.0",
      "model_name": "HTMLModel",
      "state": {
       "_dom_classes": [],
       "_model_module": "@jupyter-widgets/controls",
       "_model_module_version": "1.5.0",
       "_model_name": "HTMLModel",
       "_view_count": null,
       "_view_module": "@jupyter-widgets/controls",
       "_view_module_version": "1.5.0",
       "_view_name": "HTMLView",
       "description": "",
       "description_tooltip": null,
       "layout": "IPY_MODEL_b9464d2916c64dd6a1eb4e00188cb646",
       "placeholder": "​",
       "style": "IPY_MODEL_b2c538ccf51442cb8731e3186a7ccf14",
       "value": " 346M/346M [00:02&lt;00:00, 199MB/s]"
      }
     },
     "82fef344a35c419883ecda9b91cf59ed": {
      "model_module": "@jupyter-widgets/controls",
      "model_module_version": "1.5.0",
      "model_name": "ProgressStyleModel",
      "state": {
       "_model_module": "@jupyter-widgets/controls",
       "_model_module_version": "1.5.0",
       "_model_name": "ProgressStyleModel",
       "_view_count": null,
       "_view_module": "@jupyter-widgets/base",
       "_view_module_version": "1.2.0",
       "_view_name": "StyleView",
       "bar_color": null,
       "description_width": ""
      }
     },
     "8676748db1c441a0824f36c1d3f767b1": {
      "model_module": "@jupyter-widgets/base",
      "model_module_version": "1.2.0",
      "model_name": "LayoutModel",
      "state": {
       "_model_module": "@jupyter-widgets/base",
       "_model_module_version": "1.2.0",
       "_model_name": "LayoutModel",
       "_view_count": null,
       "_view_module": "@jupyter-widgets/base",
       "_view_module_version": "1.2.0",
       "_view_name": "LayoutView",
       "align_content": null,
       "align_items": null,
       "align_self": null,
       "border": null,
       "bottom": null,
       "display": null,
       "flex": null,
       "flex_flow": null,
       "grid_area": null,
       "grid_auto_columns": null,
       "grid_auto_flow": null,
       "grid_auto_rows": null,
       "grid_column": null,
       "grid_gap": null,
       "grid_row": null,
       "grid_template_areas": null,
       "grid_template_columns": null,
       "grid_template_rows": null,
       "height": null,
       "justify_content": null,
       "justify_items": null,
       "left": null,
       "margin": null,
       "max_height": null,
       "max_width": null,
       "min_height": null,
       "min_width": null,
       "object_fit": null,
       "object_position": null,
       "order": null,
       "overflow": null,
       "overflow_x": null,
       "overflow_y": null,
       "padding": null,
       "right": null,
       "top": null,
       "visibility": null,
       "width": null
      }
     },
     "8c9429d371474a42b27652614ebbbed4": {
      "model_module": "@jupyter-widgets/controls",
      "model_module_version": "1.5.0",
      "model_name": "DescriptionStyleModel",
      "state": {
       "_model_module": "@jupyter-widgets/controls",
       "_model_module_version": "1.5.0",
       "_model_name": "DescriptionStyleModel",
       "_view_count": null,
       "_view_module": "@jupyter-widgets/base",
       "_view_module_version": "1.2.0",
       "_view_name": "StyleView",
       "description_width": ""
      }
     },
     "96145b9e921143809b2a4d3a18b553f9": {
      "model_module": "@jupyter-widgets/controls",
      "model_module_version": "1.5.0",
      "model_name": "DescriptionStyleModel",
      "state": {
       "_model_module": "@jupyter-widgets/controls",
       "_model_module_version": "1.5.0",
       "_model_name": "DescriptionStyleModel",
       "_view_count": null,
       "_view_module": "@jupyter-widgets/base",
       "_view_module_version": "1.2.0",
       "_view_name": "StyleView",
       "description_width": ""
      }
     },
     "96523d9fbd0244988d395e202ba3521b": {
      "model_module": "@jupyter-widgets/controls",
      "model_module_version": "1.5.0",
      "model_name": "FloatProgressModel",
      "state": {
       "_dom_classes": [],
       "_model_module": "@jupyter-widgets/controls",
       "_model_module_version": "1.5.0",
       "_model_name": "FloatProgressModel",
       "_view_count": null,
       "_view_module": "@jupyter-widgets/controls",
       "_view_module_version": "1.5.0",
       "_view_name": "ProgressView",
       "bar_style": "success",
       "description": "",
       "description_tooltip": null,
       "layout": "IPY_MODEL_0df3d7e2d9494ce69fea6aa7e40cfaab",
       "max": 1,
       "min": 0,
       "orientation": "horizontal",
       "style": "IPY_MODEL_c3447d3fa27a49d2acc463311102f12b",
       "value": 1
      }
     },
     "9b3091c6dee049a2815c89082ffd00cb": {
      "model_module": "@jupyter-widgets/base",
      "model_module_version": "1.2.0",
      "model_name": "LayoutModel",
      "state": {
       "_model_module": "@jupyter-widgets/base",
       "_model_module_version": "1.2.0",
       "_model_name": "LayoutModel",
       "_view_count": null,
       "_view_module": "@jupyter-widgets/base",
       "_view_module_version": "1.2.0",
       "_view_name": "LayoutView",
       "align_content": null,
       "align_items": null,
       "align_self": null,
       "border": null,
       "bottom": null,
       "display": null,
       "flex": null,
       "flex_flow": null,
       "grid_area": null,
       "grid_auto_columns": null,
       "grid_auto_flow": null,
       "grid_auto_rows": null,
       "grid_column": null,
       "grid_gap": null,
       "grid_row": null,
       "grid_template_areas": null,
       "grid_template_columns": null,
       "grid_template_rows": null,
       "height": null,
       "justify_content": null,
       "justify_items": null,
       "left": null,
       "margin": null,
       "max_height": null,
       "max_width": null,
       "min_height": null,
       "min_width": null,
       "object_fit": null,
       "object_position": null,
       "order": null,
       "overflow": null,
       "overflow_x": null,
       "overflow_y": null,
       "padding": null,
       "right": null,
       "top": null,
       "visibility": null,
       "width": null
      }
     },
     "9dfa903d1e0642b9aefe65a5f61ec8a0": {
      "model_module": "@jupyter-widgets/controls",
      "model_module_version": "1.5.0",
      "model_name": "DescriptionStyleModel",
      "state": {
       "_model_module": "@jupyter-widgets/controls",
       "_model_module_version": "1.5.0",
       "_model_name": "DescriptionStyleModel",
       "_view_count": null,
       "_view_module": "@jupyter-widgets/base",
       "_view_module_version": "1.2.0",
       "_view_name": "StyleView",
       "description_width": ""
      }
     },
     "a1b0168b5de54fbdb2770291f7fa589a": {
      "model_module": "@jupyter-widgets/controls",
      "model_module_version": "1.5.0",
      "model_name": "ProgressStyleModel",
      "state": {
       "_model_module": "@jupyter-widgets/controls",
       "_model_module_version": "1.5.0",
       "_model_name": "ProgressStyleModel",
       "_view_count": null,
       "_view_module": "@jupyter-widgets/base",
       "_view_module_version": "1.2.0",
       "_view_name": "StyleView",
       "bar_color": null,
       "description_width": ""
      }
     },
     "a3b34118d8b24f4a8de6f5ff9ed71ca9": {
      "model_module": "@jupyter-widgets/controls",
      "model_module_version": "1.5.0",
      "model_name": "HTMLModel",
      "state": {
       "_dom_classes": [],
       "_model_module": "@jupyter-widgets/controls",
       "_model_module_version": "1.5.0",
       "_model_name": "HTMLModel",
       "_view_count": null,
       "_view_module": "@jupyter-widgets/controls",
       "_view_module_version": "1.5.0",
       "_view_name": "HTMLView",
       "description": "",
       "description_tooltip": null,
       "layout": "IPY_MODEL_6e4a49df38894061883b16fbe3dcd39d",
       "placeholder": "​",
       "style": "IPY_MODEL_48f0036b0d6f43ef8c6c933d99854332",
       "value": "preprocessor_config.json: 100%"
      }
     },
     "a7360363b9744e64b419fcbe9e12316e": {
      "model_module": "@jupyter-widgets/base",
      "model_module_version": "1.2.0",
      "model_name": "LayoutModel",
      "state": {
       "_model_module": "@jupyter-widgets/base",
       "_model_module_version": "1.2.0",
       "_model_name": "LayoutModel",
       "_view_count": null,
       "_view_module": "@jupyter-widgets/base",
       "_view_module_version": "1.2.0",
       "_view_name": "LayoutView",
       "align_content": null,
       "align_items": null,
       "align_self": null,
       "border": null,
       "bottom": null,
       "display": null,
       "flex": null,
       "flex_flow": null,
       "grid_area": null,
       "grid_auto_columns": null,
       "grid_auto_flow": null,
       "grid_auto_rows": null,
       "grid_column": null,
       "grid_gap": null,
       "grid_row": null,
       "grid_template_areas": null,
       "grid_template_columns": null,
       "grid_template_rows": null,
       "height": null,
       "justify_content": null,
       "justify_items": null,
       "left": null,
       "margin": null,
       "max_height": null,
       "max_width": null,
       "min_height": null,
       "min_width": null,
       "object_fit": null,
       "object_position": null,
       "order": null,
       "overflow": null,
       "overflow_x": null,
       "overflow_y": null,
       "padding": null,
       "right": null,
       "top": null,
       "visibility": null,
       "width": null
      }
     },
     "b2c538ccf51442cb8731e3186a7ccf14": {
      "model_module": "@jupyter-widgets/controls",
      "model_module_version": "1.5.0",
      "model_name": "DescriptionStyleModel",
      "state": {
       "_model_module": "@jupyter-widgets/controls",
       "_model_module_version": "1.5.0",
       "_model_name": "DescriptionStyleModel",
       "_view_count": null,
       "_view_module": "@jupyter-widgets/base",
       "_view_module_version": "1.2.0",
       "_view_name": "StyleView",
       "description_width": ""
      }
     },
     "b7863c29a9c04699bf6dff9bd446f728": {
      "model_module": "@jupyter-widgets/controls",
      "model_module_version": "1.5.0",
      "model_name": "HTMLModel",
      "state": {
       "_dom_classes": [],
       "_model_module": "@jupyter-widgets/controls",
       "_model_module_version": "1.5.0",
       "_model_name": "HTMLModel",
       "_view_count": null,
       "_view_module": "@jupyter-widgets/controls",
       "_view_module_version": "1.5.0",
       "_view_name": "HTMLView",
       "description": "",
       "description_tooltip": null,
       "layout": "IPY_MODEL_646f3c964d8d4b81b87d2138b6d505d7",
       "placeholder": "​",
       "style": "IPY_MODEL_be8c1e4bcebc4dfeb87a44ffdfb51968",
       "value": " 26.8k/26.8k [00:00&lt;00:00, 2.25MB/s]"
      }
     },
     "b9464d2916c64dd6a1eb4e00188cb646": {
      "model_module": "@jupyter-widgets/base",
      "model_module_version": "1.2.0",
      "model_name": "LayoutModel",
      "state": {
       "_model_module": "@jupyter-widgets/base",
       "_model_module_version": "1.2.0",
       "_model_name": "LayoutModel",
       "_view_count": null,
       "_view_module": "@jupyter-widgets/base",
       "_view_module_version": "1.2.0",
       "_view_name": "LayoutView",
       "align_content": null,
       "align_items": null,
       "align_self": null,
       "border": null,
       "bottom": null,
       "display": null,
       "flex": null,
       "flex_flow": null,
       "grid_area": null,
       "grid_auto_columns": null,
       "grid_auto_flow": null,
       "grid_auto_rows": null,
       "grid_column": null,
       "grid_gap": null,
       "grid_row": null,
       "grid_template_areas": null,
       "grid_template_columns": null,
       "grid_template_rows": null,
       "height": null,
       "justify_content": null,
       "justify_items": null,
       "left": null,
       "margin": null,
       "max_height": null,
       "max_width": null,
       "min_height": null,
       "min_width": null,
       "object_fit": null,
       "object_position": null,
       "order": null,
       "overflow": null,
       "overflow_x": null,
       "overflow_y": null,
       "padding": null,
       "right": null,
       "top": null,
       "visibility": null,
       "width": null
      }
     },
     "bb66d4f5f80b41b583cb1ca7eefebd41": {
      "model_module": "@jupyter-widgets/controls",
      "model_module_version": "1.5.0",
      "model_name": "HTMLModel",
      "state": {
       "_dom_classes": [],
       "_model_module": "@jupyter-widgets/controls",
       "_model_module_version": "1.5.0",
       "_model_name": "HTMLModel",
       "_view_count": null,
       "_view_module": "@jupyter-widgets/controls",
       "_view_module_version": "1.5.0",
       "_view_name": "HTMLView",
       "description": "",
       "description_tooltip": null,
       "layout": "IPY_MODEL_4a50c54a122d4ffb99b588dc308a51ad",
       "placeholder": "​",
       "style": "IPY_MODEL_96145b9e921143809b2a4d3a18b553f9",
       "value": " 297/297 [00:00&lt;00:00, 25.2kB/s]"
      }
     },
     "bdbf8ab381244ee383d86438d4f8f23e": {
      "model_module": "@jupyter-widgets/controls",
      "model_module_version": "1.5.0",
      "model_name": "ProgressStyleModel",
      "state": {
       "_model_module": "@jupyter-widgets/controls",
       "_model_module_version": "1.5.0",
       "_model_name": "ProgressStyleModel",
       "_view_count": null,
       "_view_module": "@jupyter-widgets/base",
       "_view_module_version": "1.2.0",
       "_view_name": "StyleView",
       "bar_color": null,
       "description_width": ""
      }
     },
     "be8c1e4bcebc4dfeb87a44ffdfb51968": {
      "model_module": "@jupyter-widgets/controls",
      "model_module_version": "1.5.0",
      "model_name": "DescriptionStyleModel",
      "state": {
       "_model_module": "@jupyter-widgets/controls",
       "_model_module_version": "1.5.0",
       "_model_name": "DescriptionStyleModel",
       "_view_count": null,
       "_view_module": "@jupyter-widgets/base",
       "_view_module_version": "1.2.0",
       "_view_name": "StyleView",
       "description_width": ""
      }
     },
     "c3447d3fa27a49d2acc463311102f12b": {
      "model_module": "@jupyter-widgets/controls",
      "model_module_version": "1.5.0",
      "model_name": "ProgressStyleModel",
      "state": {
       "_model_module": "@jupyter-widgets/controls",
       "_model_module_version": "1.5.0",
       "_model_name": "ProgressStyleModel",
       "_view_count": null,
       "_view_module": "@jupyter-widgets/base",
       "_view_module_version": "1.2.0",
       "_view_name": "StyleView",
       "bar_color": null,
       "description_width": ""
      }
     },
     "c481597faa2149918b0fbe846af61407": {
      "model_module": "@jupyter-widgets/controls",
      "model_module_version": "1.5.0",
      "model_name": "HBoxModel",
      "state": {
       "_dom_classes": [],
       "_model_module": "@jupyter-widgets/controls",
       "_model_module_version": "1.5.0",
       "_model_name": "HBoxModel",
       "_view_count": null,
       "_view_module": "@jupyter-widgets/controls",
       "_view_module_version": "1.5.0",
       "_view_name": "HBoxView",
       "box_style": "",
       "children": [
        "IPY_MODEL_2b19e65c48c74aa5bea742d5214e8548",
        "IPY_MODEL_d747d41f722b469684055091c6839451",
        "IPY_MODEL_b7863c29a9c04699bf6dff9bd446f728"
       ],
       "layout": "IPY_MODEL_4993b3409aa64d6f9f76507725c35838"
      }
     },
     "c9b6e9216d6545ca976c802e30a47602": {
      "model_module": "@jupyter-widgets/base",
      "model_module_version": "1.2.0",
      "model_name": "LayoutModel",
      "state": {
       "_model_module": "@jupyter-widgets/base",
       "_model_module_version": "1.2.0",
       "_model_name": "LayoutModel",
       "_view_count": null,
       "_view_module": "@jupyter-widgets/base",
       "_view_module_version": "1.2.0",
       "_view_name": "LayoutView",
       "align_content": null,
       "align_items": null,
       "align_self": null,
       "border": null,
       "bottom": null,
       "display": null,
       "flex": null,
       "flex_flow": null,
       "grid_area": null,
       "grid_auto_columns": null,
       "grid_auto_flow": null,
       "grid_auto_rows": null,
       "grid_column": null,
       "grid_gap": null,
       "grid_row": null,
       "grid_template_areas": null,
       "grid_template_columns": null,
       "grid_template_rows": null,
       "height": null,
       "justify_content": null,
       "justify_items": null,
       "left": null,
       "margin": null,
       "max_height": null,
       "max_width": null,
       "min_height": null,
       "min_width": null,
       "object_fit": null,
       "object_position": null,
       "order": null,
       "overflow": null,
       "overflow_x": null,
       "overflow_y": null,
       "padding": null,
       "right": null,
       "top": null,
       "visibility": null,
       "width": null
      }
     },
     "cb4e32b6a8614c37bdf572085772e5fc": {
      "model_module": "@jupyter-widgets/base",
      "model_module_version": "1.2.0",
      "model_name": "LayoutModel",
      "state": {
       "_model_module": "@jupyter-widgets/base",
       "_model_module_version": "1.2.0",
       "_model_name": "LayoutModel",
       "_view_count": null,
       "_view_module": "@jupyter-widgets/base",
       "_view_module_version": "1.2.0",
       "_view_name": "LayoutView",
       "align_content": null,
       "align_items": null,
       "align_self": null,
       "border": null,
       "bottom": null,
       "display": null,
       "flex": null,
       "flex_flow": null,
       "grid_area": null,
       "grid_auto_columns": null,
       "grid_auto_flow": null,
       "grid_auto_rows": null,
       "grid_column": null,
       "grid_gap": null,
       "grid_row": null,
       "grid_template_areas": null,
       "grid_template_columns": null,
       "grid_template_rows": null,
       "height": null,
       "justify_content": null,
       "justify_items": null,
       "left": null,
       "margin": null,
       "max_height": null,
       "max_width": null,
       "min_height": null,
       "min_width": null,
       "object_fit": null,
       "object_position": null,
       "order": null,
       "overflow": null,
       "overflow_x": null,
       "overflow_y": null,
       "padding": null,
       "right": null,
       "top": null,
       "visibility": null,
       "width": null
      }
     },
     "cdcf1323eb054e82a0a76367e3089aa5": {
      "model_module": "@jupyter-widgets/controls",
      "model_module_version": "1.5.0",
      "model_name": "HBoxModel",
      "state": {
       "_dom_classes": [],
       "_model_module": "@jupyter-widgets/controls",
       "_model_module_version": "1.5.0",
       "_model_name": "HBoxModel",
       "_view_count": null,
       "_view_module": "@jupyter-widgets/controls",
       "_view_module_version": "1.5.0",
       "_view_name": "HBoxView",
       "box_style": "",
       "children": [
        "IPY_MODEL_1c1f8b2fb1254bbcb5c26ccc3c6e90df",
        "IPY_MODEL_1f20e314243a44b199f0d8e59df59bc1",
        "IPY_MODEL_7ba40df7dffb41e390e665d38b5ca0ac"
       ],
       "layout": "IPY_MODEL_6830a5e72f1e4bcb9c5647da68288be0"
      }
     },
     "d6c419909d2c43bd8f486ecc5ce100bc": {
      "model_module": "@jupyter-widgets/controls",
      "model_module_version": "1.5.0",
      "model_name": "DescriptionStyleModel",
      "state": {
       "_model_module": "@jupyter-widgets/controls",
       "_model_module_version": "1.5.0",
       "_model_name": "DescriptionStyleModel",
       "_view_count": null,
       "_view_module": "@jupyter-widgets/base",
       "_view_module_version": "1.2.0",
       "_view_name": "StyleView",
       "description_width": ""
      }
     },
     "d747d41f722b469684055091c6839451": {
      "model_module": "@jupyter-widgets/controls",
      "model_module_version": "1.5.0",
      "model_name": "FloatProgressModel",
      "state": {
       "_dom_classes": [],
       "_model_module": "@jupyter-widgets/controls",
       "_model_module_version": "1.5.0",
       "_model_name": "FloatProgressModel",
       "_view_count": null,
       "_view_module": "@jupyter-widgets/controls",
       "_view_module_version": "1.5.0",
       "_view_name": "ProgressView",
       "bar_style": "success",
       "description": "",
       "description_tooltip": null,
       "layout": "IPY_MODEL_3c5eb24d61ac4387849220413f2e71d9",
       "max": 26763,
       "min": 0,
       "orientation": "horizontal",
       "style": "IPY_MODEL_bdbf8ab381244ee383d86438d4f8f23e",
       "value": 26763
      }
     },
     "e17b5b8ba63849f8b2080c4d86814888": {
      "model_module": "@jupyter-widgets/controls",
      "model_module_version": "1.5.0",
      "model_name": "ProgressStyleModel",
      "state": {
       "_model_module": "@jupyter-widgets/controls",
       "_model_module_version": "1.5.0",
       "_model_name": "ProgressStyleModel",
       "_view_count": null,
       "_view_module": "@jupyter-widgets/base",
       "_view_module_version": "1.2.0",
       "_view_name": "StyleView",
       "bar_color": null,
       "description_width": ""
      }
     },
     "e256163514114a1ab509bb009b45f64a": {
      "model_module": "@jupyter-widgets/base",
      "model_module_version": "1.2.0",
      "model_name": "LayoutModel",
      "state": {
       "_model_module": "@jupyter-widgets/base",
       "_model_module_version": "1.2.0",
       "_model_name": "LayoutModel",
       "_view_count": null,
       "_view_module": "@jupyter-widgets/base",
       "_view_module_version": "1.2.0",
       "_view_name": "LayoutView",
       "align_content": null,
       "align_items": null,
       "align_self": null,
       "border": null,
       "bottom": null,
       "display": null,
       "flex": null,
       "flex_flow": null,
       "grid_area": null,
       "grid_auto_columns": null,
       "grid_auto_flow": null,
       "grid_auto_rows": null,
       "grid_column": null,
       "grid_gap": null,
       "grid_row": null,
       "grid_template_areas": null,
       "grid_template_columns": null,
       "grid_template_rows": null,
       "height": null,
       "justify_content": null,
       "justify_items": null,
       "left": null,
       "margin": null,
       "max_height": null,
       "max_width": null,
       "min_height": null,
       "min_width": null,
       "object_fit": null,
       "object_position": null,
       "order": null,
       "overflow": null,
       "overflow_x": null,
       "overflow_y": null,
       "padding": null,
       "right": null,
       "top": null,
       "visibility": null,
       "width": null
      }
     },
     "e3244a2e44714ceebcd61aa82a527752": {
      "model_module": "@jupyter-widgets/controls",
      "model_module_version": "1.5.0",
      "model_name": "HTMLModel",
      "state": {
       "_dom_classes": [],
       "_model_module": "@jupyter-widgets/controls",
       "_model_module_version": "1.5.0",
       "_model_name": "HTMLModel",
       "_view_count": null,
       "_view_module": "@jupyter-widgets/controls",
       "_view_module_version": "1.5.0",
       "_view_name": "HTMLView",
       "description": "",
       "description_tooltip": null,
       "layout": "IPY_MODEL_efa8bcd245544097b18d79138d8754ca",
       "placeholder": "​",
       "style": "IPY_MODEL_0dc25b52df5a458f937c0fc2c0db9693",
       "value": " 1/1 [00:01&lt;00:00,  1.25s/ba]"
      }
     },
     "e644864c3034400ea794e718d9f5cd13": {
      "model_module": "@jupyter-widgets/controls",
      "model_module_version": "1.5.0",
      "model_name": "HTMLModel",
      "state": {
       "_dom_classes": [],
       "_model_module": "@jupyter-widgets/controls",
       "_model_module_version": "1.5.0",
       "_model_name": "HTMLModel",
       "_view_count": null,
       "_view_module": "@jupyter-widgets/controls",
       "_view_module_version": "1.5.0",
       "_view_name": "HTMLView",
       "description": "",
       "description_tooltip": null,
       "layout": "IPY_MODEL_cb4e32b6a8614c37bdf572085772e5fc",
       "placeholder": "​",
       "style": "IPY_MODEL_9dfa903d1e0642b9aefe65a5f61ec8a0",
       "value": "100%"
      }
     },
     "e7f2fc2c2cce42998748937c13c72be3": {
      "model_module": "@jupyter-widgets/base",
      "model_module_version": "1.2.0",
      "model_name": "LayoutModel",
      "state": {
       "_model_module": "@jupyter-widgets/base",
       "_model_module_version": "1.2.0",
       "_model_name": "LayoutModel",
       "_view_count": null,
       "_view_module": "@jupyter-widgets/base",
       "_view_module_version": "1.2.0",
       "_view_name": "LayoutView",
       "align_content": null,
       "align_items": null,
       "align_self": null,
       "border": null,
       "bottom": null,
       "display": null,
       "flex": null,
       "flex_flow": null,
       "grid_area": null,
       "grid_auto_columns": null,
       "grid_auto_flow": null,
       "grid_auto_rows": null,
       "grid_column": null,
       "grid_gap": null,
       "grid_row": null,
       "grid_template_areas": null,
       "grid_template_columns": null,
       "grid_template_rows": null,
       "height": null,
       "justify_content": null,
       "justify_items": null,
       "left": null,
       "margin": null,
       "max_height": null,
       "max_width": null,
       "min_height": null,
       "min_width": null,
       "object_fit": null,
       "object_position": null,
       "order": null,
       "overflow": null,
       "overflow_x": null,
       "overflow_y": null,
       "padding": null,
       "right": null,
       "top": null,
       "visibility": null,
       "width": null
      }
     },
     "edad8b1214d544439517a726a5766273": {
      "model_module": "@jupyter-widgets/controls",
      "model_module_version": "1.5.0",
      "model_name": "HBoxModel",
      "state": {
       "_dom_classes": [],
       "_model_module": "@jupyter-widgets/controls",
       "_model_module_version": "1.5.0",
       "_model_name": "HBoxModel",
       "_view_count": null,
       "_view_module": "@jupyter-widgets/controls",
       "_view_module_version": "1.5.0",
       "_view_name": "HBoxView",
       "box_style": "",
       "children": [
        "IPY_MODEL_a3b34118d8b24f4a8de6f5ff9ed71ca9",
        "IPY_MODEL_15b26dd88c174ff2bf54d73b34cf381e",
        "IPY_MODEL_bb66d4f5f80b41b583cb1ca7eefebd41"
       ],
       "layout": "IPY_MODEL_8676748db1c441a0824f36c1d3f767b1"
      }
     },
     "efa8bcd245544097b18d79138d8754ca": {
      "model_module": "@jupyter-widgets/base",
      "model_module_version": "1.2.0",
      "model_name": "LayoutModel",
      "state": {
       "_model_module": "@jupyter-widgets/base",
       "_model_module_version": "1.2.0",
       "_model_name": "LayoutModel",
       "_view_count": null,
       "_view_module": "@jupyter-widgets/base",
       "_view_module_version": "1.2.0",
       "_view_name": "LayoutView",
       "align_content": null,
       "align_items": null,
       "align_self": null,
       "border": null,
       "bottom": null,
       "display": null,
       "flex": null,
       "flex_flow": null,
       "grid_area": null,
       "grid_auto_columns": null,
       "grid_auto_flow": null,
       "grid_auto_rows": null,
       "grid_column": null,
       "grid_gap": null,
       "grid_row": null,
       "grid_template_areas": null,
       "grid_template_columns": null,
       "grid_template_rows": null,
       "height": null,
       "justify_content": null,
       "justify_items": null,
       "left": null,
       "margin": null,
       "max_height": null,
       "max_width": null,
       "min_height": null,
       "min_width": null,
       "object_fit": null,
       "object_position": null,
       "order": null,
       "overflow": null,
       "overflow_x": null,
       "overflow_y": null,
       "padding": null,
       "right": null,
       "top": null,
       "visibility": null,
       "width": null
      }
     },
     "f1a07396d2234742a2f2436df5344894": {
      "model_module": "@jupyter-widgets/controls",
      "model_module_version": "1.5.0",
      "model_name": "DescriptionStyleModel",
      "state": {
       "_model_module": "@jupyter-widgets/controls",
       "_model_module_version": "1.5.0",
       "_model_name": "DescriptionStyleModel",
       "_view_count": null,
       "_view_module": "@jupyter-widgets/base",
       "_view_module_version": "1.2.0",
       "_view_name": "StyleView",
       "description_width": ""
      }
     },
     "f1d65cb3b6e444738cdfbe826fbc39c4": {
      "model_module": "@jupyter-widgets/controls",
      "model_module_version": "1.5.0",
      "model_name": "HBoxModel",
      "state": {
       "_dom_classes": [],
       "_model_module": "@jupyter-widgets/controls",
       "_model_module_version": "1.5.0",
       "_model_name": "HBoxModel",
       "_view_count": null,
       "_view_module": "@jupyter-widgets/controls",
       "_view_module_version": "1.5.0",
       "_view_name": "HBoxView",
       "box_style": "",
       "children": [
        "IPY_MODEL_e644864c3034400ea794e718d9f5cd13",
        "IPY_MODEL_253b914ed4ab4d8188d847c5ad411164",
        "IPY_MODEL_5b4c463c90d34442af6e133c7c4d86c7"
       ],
       "layout": "IPY_MODEL_e256163514114a1ab509bb009b45f64a"
      }
     },
     "f56839e6c3124fca9c7011dabfe08190": {
      "model_module": "@jupyter-widgets/base",
      "model_module_version": "1.2.0",
      "model_name": "LayoutModel",
      "state": {
       "_model_module": "@jupyter-widgets/base",
       "_model_module_version": "1.2.0",
       "_model_name": "LayoutModel",
       "_view_count": null,
       "_view_module": "@jupyter-widgets/base",
       "_view_module_version": "1.2.0",
       "_view_name": "LayoutView",
       "align_content": null,
       "align_items": null,
       "align_self": null,
       "border": null,
       "bottom": null,
       "display": null,
       "flex": null,
       "flex_flow": null,
       "grid_area": null,
       "grid_auto_columns": null,
       "grid_auto_flow": null,
       "grid_auto_rows": null,
       "grid_column": null,
       "grid_gap": null,
       "grid_row": null,
       "grid_template_areas": null,
       "grid_template_columns": null,
       "grid_template_rows": null,
       "height": null,
       "justify_content": null,
       "justify_items": null,
       "left": null,
       "margin": null,
       "max_height": null,
       "max_width": null,
       "min_height": null,
       "min_width": null,
       "object_fit": null,
       "object_position": null,
       "order": null,
       "overflow": null,
       "overflow_x": null,
       "overflow_y": null,
       "padding": null,
       "right": null,
       "top": null,
       "visibility": null,
       "width": null
      }
     },
     "fa361003df064e529a9007f4f052bb02": {
      "model_module": "@jupyter-widgets/base",
      "model_module_version": "1.2.0",
      "model_name": "LayoutModel",
      "state": {
       "_model_module": "@jupyter-widgets/base",
       "_model_module_version": "1.2.0",
       "_model_name": "LayoutModel",
       "_view_count": null,
       "_view_module": "@jupyter-widgets/base",
       "_view_module_version": "1.2.0",
       "_view_name": "LayoutView",
       "align_content": null,
       "align_items": null,
       "align_self": null,
       "border": null,
       "bottom": null,
       "display": null,
       "flex": null,
       "flex_flow": null,
       "grid_area": null,
       "grid_auto_columns": null,
       "grid_auto_flow": null,
       "grid_auto_rows": null,
       "grid_column": null,
       "grid_gap": null,
       "grid_row": null,
       "grid_template_areas": null,
       "grid_template_columns": null,
       "grid_template_rows": null,
       "height": null,
       "justify_content": null,
       "justify_items": null,
       "left": null,
       "margin": null,
       "max_height": null,
       "max_width": null,
       "min_height": null,
       "min_width": null,
       "object_fit": null,
       "object_position": null,
       "order": null,
       "overflow": null,
       "overflow_x": null,
       "overflow_y": null,
       "padding": null,
       "right": null,
       "top": null,
       "visibility": null,
       "width": null
      }
     },
     "fbe65eebea3f40c9a3c3b0a33a65960a": {
      "model_module": "@jupyter-widgets/base",
      "model_module_version": "1.2.0",
      "model_name": "LayoutModel",
      "state": {
       "_model_module": "@jupyter-widgets/base",
       "_model_module_version": "1.2.0",
       "_model_name": "LayoutModel",
       "_view_count": null,
       "_view_module": "@jupyter-widgets/base",
       "_view_module_version": "1.2.0",
       "_view_name": "LayoutView",
       "align_content": null,
       "align_items": null,
       "align_self": null,
       "border": null,
       "bottom": null,
       "display": null,
       "flex": null,
       "flex_flow": null,
       "grid_area": null,
       "grid_auto_columns": null,
       "grid_auto_flow": null,
       "grid_auto_rows": null,
       "grid_column": null,
       "grid_gap": null,
       "grid_row": null,
       "grid_template_areas": null,
       "grid_template_columns": null,
       "grid_template_rows": null,
       "height": null,
       "justify_content": null,
       "justify_items": null,
       "left": null,
       "margin": null,
       "max_height": null,
       "max_width": null,
       "min_height": null,
       "min_width": null,
       "object_fit": null,
       "object_position": null,
       "order": null,
       "overflow": null,
       "overflow_x": null,
       "overflow_y": null,
       "padding": null,
       "right": null,
       "top": null,
       "visibility": null,
       "width": null
      }
     }
    },
    "version_major": 2,
    "version_minor": 0
   }
  }
 },
 "nbformat": 4,
 "nbformat_minor": 5
}
